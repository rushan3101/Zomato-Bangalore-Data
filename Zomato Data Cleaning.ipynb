{
 "cells": [
  {
   "cell_type": "markdown",
   "id": "d448cc9b-8520-427a-89a6-9a2c2dea3bb2",
   "metadata": {},
   "source": [
    "# Zomato Bangalore Restaurants Data Cleaning"
   ]
  },
  {
   "cell_type": "markdown",
   "id": "8ac20eaf-f426-4433-b97e-2a37dde47e1c",
   "metadata": {},
   "source": [
    "**Importing Libraries**"
   ]
  },
  {
   "cell_type": "code",
   "execution_count": 1,
   "id": "1c72c574-bbfe-4b9f-92d8-160028db6008",
   "metadata": {},
   "outputs": [],
   "source": [
    "import numpy as np\n",
    "import pandas as pd\n",
    "import matplotlib.pyplot as plt\n",
    "import seaborn as sns\n",
    "import plotly.express as px"
   ]
  },
  {
   "cell_type": "markdown",
   "id": "ff0382ab-b865-4177-841d-5748555668ab",
   "metadata": {},
   "source": [
    "**Reading Data**"
   ]
  },
  {
   "cell_type": "code",
   "execution_count": 2,
   "id": "a77c44e8-c9e6-4157-a7e0-c7b5625c0362",
   "metadata": {},
   "outputs": [
    {
     "data": {
      "text/html": [
       "<div>\n",
       "<style scoped>\n",
       "    .dataframe tbody tr th:only-of-type {\n",
       "        vertical-align: middle;\n",
       "    }\n",
       "\n",
       "    .dataframe tbody tr th {\n",
       "        vertical-align: top;\n",
       "    }\n",
       "\n",
       "    .dataframe thead th {\n",
       "        text-align: right;\n",
       "    }\n",
       "</style>\n",
       "<table border=\"1\" class=\"dataframe\">\n",
       "  <thead>\n",
       "    <tr style=\"text-align: right;\">\n",
       "      <th></th>\n",
       "      <th>url</th>\n",
       "      <th>address</th>\n",
       "      <th>name</th>\n",
       "      <th>online_order</th>\n",
       "      <th>book_table</th>\n",
       "      <th>rate</th>\n",
       "      <th>votes</th>\n",
       "      <th>phone</th>\n",
       "      <th>location</th>\n",
       "      <th>rest_type</th>\n",
       "      <th>dish_liked</th>\n",
       "      <th>cuisines</th>\n",
       "      <th>approx_cost(for two people)</th>\n",
       "      <th>reviews_list</th>\n",
       "      <th>menu_item</th>\n",
       "      <th>listed_in(type)</th>\n",
       "      <th>listed_in(city)</th>\n",
       "    </tr>\n",
       "  </thead>\n",
       "  <tbody>\n",
       "    <tr>\n",
       "      <th>0</th>\n",
       "      <td>https://www.zomato.com/bangalore/jalsa-banasha...</td>\n",
       "      <td>942, 21st Main Road, 2nd Stage, Banashankari, ...</td>\n",
       "      <td>Jalsa</td>\n",
       "      <td>Yes</td>\n",
       "      <td>Yes</td>\n",
       "      <td>4.1/5</td>\n",
       "      <td>775</td>\n",
       "      <td>080 42297555\\r\\n+91 9743772233</td>\n",
       "      <td>Banashankari</td>\n",
       "      <td>Casual Dining</td>\n",
       "      <td>Pasta, Lunch Buffet, Masala Papad, Paneer Laja...</td>\n",
       "      <td>North Indian, Mughlai, Chinese</td>\n",
       "      <td>800</td>\n",
       "      <td>[('Rated 4.0', 'RATED\\n  A beautiful place to ...</td>\n",
       "      <td>[]</td>\n",
       "      <td>Buffet</td>\n",
       "      <td>Banashankari</td>\n",
       "    </tr>\n",
       "    <tr>\n",
       "      <th>1</th>\n",
       "      <td>https://www.zomato.com/bangalore/spice-elephan...</td>\n",
       "      <td>2nd Floor, 80 Feet Road, Near Big Bazaar, 6th ...</td>\n",
       "      <td>Spice Elephant</td>\n",
       "      <td>Yes</td>\n",
       "      <td>No</td>\n",
       "      <td>4.1/5</td>\n",
       "      <td>787</td>\n",
       "      <td>080 41714161</td>\n",
       "      <td>Banashankari</td>\n",
       "      <td>Casual Dining</td>\n",
       "      <td>Momos, Lunch Buffet, Chocolate Nirvana, Thai G...</td>\n",
       "      <td>Chinese, North Indian, Thai</td>\n",
       "      <td>800</td>\n",
       "      <td>[('Rated 4.0', 'RATED\\n  Had been here for din...</td>\n",
       "      <td>[]</td>\n",
       "      <td>Buffet</td>\n",
       "      <td>Banashankari</td>\n",
       "    </tr>\n",
       "    <tr>\n",
       "      <th>2</th>\n",
       "      <td>https://www.zomato.com/SanchurroBangalore?cont...</td>\n",
       "      <td>1112, Next to KIMS Medical College, 17th Cross...</td>\n",
       "      <td>San Churro Cafe</td>\n",
       "      <td>Yes</td>\n",
       "      <td>No</td>\n",
       "      <td>3.8/5</td>\n",
       "      <td>918</td>\n",
       "      <td>+91 9663487993</td>\n",
       "      <td>Banashankari</td>\n",
       "      <td>Cafe, Casual Dining</td>\n",
       "      <td>Churros, Cannelloni, Minestrone Soup, Hot Choc...</td>\n",
       "      <td>Cafe, Mexican, Italian</td>\n",
       "      <td>800</td>\n",
       "      <td>[('Rated 3.0', \"RATED\\n  Ambience is not that ...</td>\n",
       "      <td>[]</td>\n",
       "      <td>Buffet</td>\n",
       "      <td>Banashankari</td>\n",
       "    </tr>\n",
       "    <tr>\n",
       "      <th>3</th>\n",
       "      <td>https://www.zomato.com/bangalore/addhuri-udupi...</td>\n",
       "      <td>1st Floor, Annakuteera, 3rd Stage, Banashankar...</td>\n",
       "      <td>Addhuri Udupi Bhojana</td>\n",
       "      <td>No</td>\n",
       "      <td>No</td>\n",
       "      <td>3.7/5</td>\n",
       "      <td>88</td>\n",
       "      <td>+91 9620009302</td>\n",
       "      <td>Banashankari</td>\n",
       "      <td>Quick Bites</td>\n",
       "      <td>Masala Dosa</td>\n",
       "      <td>South Indian, North Indian</td>\n",
       "      <td>300</td>\n",
       "      <td>[('Rated 4.0', \"RATED\\n  Great food and proper...</td>\n",
       "      <td>[]</td>\n",
       "      <td>Buffet</td>\n",
       "      <td>Banashankari</td>\n",
       "    </tr>\n",
       "    <tr>\n",
       "      <th>4</th>\n",
       "      <td>https://www.zomato.com/bangalore/grand-village...</td>\n",
       "      <td>10, 3rd Floor, Lakshmi Associates, Gandhi Baza...</td>\n",
       "      <td>Grand Village</td>\n",
       "      <td>No</td>\n",
       "      <td>No</td>\n",
       "      <td>3.8/5</td>\n",
       "      <td>166</td>\n",
       "      <td>+91 8026612447\\r\\n+91 9901210005</td>\n",
       "      <td>Basavanagudi</td>\n",
       "      <td>Casual Dining</td>\n",
       "      <td>Panipuri, Gol Gappe</td>\n",
       "      <td>North Indian, Rajasthani</td>\n",
       "      <td>600</td>\n",
       "      <td>[('Rated 4.0', 'RATED\\n  Very good restaurant ...</td>\n",
       "      <td>[]</td>\n",
       "      <td>Buffet</td>\n",
       "      <td>Banashankari</td>\n",
       "    </tr>\n",
       "  </tbody>\n",
       "</table>\n",
       "</div>"
      ],
      "text/plain": [
       "                                                 url  \\\n",
       "0  https://www.zomato.com/bangalore/jalsa-banasha...   \n",
       "1  https://www.zomato.com/bangalore/spice-elephan...   \n",
       "2  https://www.zomato.com/SanchurroBangalore?cont...   \n",
       "3  https://www.zomato.com/bangalore/addhuri-udupi...   \n",
       "4  https://www.zomato.com/bangalore/grand-village...   \n",
       "\n",
       "                                             address                   name  \\\n",
       "0  942, 21st Main Road, 2nd Stage, Banashankari, ...                  Jalsa   \n",
       "1  2nd Floor, 80 Feet Road, Near Big Bazaar, 6th ...         Spice Elephant   \n",
       "2  1112, Next to KIMS Medical College, 17th Cross...        San Churro Cafe   \n",
       "3  1st Floor, Annakuteera, 3rd Stage, Banashankar...  Addhuri Udupi Bhojana   \n",
       "4  10, 3rd Floor, Lakshmi Associates, Gandhi Baza...          Grand Village   \n",
       "\n",
       "  online_order book_table   rate  votes                             phone  \\\n",
       "0          Yes        Yes  4.1/5    775    080 42297555\\r\\n+91 9743772233   \n",
       "1          Yes         No  4.1/5    787                      080 41714161   \n",
       "2          Yes         No  3.8/5    918                    +91 9663487993   \n",
       "3           No         No  3.7/5     88                    +91 9620009302   \n",
       "4           No         No  3.8/5    166  +91 8026612447\\r\\n+91 9901210005   \n",
       "\n",
       "       location            rest_type  \\\n",
       "0  Banashankari        Casual Dining   \n",
       "1  Banashankari        Casual Dining   \n",
       "2  Banashankari  Cafe, Casual Dining   \n",
       "3  Banashankari          Quick Bites   \n",
       "4  Basavanagudi        Casual Dining   \n",
       "\n",
       "                                          dish_liked  \\\n",
       "0  Pasta, Lunch Buffet, Masala Papad, Paneer Laja...   \n",
       "1  Momos, Lunch Buffet, Chocolate Nirvana, Thai G...   \n",
       "2  Churros, Cannelloni, Minestrone Soup, Hot Choc...   \n",
       "3                                        Masala Dosa   \n",
       "4                                Panipuri, Gol Gappe   \n",
       "\n",
       "                         cuisines approx_cost(for two people)  \\\n",
       "0  North Indian, Mughlai, Chinese                         800   \n",
       "1     Chinese, North Indian, Thai                         800   \n",
       "2          Cafe, Mexican, Italian                         800   \n",
       "3      South Indian, North Indian                         300   \n",
       "4        North Indian, Rajasthani                         600   \n",
       "\n",
       "                                        reviews_list menu_item  \\\n",
       "0  [('Rated 4.0', 'RATED\\n  A beautiful place to ...        []   \n",
       "1  [('Rated 4.0', 'RATED\\n  Had been here for din...        []   \n",
       "2  [('Rated 3.0', \"RATED\\n  Ambience is not that ...        []   \n",
       "3  [('Rated 4.0', \"RATED\\n  Great food and proper...        []   \n",
       "4  [('Rated 4.0', 'RATED\\n  Very good restaurant ...        []   \n",
       "\n",
       "  listed_in(type) listed_in(city)  \n",
       "0          Buffet    Banashankari  \n",
       "1          Buffet    Banashankari  \n",
       "2          Buffet    Banashankari  \n",
       "3          Buffet    Banashankari  \n",
       "4          Buffet    Banashankari  "
      ]
     },
     "execution_count": 2,
     "metadata": {},
     "output_type": "execute_result"
    }
   ],
   "source": [
    "df = pd.read_csv(\"zomato.csv\")\n",
    "df.head()"
   ]
  },
  {
   "cell_type": "code",
   "execution_count": 3,
   "id": "527f16ef-6b1f-44a6-a956-ea171cb6a249",
   "metadata": {},
   "outputs": [
    {
     "data": {
      "text/html": [
       "<div>\n",
       "<style scoped>\n",
       "    .dataframe tbody tr th:only-of-type {\n",
       "        vertical-align: middle;\n",
       "    }\n",
       "\n",
       "    .dataframe tbody tr th {\n",
       "        vertical-align: top;\n",
       "    }\n",
       "\n",
       "    .dataframe thead th {\n",
       "        text-align: right;\n",
       "    }\n",
       "</style>\n",
       "<table border=\"1\" class=\"dataframe\">\n",
       "  <thead>\n",
       "    <tr style=\"text-align: right;\">\n",
       "      <th></th>\n",
       "      <th>url</th>\n",
       "      <th>address</th>\n",
       "      <th>name</th>\n",
       "      <th>online_order</th>\n",
       "      <th>book_table</th>\n",
       "      <th>rate</th>\n",
       "      <th>votes</th>\n",
       "      <th>phone</th>\n",
       "      <th>location</th>\n",
       "      <th>rest_type</th>\n",
       "      <th>dish_liked</th>\n",
       "      <th>cuisines</th>\n",
       "      <th>approx_cost(for two people)</th>\n",
       "      <th>reviews_list</th>\n",
       "      <th>menu_item</th>\n",
       "      <th>listed_in(type)</th>\n",
       "      <th>listed_in(city)</th>\n",
       "    </tr>\n",
       "  </thead>\n",
       "  <tbody>\n",
       "    <tr>\n",
       "      <th>51712</th>\n",
       "      <td>https://www.zomato.com/bangalore/best-brews-fo...</td>\n",
       "      <td>Four Points by Sheraton Bengaluru, 43/3, White...</td>\n",
       "      <td>Best Brews - Four Points by Sheraton Bengaluru...</td>\n",
       "      <td>No</td>\n",
       "      <td>No</td>\n",
       "      <td>3.6 /5</td>\n",
       "      <td>27</td>\n",
       "      <td>080 40301477</td>\n",
       "      <td>Whitefield</td>\n",
       "      <td>Bar</td>\n",
       "      <td>NaN</td>\n",
       "      <td>Continental</td>\n",
       "      <td>1,500</td>\n",
       "      <td>[('Rated 5.0', \"RATED\\n  Food and service are ...</td>\n",
       "      <td>[]</td>\n",
       "      <td>Pubs and bars</td>\n",
       "      <td>Whitefield</td>\n",
       "    </tr>\n",
       "    <tr>\n",
       "      <th>51713</th>\n",
       "      <td>https://www.zomato.com/bangalore/vinod-bar-and...</td>\n",
       "      <td>Number 10, Garudachar Palya, Mahadevapura, Whi...</td>\n",
       "      <td>Vinod Bar And Restaurant</td>\n",
       "      <td>No</td>\n",
       "      <td>No</td>\n",
       "      <td>NaN</td>\n",
       "      <td>0</td>\n",
       "      <td>+91 8197675843</td>\n",
       "      <td>Whitefield</td>\n",
       "      <td>Bar</td>\n",
       "      <td>NaN</td>\n",
       "      <td>Finger Food</td>\n",
       "      <td>600</td>\n",
       "      <td>[]</td>\n",
       "      <td>[]</td>\n",
       "      <td>Pubs and bars</td>\n",
       "      <td>Whitefield</td>\n",
       "    </tr>\n",
       "    <tr>\n",
       "      <th>51714</th>\n",
       "      <td>https://www.zomato.com/bangalore/plunge-sherat...</td>\n",
       "      <td>Sheraton Grand Bengaluru Whitefield Hotel &amp; Co...</td>\n",
       "      <td>Plunge - Sheraton Grand Bengaluru Whitefield H...</td>\n",
       "      <td>No</td>\n",
       "      <td>No</td>\n",
       "      <td>NaN</td>\n",
       "      <td>0</td>\n",
       "      <td>NaN</td>\n",
       "      <td>Whitefield</td>\n",
       "      <td>Bar</td>\n",
       "      <td>NaN</td>\n",
       "      <td>Finger Food</td>\n",
       "      <td>2,000</td>\n",
       "      <td>[]</td>\n",
       "      <td>[]</td>\n",
       "      <td>Pubs and bars</td>\n",
       "      <td>Whitefield</td>\n",
       "    </tr>\n",
       "    <tr>\n",
       "      <th>51715</th>\n",
       "      <td>https://www.zomato.com/bangalore/chime-sherato...</td>\n",
       "      <td>Sheraton Grand Bengaluru Whitefield Hotel &amp; Co...</td>\n",
       "      <td>Chime - Sheraton Grand Bengaluru Whitefield Ho...</td>\n",
       "      <td>No</td>\n",
       "      <td>Yes</td>\n",
       "      <td>4.3 /5</td>\n",
       "      <td>236</td>\n",
       "      <td>080 49652769</td>\n",
       "      <td>ITPL Main Road, Whitefield</td>\n",
       "      <td>Bar</td>\n",
       "      <td>Cocktails, Pizza, Buttermilk</td>\n",
       "      <td>Finger Food</td>\n",
       "      <td>2,500</td>\n",
       "      <td>[('Rated 4.0', 'RATED\\n  Nice and friendly pla...</td>\n",
       "      <td>[]</td>\n",
       "      <td>Pubs and bars</td>\n",
       "      <td>Whitefield</td>\n",
       "    </tr>\n",
       "    <tr>\n",
       "      <th>51716</th>\n",
       "      <td>https://www.zomato.com/bangalore/the-nest-the-...</td>\n",
       "      <td>ITPL Main Road, KIADB Export Promotion Industr...</td>\n",
       "      <td>The Nest - The Den Bengaluru</td>\n",
       "      <td>No</td>\n",
       "      <td>No</td>\n",
       "      <td>3.4 /5</td>\n",
       "      <td>13</td>\n",
       "      <td>+91 8071117272</td>\n",
       "      <td>ITPL Main Road, Whitefield</td>\n",
       "      <td>Bar, Casual Dining</td>\n",
       "      <td>NaN</td>\n",
       "      <td>Finger Food, North Indian, Continental</td>\n",
       "      <td>1,500</td>\n",
       "      <td>[('Rated 5.0', 'RATED\\n  Great ambience , look...</td>\n",
       "      <td>[]</td>\n",
       "      <td>Pubs and bars</td>\n",
       "      <td>Whitefield</td>\n",
       "    </tr>\n",
       "  </tbody>\n",
       "</table>\n",
       "</div>"
      ],
      "text/plain": [
       "                                                     url  \\\n",
       "51712  https://www.zomato.com/bangalore/best-brews-fo...   \n",
       "51713  https://www.zomato.com/bangalore/vinod-bar-and...   \n",
       "51714  https://www.zomato.com/bangalore/plunge-sherat...   \n",
       "51715  https://www.zomato.com/bangalore/chime-sherato...   \n",
       "51716  https://www.zomato.com/bangalore/the-nest-the-...   \n",
       "\n",
       "                                                 address  \\\n",
       "51712  Four Points by Sheraton Bengaluru, 43/3, White...   \n",
       "51713  Number 10, Garudachar Palya, Mahadevapura, Whi...   \n",
       "51714  Sheraton Grand Bengaluru Whitefield Hotel & Co...   \n",
       "51715  Sheraton Grand Bengaluru Whitefield Hotel & Co...   \n",
       "51716  ITPL Main Road, KIADB Export Promotion Industr...   \n",
       "\n",
       "                                                    name online_order  \\\n",
       "51712  Best Brews - Four Points by Sheraton Bengaluru...           No   \n",
       "51713                           Vinod Bar And Restaurant           No   \n",
       "51714  Plunge - Sheraton Grand Bengaluru Whitefield H...           No   \n",
       "51715  Chime - Sheraton Grand Bengaluru Whitefield Ho...           No   \n",
       "51716                       The Nest - The Den Bengaluru           No   \n",
       "\n",
       "      book_table    rate  votes           phone                    location  \\\n",
       "51712         No  3.6 /5     27    080 40301477                  Whitefield   \n",
       "51713         No     NaN      0  +91 8197675843                  Whitefield   \n",
       "51714         No     NaN      0             NaN                  Whitefield   \n",
       "51715        Yes  4.3 /5    236    080 49652769  ITPL Main Road, Whitefield   \n",
       "51716         No  3.4 /5     13  +91 8071117272  ITPL Main Road, Whitefield   \n",
       "\n",
       "                rest_type                    dish_liked  \\\n",
       "51712                 Bar                           NaN   \n",
       "51713                 Bar                           NaN   \n",
       "51714                 Bar                           NaN   \n",
       "51715                 Bar  Cocktails, Pizza, Buttermilk   \n",
       "51716  Bar, Casual Dining                           NaN   \n",
       "\n",
       "                                     cuisines approx_cost(for two people)  \\\n",
       "51712                             Continental                       1,500   \n",
       "51713                             Finger Food                         600   \n",
       "51714                             Finger Food                       2,000   \n",
       "51715                             Finger Food                       2,500   \n",
       "51716  Finger Food, North Indian, Continental                       1,500   \n",
       "\n",
       "                                            reviews_list menu_item  \\\n",
       "51712  [('Rated 5.0', \"RATED\\n  Food and service are ...        []   \n",
       "51713                                                 []        []   \n",
       "51714                                                 []        []   \n",
       "51715  [('Rated 4.0', 'RATED\\n  Nice and friendly pla...        []   \n",
       "51716  [('Rated 5.0', 'RATED\\n  Great ambience , look...        []   \n",
       "\n",
       "      listed_in(type) listed_in(city)  \n",
       "51712   Pubs and bars      Whitefield  \n",
       "51713   Pubs and bars      Whitefield  \n",
       "51714   Pubs and bars      Whitefield  \n",
       "51715   Pubs and bars      Whitefield  \n",
       "51716   Pubs and bars      Whitefield  "
      ]
     },
     "execution_count": 3,
     "metadata": {},
     "output_type": "execute_result"
    }
   ],
   "source": [
    "df.tail()"
   ]
  },
  {
   "cell_type": "markdown",
   "id": "11dcb67e-4521-48d3-9dfe-1c9daf23247e",
   "metadata": {},
   "source": [
    "## **Data Cleaning**"
   ]
  },
  {
   "cell_type": "code",
   "execution_count": 4,
   "id": "3863efd8-378b-4f60-9f5e-fb671788bceb",
   "metadata": {
    "scrolled": true
   },
   "outputs": [
    {
     "name": "stdout",
     "output_type": "stream",
     "text": [
      "<class 'pandas.core.frame.DataFrame'>\n",
      "RangeIndex: 51717 entries, 0 to 51716\n",
      "Data columns (total 17 columns):\n",
      " #   Column                       Non-Null Count  Dtype \n",
      "---  ------                       --------------  ----- \n",
      " 0   url                          51717 non-null  object\n",
      " 1   address                      51717 non-null  object\n",
      " 2   name                         51717 non-null  object\n",
      " 3   online_order                 51717 non-null  object\n",
      " 4   book_table                   51717 non-null  object\n",
      " 5   rate                         43942 non-null  object\n",
      " 6   votes                        51717 non-null  int64 \n",
      " 7   phone                        50509 non-null  object\n",
      " 8   location                     51696 non-null  object\n",
      " 9   rest_type                    51490 non-null  object\n",
      " 10  dish_liked                   23639 non-null  object\n",
      " 11  cuisines                     51672 non-null  object\n",
      " 12  approx_cost(for two people)  51371 non-null  object\n",
      " 13  reviews_list                 51717 non-null  object\n",
      " 14  menu_item                    51717 non-null  object\n",
      " 15  listed_in(type)              51717 non-null  object\n",
      " 16  listed_in(city)              51717 non-null  object\n",
      "dtypes: int64(1), object(16)\n",
      "memory usage: 6.7+ MB\n"
     ]
    }
   ],
   "source": [
    "df.info()"
   ]
  },
  {
   "cell_type": "code",
   "execution_count": 5,
   "id": "08dd657a-1abe-4a27-91d8-4c8287249bfa",
   "metadata": {},
   "outputs": [
    {
     "data": {
      "text/plain": [
       "url                            51717\n",
       "address                        11495\n",
       "name                            8792\n",
       "online_order                       2\n",
       "book_table                         2\n",
       "rate                              64\n",
       "votes                           2328\n",
       "phone                          14926\n",
       "location                          93\n",
       "rest_type                         93\n",
       "dish_liked                      5271\n",
       "cuisines                        2723\n",
       "approx_cost(for two people)       70\n",
       "reviews_list                   22513\n",
       "menu_item                       9098\n",
       "listed_in(type)                    7\n",
       "listed_in(city)                   30\n",
       "dtype: int64"
      ]
     },
     "execution_count": 5,
     "metadata": {},
     "output_type": "execute_result"
    }
   ],
   "source": [
    "df.nunique()"
   ]
  },
  {
   "cell_type": "markdown",
   "id": "d7075d2f-095a-40cd-a077-cdd8343f8077",
   "metadata": {
    "jp-MarkdownHeadingCollapsed": true
   },
   "source": [
    "### **Fixing url column values**"
   ]
  },
  {
   "cell_type": "code",
   "execution_count": 6,
   "id": "19bee0fd-f609-450d-ae3a-6f1417f09efc",
   "metadata": {},
   "outputs": [
    {
     "data": {
      "text/plain": [
       "array(['https://www.zomato.com/bangalore/jalsa-banashankari?context=eyJzZSI6eyJlIjpbNTg2OTQsIjE4Mzc1NDc0IiwiNTkwOTAiLCIxODM4Mjk0NCIsIjE4MjI0Njc2IiwiNTkyODkiLCIxODM3MzM4NiJdLCJ0IjoiUmVzdGF1cmFudHMgaW4gQmFuYXNoYW5rYXJpIHNlcnZpbmcgQnVmZmV0In19',\n",
       "       'https://www.zomato.com/bangalore/spice-elephant-banashankari?context=eyJzZSI6eyJlIjpbIjU4Njk0IiwxODM3NTQ3NCwiNTkwOTAiLCIxODM4Mjk0NCIsIjE4MjI0Njc2IiwiNTkyODkiLCIxODM3MzM4NiJdLCJ0IjoiUmVzdGF1cmFudHMgaW4gQmFuYXNoYW5rYXJpIHNlcnZpbmcgQnVmZmV0In19',\n",
       "       'https://www.zomato.com/SanchurroBangalore?context=eyJzZSI6eyJlIjpbIjU4Njk0IiwiMTgzNzU0NzQiLDU5MDkwLCIxODM4Mjk0NCIsIjE4MjI0Njc2IiwiNTkyODkiLCIxODM3MzM4NiJdLCJ0IjoiUmVzdGF1cmFudHMgaW4gQmFuYXNoYW5rYXJpIHNlcnZpbmcgQnVmZmV0In19',\n",
       "       'https://www.zomato.com/bangalore/addhuri-udupi-bhojana-banashankari?context=eyJzZSI6eyJlIjpbIjU4Njk0IiwiMTgzNzU0NzQiLCI1OTA5MCIsMTgzODI5NDQsIjE4MjI0Njc2IiwiNTkyODkiLCIxODM3MzM4NiJdLCJ0IjoiUmVzdGF1cmFudHMgaW4gQmFuYXNoYW5rYXJpIHNlcnZpbmcgQnVmZmV0In19',\n",
       "       'https://www.zomato.com/bangalore/grand-village-basavanagudi?context=eyJzZSI6eyJlIjpbIjU4Njk0IiwiMTgzNzU0NzQiLCI1OTA5MCIsIjE4MzgyOTQ0IiwxODIyNDY3NiwiNTkyODkiLCIxODM3MzM4NiJdLCJ0IjoiUmVzdGF1cmFudHMgaW4gQmFuYXNoYW5rYXJpIHNlcnZpbmcgQnVmZmV0In19'],\n",
       "      dtype=object)"
      ]
     },
     "execution_count": 6,
     "metadata": {},
     "output_type": "execute_result"
    }
   ],
   "source": [
    "df.url.values[:5]"
   ]
  },
  {
   "cell_type": "markdown",
   "id": "9822482f-b477-458d-9b0e-0b269dc4921d",
   "metadata": {},
   "source": [
    "*Every url column values has a context parameter which made even the same url unique*\\\n",
    "*Removing this context paramter*"
   ]
  },
  {
   "cell_type": "code",
   "execution_count": 7,
   "id": "c90c16ee-e796-42e5-bef8-4145d2544870",
   "metadata": {},
   "outputs": [],
   "source": [
    "df['url'] = df.url.str.split('?',expand=True)[0]"
   ]
  },
  {
   "cell_type": "code",
   "execution_count": 8,
   "id": "31de9ee1-9459-4f0d-b13c-346eb6b30dce",
   "metadata": {},
   "outputs": [
    {
     "data": {
      "text/plain": [
       "array(['https://www.zomato.com/bangalore/jalsa-banashankari',\n",
       "       'https://www.zomato.com/bangalore/spice-elephant-banashankari',\n",
       "       'https://www.zomato.com/SanchurroBangalore',\n",
       "       'https://www.zomato.com/bangalore/addhuri-udupi-bhojana-banashankari',\n",
       "       'https://www.zomato.com/bangalore/grand-village-basavanagudi'],\n",
       "      dtype=object)"
      ]
     },
     "execution_count": 8,
     "metadata": {},
     "output_type": "execute_result"
    }
   ],
   "source": [
    "df.url.values[:5]"
   ]
  },
  {
   "cell_type": "code",
   "execution_count": 9,
   "id": "961e277a-8c75-4181-967e-0d73b4672fe7",
   "metadata": {},
   "outputs": [
    {
     "data": {
      "text/plain": [
       "12453"
      ]
     },
     "execution_count": 9,
     "metadata": {},
     "output_type": "execute_result"
    }
   ],
   "source": [
    "df.url.nunique()"
   ]
  },
  {
   "cell_type": "markdown",
   "id": "7decf11f-05de-4445-b189-db1ddad09ec3",
   "metadata": {},
   "source": [
    "*Many Restaurants are occuring in more than one row*"
   ]
  },
  {
   "cell_type": "markdown",
   "id": "267c3503-3550-4232-bf46-0dd93a1a4ab9",
   "metadata": {
    "jp-MarkdownHeadingCollapsed": true
   },
   "source": [
    "### **name**"
   ]
  },
  {
   "cell_type": "code",
   "execution_count": 10,
   "id": "abd158d4-aa89-4449-af90-7182e61504e1",
   "metadata": {},
   "outputs": [
    {
     "data": {
      "text/plain": [
       "name\n",
       "Cafe Coffee Day                                            96\n",
       "Onesta                                                     85\n",
       "Just Bake                                                  73\n",
       "Empire Restaurant                                          71\n",
       "Five Star Chicken                                          70\n",
       "                                                           ..\n",
       "Natis                                                       1\n",
       "Shreyas                                                     1\n",
       "Vishwas Kabab Centre                                        1\n",
       "Taj Biryani Centre                                          1\n",
       "Plunge - Sheraton Grand Bengaluru Whitefield Hotel &...     1\n",
       "Name: count, Length: 8792, dtype: int64"
      ]
     },
     "execution_count": 10,
     "metadata": {},
     "output_type": "execute_result"
    }
   ],
   "source": [
    "df.name.value_counts()"
   ]
  },
  {
   "cell_type": "markdown",
   "id": "77741951-f054-4585-82e2-c677df34cf7f",
   "metadata": {},
   "source": [
    "*Many of the Restaurant has multiple rows indicating multiple branches*"
   ]
  },
  {
   "cell_type": "markdown",
   "id": "353496f2-fa2e-4b5e-a8b9-923946af21ea",
   "metadata": {
    "jp-MarkdownHeadingCollapsed": true
   },
   "source": [
    "### **Phone**"
   ]
  },
  {
   "cell_type": "markdown",
   "id": "1bbc6c54-a864-4519-bbb8-5ba4e30caf79",
   "metadata": {},
   "source": [
    "**Dropping Phone Column as it is not needed for the data analysis** "
   ]
  },
  {
   "cell_type": "code",
   "execution_count": 11,
   "id": "ebd4b85c-c304-49b9-a00d-a997336bf44a",
   "metadata": {},
   "outputs": [],
   "source": [
    "df.drop(\"phone\",axis=1,inplace=True)"
   ]
  },
  {
   "cell_type": "markdown",
   "id": "3e81b4b1-612a-40d3-adac-da75f6fd94e0",
   "metadata": {
    "jp-MarkdownHeadingCollapsed": true
   },
   "source": [
    "### **menu_list and reviews_list**"
   ]
  },
  {
   "cell_type": "markdown",
   "id": "9bfff2b3-4623-460e-9b47-0dbebd08cd59",
   "metadata": {},
   "source": [
    "**Transforming empty list values in menu_list and reviews_list columns to null**"
   ]
  },
  {
   "cell_type": "code",
   "execution_count": 12,
   "id": "9ecc0ab4-ce04-46e8-a88e-e4d795216030",
   "metadata": {},
   "outputs": [],
   "source": [
    "df[\"menu_item\"] = df.menu_item.replace(\"[]\",np.nan)\n",
    "df[\"reviews_list\"] = df.reviews_list.replace(\"[]\",np.nan)"
   ]
  },
  {
   "cell_type": "code",
   "execution_count": 13,
   "id": "1ff37c6b-903b-4f4e-a435-673e28bba8ee",
   "metadata": {
    "scrolled": true
   },
   "outputs": [
    {
     "data": {
      "text/plain": [
       "url                                0\n",
       "address                            0\n",
       "name                               0\n",
       "online_order                       0\n",
       "book_table                         0\n",
       "rate                            7775\n",
       "votes                              0\n",
       "location                          21\n",
       "rest_type                        227\n",
       "dish_liked                     28078\n",
       "cuisines                          45\n",
       "approx_cost(for two people)      346\n",
       "reviews_list                    7595\n",
       "menu_item                      39617\n",
       "listed_in(type)                    0\n",
       "listed_in(city)                    0\n",
       "dtype: int64"
      ]
     },
     "execution_count": 13,
     "metadata": {},
     "output_type": "execute_result"
    }
   ],
   "source": [
    "df.isnull().sum()"
   ]
  },
  {
   "cell_type": "markdown",
   "id": "d6a0bafe-3494-423d-b650-eb1a2ab1c4f6",
   "metadata": {},
   "source": [
    "**Dropping dish_liked and menu_item columns as they have more than 50% values as null values**"
   ]
  },
  {
   "cell_type": "code",
   "execution_count": 14,
   "id": "a108763c-33af-4ffb-9341-12d863e5527c",
   "metadata": {},
   "outputs": [],
   "source": [
    "df.drop([\"dish_liked\",\"menu_item\"],axis=1,inplace=True)"
   ]
  },
  {
   "cell_type": "code",
   "execution_count": 15,
   "id": "7e04e0b6-446f-40a7-8ede-2c3d2399ff80",
   "metadata": {
    "scrolled": true
   },
   "outputs": [
    {
     "data": {
      "text/html": [
       "<div>\n",
       "<style scoped>\n",
       "    .dataframe tbody tr th:only-of-type {\n",
       "        vertical-align: middle;\n",
       "    }\n",
       "\n",
       "    .dataframe tbody tr th {\n",
       "        vertical-align: top;\n",
       "    }\n",
       "\n",
       "    .dataframe thead th {\n",
       "        text-align: right;\n",
       "    }\n",
       "</style>\n",
       "<table border=\"1\" class=\"dataframe\">\n",
       "  <thead>\n",
       "    <tr style=\"text-align: right;\">\n",
       "      <th></th>\n",
       "      <th>url</th>\n",
       "      <th>address</th>\n",
       "      <th>name</th>\n",
       "      <th>online_order</th>\n",
       "      <th>book_table</th>\n",
       "      <th>rate</th>\n",
       "      <th>votes</th>\n",
       "      <th>location</th>\n",
       "      <th>rest_type</th>\n",
       "      <th>cuisines</th>\n",
       "      <th>approx_cost(for two people)</th>\n",
       "      <th>reviews_list</th>\n",
       "      <th>listed_in(type)</th>\n",
       "      <th>listed_in(city)</th>\n",
       "    </tr>\n",
       "  </thead>\n",
       "  <tbody>\n",
       "    <tr>\n",
       "      <th>0</th>\n",
       "      <td>https://www.zomato.com/bangalore/jalsa-banasha...</td>\n",
       "      <td>942, 21st Main Road, 2nd Stage, Banashankari, ...</td>\n",
       "      <td>Jalsa</td>\n",
       "      <td>Yes</td>\n",
       "      <td>Yes</td>\n",
       "      <td>4.1/5</td>\n",
       "      <td>775</td>\n",
       "      <td>Banashankari</td>\n",
       "      <td>Casual Dining</td>\n",
       "      <td>North Indian, Mughlai, Chinese</td>\n",
       "      <td>800</td>\n",
       "      <td>[('Rated 4.0', 'RATED\\n  A beautiful place to ...</td>\n",
       "      <td>Buffet</td>\n",
       "      <td>Banashankari</td>\n",
       "    </tr>\n",
       "    <tr>\n",
       "      <th>1</th>\n",
       "      <td>https://www.zomato.com/bangalore/spice-elephan...</td>\n",
       "      <td>2nd Floor, 80 Feet Road, Near Big Bazaar, 6th ...</td>\n",
       "      <td>Spice Elephant</td>\n",
       "      <td>Yes</td>\n",
       "      <td>No</td>\n",
       "      <td>4.1/5</td>\n",
       "      <td>787</td>\n",
       "      <td>Banashankari</td>\n",
       "      <td>Casual Dining</td>\n",
       "      <td>Chinese, North Indian, Thai</td>\n",
       "      <td>800</td>\n",
       "      <td>[('Rated 4.0', 'RATED\\n  Had been here for din...</td>\n",
       "      <td>Buffet</td>\n",
       "      <td>Banashankari</td>\n",
       "    </tr>\n",
       "    <tr>\n",
       "      <th>2</th>\n",
       "      <td>https://www.zomato.com/SanchurroBangalore</td>\n",
       "      <td>1112, Next to KIMS Medical College, 17th Cross...</td>\n",
       "      <td>San Churro Cafe</td>\n",
       "      <td>Yes</td>\n",
       "      <td>No</td>\n",
       "      <td>3.8/5</td>\n",
       "      <td>918</td>\n",
       "      <td>Banashankari</td>\n",
       "      <td>Cafe, Casual Dining</td>\n",
       "      <td>Cafe, Mexican, Italian</td>\n",
       "      <td>800</td>\n",
       "      <td>[('Rated 3.0', \"RATED\\n  Ambience is not that ...</td>\n",
       "      <td>Buffet</td>\n",
       "      <td>Banashankari</td>\n",
       "    </tr>\n",
       "    <tr>\n",
       "      <th>3</th>\n",
       "      <td>https://www.zomato.com/bangalore/addhuri-udupi...</td>\n",
       "      <td>1st Floor, Annakuteera, 3rd Stage, Banashankar...</td>\n",
       "      <td>Addhuri Udupi Bhojana</td>\n",
       "      <td>No</td>\n",
       "      <td>No</td>\n",
       "      <td>3.7/5</td>\n",
       "      <td>88</td>\n",
       "      <td>Banashankari</td>\n",
       "      <td>Quick Bites</td>\n",
       "      <td>South Indian, North Indian</td>\n",
       "      <td>300</td>\n",
       "      <td>[('Rated 4.0', \"RATED\\n  Great food and proper...</td>\n",
       "      <td>Buffet</td>\n",
       "      <td>Banashankari</td>\n",
       "    </tr>\n",
       "    <tr>\n",
       "      <th>4</th>\n",
       "      <td>https://www.zomato.com/bangalore/grand-village...</td>\n",
       "      <td>10, 3rd Floor, Lakshmi Associates, Gandhi Baza...</td>\n",
       "      <td>Grand Village</td>\n",
       "      <td>No</td>\n",
       "      <td>No</td>\n",
       "      <td>3.8/5</td>\n",
       "      <td>166</td>\n",
       "      <td>Basavanagudi</td>\n",
       "      <td>Casual Dining</td>\n",
       "      <td>North Indian, Rajasthani</td>\n",
       "      <td>600</td>\n",
       "      <td>[('Rated 4.0', 'RATED\\n  Very good restaurant ...</td>\n",
       "      <td>Buffet</td>\n",
       "      <td>Banashankari</td>\n",
       "    </tr>\n",
       "  </tbody>\n",
       "</table>\n",
       "</div>"
      ],
      "text/plain": [
       "                                                 url  \\\n",
       "0  https://www.zomato.com/bangalore/jalsa-banasha...   \n",
       "1  https://www.zomato.com/bangalore/spice-elephan...   \n",
       "2          https://www.zomato.com/SanchurroBangalore   \n",
       "3  https://www.zomato.com/bangalore/addhuri-udupi...   \n",
       "4  https://www.zomato.com/bangalore/grand-village...   \n",
       "\n",
       "                                             address                   name  \\\n",
       "0  942, 21st Main Road, 2nd Stage, Banashankari, ...                  Jalsa   \n",
       "1  2nd Floor, 80 Feet Road, Near Big Bazaar, 6th ...         Spice Elephant   \n",
       "2  1112, Next to KIMS Medical College, 17th Cross...        San Churro Cafe   \n",
       "3  1st Floor, Annakuteera, 3rd Stage, Banashankar...  Addhuri Udupi Bhojana   \n",
       "4  10, 3rd Floor, Lakshmi Associates, Gandhi Baza...          Grand Village   \n",
       "\n",
       "  online_order book_table   rate  votes      location            rest_type  \\\n",
       "0          Yes        Yes  4.1/5    775  Banashankari        Casual Dining   \n",
       "1          Yes         No  4.1/5    787  Banashankari        Casual Dining   \n",
       "2          Yes         No  3.8/5    918  Banashankari  Cafe, Casual Dining   \n",
       "3           No         No  3.7/5     88  Banashankari          Quick Bites   \n",
       "4           No         No  3.8/5    166  Basavanagudi        Casual Dining   \n",
       "\n",
       "                         cuisines approx_cost(for two people)  \\\n",
       "0  North Indian, Mughlai, Chinese                         800   \n",
       "1     Chinese, North Indian, Thai                         800   \n",
       "2          Cafe, Mexican, Italian                         800   \n",
       "3      South Indian, North Indian                         300   \n",
       "4        North Indian, Rajasthani                         600   \n",
       "\n",
       "                                        reviews_list listed_in(type)  \\\n",
       "0  [('Rated 4.0', 'RATED\\n  A beautiful place to ...          Buffet   \n",
       "1  [('Rated 4.0', 'RATED\\n  Had been here for din...          Buffet   \n",
       "2  [('Rated 3.0', \"RATED\\n  Ambience is not that ...          Buffet   \n",
       "3  [('Rated 4.0', \"RATED\\n  Great food and proper...          Buffet   \n",
       "4  [('Rated 4.0', 'RATED\\n  Very good restaurant ...          Buffet   \n",
       "\n",
       "  listed_in(city)  \n",
       "0    Banashankari  \n",
       "1    Banashankari  \n",
       "2    Banashankari  \n",
       "3    Banashankari  \n",
       "4    Banashankari  "
      ]
     },
     "execution_count": 15,
     "metadata": {},
     "output_type": "execute_result"
    }
   ],
   "source": [
    "df.head()"
   ]
  },
  {
   "cell_type": "markdown",
   "id": "94223c61-f8df-4d47-b1e7-dcf118c26ef7",
   "metadata": {
    "jp-MarkdownHeadingCollapsed": true
   },
   "source": [
    "### **rate**"
   ]
  },
  {
   "cell_type": "markdown",
   "id": "3378400a-45fd-4d17-849f-db30d7b9fe20",
   "metadata": {},
   "source": [
    "**Removing '/5' in rate column and changing its datatype to float**"
   ]
  },
  {
   "cell_type": "code",
   "execution_count": 16,
   "id": "abda5bed-f7db-4423-8ee7-64f78f49fb9f",
   "metadata": {
    "scrolled": true
   },
   "outputs": [
    {
     "data": {
      "text/plain": [
       "rate\n",
       "NaN       7775\n",
       "NEW       2208\n",
       "3.9/5     2098\n",
       "3.8/5     2022\n",
       "3.7/5     2011\n",
       "3.9 /5    1874\n",
       "3.8 /5    1851\n",
       "3.7 /5    1810\n",
       "3.6/5     1773\n",
       "4.0/5     1609\n",
       "4.0 /5    1574\n",
       "3.6 /5    1543\n",
       "4.1/5     1474\n",
       "4.1 /5    1474\n",
       "3.5/5     1431\n",
       "3.5 /5    1353\n",
       "3.4/5     1259\n",
       "3.4 /5    1217\n",
       "3.3/5     1168\n",
       "4.2 /5    1165\n",
       "3.3 /5    1142\n",
       "4.2/5     1019\n",
       "3.2/5     1006\n",
       "4.3 /5     917\n",
       "3.2 /5     867\n",
       "3.1/5      862\n",
       "4.3/5      776\n",
       "3.1 /5     699\n",
       "4.4 /5     628\n",
       "3.0/5      558\n",
       "4.4/5      519\n",
       "3.0 /5     465\n",
       "2.9/5      427\n",
       "4.5 /5     409\n",
       "2.9 /5     375\n",
       "2.8/5      313\n",
       "2.8 /5     287\n",
       "4.5/5      247\n",
       "4.6 /5     175\n",
       "2.7/5      170\n",
       "2.6/5      143\n",
       "2.7 /5     137\n",
       "4.6/5      125\n",
       "2.6 /5     117\n",
       "4.7 /5      86\n",
       "4.7/5       81\n",
       "-           69\n",
       "2.5 /5      56\n",
       "2.5/5       45\n",
       "4.8 /5      43\n",
       "2.4/5       40\n",
       "4.9 /5      30\n",
       "2.4 /5      30\n",
       "2.3/5       28\n",
       "4.9/5       25\n",
       "2.3 /5      23\n",
       "4.8/5       23\n",
       "2.2/5       19\n",
       "2.1 /5      13\n",
       "2.1/5       11\n",
       "2.2 /5       7\n",
       "2.0 /5       7\n",
       "2.0/5        4\n",
       "1.8 /5       3\n",
       "1.8/5        2\n",
       "Name: count, dtype: int64"
      ]
     },
     "execution_count": 16,
     "metadata": {},
     "output_type": "execute_result"
    }
   ],
   "source": [
    "pd.set_option('display.max_rows', 100)\n",
    "df.rate.value_counts(dropna=False)"
   ]
  },
  {
   "cell_type": "markdown",
   "id": "04ceb8bd-502e-4ab6-9f3f-32ab9d55108d",
   "metadata": {},
   "source": [
    "*Changing the \"NEW\" value in rate column to 0 and \"-\" to null*"
   ]
  },
  {
   "cell_type": "code",
   "execution_count": 17,
   "id": "c7fb4a71-d398-41cc-ab2c-89de722f6d54",
   "metadata": {
    "scrolled": true
   },
   "outputs": [
    {
     "data": {
      "text/plain": [
       "0         4.1\n",
       "1         4.1\n",
       "2         3.8\n",
       "3         3.7\n",
       "4         3.8\n",
       "         ... \n",
       "51712    3.6 \n",
       "51713     NaN\n",
       "51714     NaN\n",
       "51715    4.3 \n",
       "51716    3.4 \n",
       "Name: rate, Length: 51717, dtype: object"
      ]
     },
     "execution_count": 17,
     "metadata": {},
     "output_type": "execute_result"
    }
   ],
   "source": [
    "df[\"rate\"] = df.rate.replace({\"NEW\":\"0.0\",\"-\":np.nan})\n",
    "df[\"rate\"] = df.rate.str.replace('/5','')\n",
    "df[\"rate\"]"
   ]
  },
  {
   "cell_type": "code",
   "execution_count": 18,
   "id": "94693927-7ebd-4edc-9aff-b52dd095c8ae",
   "metadata": {},
   "outputs": [],
   "source": [
    "df[\"rate\"] = df.rate.astype('float')\n",
    "df.rename({'rate':'rating'},axis=1,inplace=True)"
   ]
  },
  {
   "cell_type": "markdown",
   "id": "e708ec93-f0f3-4bbf-ac3e-b7ff153d8eab",
   "metadata": {
    "jp-MarkdownHeadingCollapsed": true
   },
   "source": [
    "### **cost(for two people)**"
   ]
  },
  {
   "cell_type": "markdown",
   "id": "63abd884-acbc-4d1e-b9c3-357ec557cbb5",
   "metadata": {},
   "source": [
    "**Changing approx_cost(for two people) datatype to float**"
   ]
  },
  {
   "cell_type": "code",
   "execution_count": 19,
   "id": "9273cb43-a9d2-4070-bc18-f0c7240ca963",
   "metadata": {},
   "outputs": [],
   "source": [
    "df.rename({'approx_cost(for two people)':'cost_for_two'},axis=1,inplace=True)"
   ]
  },
  {
   "cell_type": "code",
   "execution_count": 20,
   "id": "1dc19b41-c571-46a9-afa8-9a51c08e3cdc",
   "metadata": {
    "scrolled": true
   },
   "outputs": [
    {
     "data": {
      "text/plain": [
       "cost_for_two\n",
       "300      7576\n",
       "400      6562\n",
       "500      4980\n",
       "200      4857\n",
       "600      3714\n",
       "250      2959\n",
       "800      2285\n",
       "150      2066\n",
       "700      1948\n",
       "350      1763\n",
       "1,000    1637\n",
       "450      1417\n",
       "1,200     993\n",
       "100       993\n",
       "1,500     971\n",
       "650       776\n",
       "550       761\n",
       "750       758\n",
       "900       700\n",
       "1,300     516\n",
       "1,100     512\n",
       "1,400     473\n",
       "2,000     363\n",
       "1,600     266\n",
       "1,700     247\n",
       "1,800     203\n",
       "850       166\n",
       "3,000     162\n",
       "2,500     146\n",
       "2,200      78\n",
       "1,900      70\n",
       "2,100      67\n",
       "950        62\n",
       "2,800      45\n",
       "4,000      29\n",
       "3,500      25\n",
       "120        24\n",
       "2,400      23\n",
       "180        20\n",
       "1,350      18\n",
       "3,400      13\n",
       "2,300      11\n",
       "2,600      10\n",
       "80         10\n",
       "230        10\n",
       "1,250       9\n",
       "40          8\n",
       "50          8\n",
       "130         8\n",
       "1,650       6\n",
       "1,450       5\n",
       "199         4\n",
       "330         4\n",
       "4,100       4\n",
       "1,050       4\n",
       "2,700       3\n",
       "70          3\n",
       "6,000       2\n",
       "4,500       2\n",
       "190         2\n",
       "360         2\n",
       "240         2\n",
       "3,200       2\n",
       "140         2\n",
       "560         1\n",
       "60          1\n",
       "5,000       1\n",
       "3,700       1\n",
       "469         1\n",
       "160         1\n",
       "Name: count, dtype: int64"
      ]
     },
     "execution_count": 20,
     "metadata": {},
     "output_type": "execute_result"
    }
   ],
   "source": [
    "df.cost_for_two.value_counts()"
   ]
  },
  {
   "cell_type": "markdown",
   "id": "8af8cfa0-1976-4257-9ffe-d0aabcfaec54",
   "metadata": {},
   "source": [
    "*cost_for_two values have \",\" in values above 999\\\n",
    "Removing \",\" in values and then changing dtype to float*"
   ]
  },
  {
   "cell_type": "code",
   "execution_count": 21,
   "id": "e9f056f6-876a-4fcf-8b34-4a7d75fcb87a",
   "metadata": {},
   "outputs": [
    {
     "data": {
      "text/plain": [
       "0         800.0\n",
       "1         800.0\n",
       "2         800.0\n",
       "3         300.0\n",
       "4         600.0\n",
       "          ...  \n",
       "51712    1500.0\n",
       "51713     600.0\n",
       "51714    2000.0\n",
       "51715    2500.0\n",
       "51716    1500.0\n",
       "Name: cost_for_two, Length: 51717, dtype: float64"
      ]
     },
     "execution_count": 21,
     "metadata": {},
     "output_type": "execute_result"
    }
   ],
   "source": [
    "df[\"cost_for_two\"] = df.cost_for_two.str.replace(\",\",\"\").astype('float')\n",
    "df[\"cost_for_two\"]"
   ]
  },
  {
   "cell_type": "code",
   "execution_count": 22,
   "id": "76856faf-e95a-4069-9243-3cb2eb906c98",
   "metadata": {},
   "outputs": [
    {
     "name": "stdout",
     "output_type": "stream",
     "text": [
      "<class 'pandas.core.frame.DataFrame'>\n",
      "RangeIndex: 51717 entries, 0 to 51716\n",
      "Data columns (total 14 columns):\n",
      " #   Column           Non-Null Count  Dtype  \n",
      "---  ------           --------------  -----  \n",
      " 0   url              51717 non-null  object \n",
      " 1   address          51717 non-null  object \n",
      " 2   name             51717 non-null  object \n",
      " 3   online_order     51717 non-null  object \n",
      " 4   book_table       51717 non-null  object \n",
      " 5   rating           43873 non-null  float64\n",
      " 6   votes            51717 non-null  int64  \n",
      " 7   location         51696 non-null  object \n",
      " 8   rest_type        51490 non-null  object \n",
      " 9   cuisines         51672 non-null  object \n",
      " 10  cost_for_two     51371 non-null  float64\n",
      " 11  reviews_list     44122 non-null  object \n",
      " 12  listed_in(type)  51717 non-null  object \n",
      " 13  listed_in(city)  51717 non-null  object \n",
      "dtypes: float64(2), int64(1), object(11)\n",
      "memory usage: 5.5+ MB\n"
     ]
    }
   ],
   "source": [
    "df.info()"
   ]
  },
  {
   "cell_type": "markdown",
   "id": "14d5eec9-ff07-4fd1-b26c-a888327c02c2",
   "metadata": {
    "jp-MarkdownHeadingCollapsed": true
   },
   "source": [
    "### **rest_type**"
   ]
  },
  {
   "cell_type": "code",
   "execution_count": 23,
   "id": "b30c3e50-b212-4ed2-b143-15fd53f63835",
   "metadata": {
    "scrolled": true
   },
   "outputs": [
    {
     "data": {
      "text/plain": [
       "rest_type\n",
       "Quick Bites                      19132\n",
       "Casual Dining                    10330\n",
       "Cafe                              3732\n",
       "Delivery                          2604\n",
       "Dessert Parlor                    2263\n",
       "Takeaway, Delivery                2037\n",
       "Casual Dining, Bar                1154\n",
       "Bakery                            1141\n",
       "Beverage Shop                      867\n",
       "Bar                                697\n",
       "Food Court                         624\n",
       "Sweet Shop                         468\n",
       "Bar, Casual Dining                 425\n",
       "Lounge                             396\n",
       "Pub                                357\n",
       "Fine Dining                        346\n",
       "Casual Dining, Cafe                319\n",
       "Beverage Shop, Quick Bites         298\n",
       "Bakery, Quick Bites                289\n",
       "Mess                               267\n",
       "Pub, Casual Dining                 255\n",
       "Sweet Shop, Quick Bites            178\n",
       "Kiosk                              176\n",
       "Dessert Parlor, Cafe               175\n",
       "Cafe, Casual Dining                173\n",
       "Cafe, Bakery                       164\n",
       "Cafe, Dessert Parlor               148\n",
       "Bakery, Dessert Parlor             147\n",
       "Microbrewery, Casual Dining        132\n",
       "Casual Dining, Pub                 127\n",
       "Dessert Parlor, Quick Bites        125\n",
       "Takeaway                           120\n",
       "Cafe, Quick Bites                  111\n",
       "Food Court, Quick Bites            101\n",
       "Quick Bites, Beverage Shop         101\n",
       "Dessert Parlor, Bakery              85\n",
       "Quick Bites, Dessert Parlor         84\n",
       "Food Truck                          84\n",
       "Pub, Microbrewery                   84\n",
       "Dessert Parlor, Beverage Shop       80\n",
       "Beverage Shop, Dessert Parlor       79\n",
       "Bakery, Cafe                        78\n",
       "Quick Bites, Sweet Shop             75\n",
       "Quick Bites, Bakery                 60\n",
       "Casual Dining, Microbrewery         59\n",
       "Confectionery                       47\n",
       "Microbrewery, Pub                   42\n",
       "Quick Bites, Cafe                   41\n",
       "Pub, Cafe                           40\n",
       "Pub, Bar                            40\n",
       "Fine Dining, Bar                    40\n",
       "Dhaba                               40\n",
       "Club                                37\n",
       "Lounge, Casual Dining               37\n",
       "Lounge, Bar                         36\n",
       "Microbrewery                        30\n",
       "Beverage Shop, Cafe                 28\n",
       "Quick Bites, Food Court             19\n",
       "Cafe, Bar                           19\n",
       "Bakery, Beverage Shop               16\n",
       "Lounge, Cafe                        16\n",
       "Lounge, Microbrewery                16\n",
       "Cafe, Lounge                        15\n",
       "Casual Dining, Irani Cafee          15\n",
       "Fine Dining, Lounge                 14\n",
       "Bar, Cafe                           13\n",
       "Bakery, Kiosk                       13\n",
       "Microbrewery, Bar                   13\n",
       "Dessert Parlor, Sweet Shop          12\n",
       "Casual Dining, Lounge               10\n",
       "Bar, Quick Bites                     9\n",
       "Microbrewery, Lounge                 9\n",
       "Food Court, Dessert Parlor           8\n",
       "Casual Dining, Sweet Shop            8\n",
       "Bar, Lounge                          6\n",
       "Fine Dining, Microbrewery            5\n",
       "Food Court, Casual Dining            5\n",
       "Bar, Pub                             5\n",
       "Casual Dining, Quick Bites           4\n",
       "Club, Casual Dining                  4\n",
       "Quick Bites, Mess                    4\n",
       "Quick Bites, Meat Shop               4\n",
       "Bakery, Sweet Shop                   3\n",
       "Bhojanalya                           3\n",
       "Mess, Quick Bites                    3\n",
       "Pop Up                               2\n",
       "Bakery, Food Court                   2\n",
       "Cafe, Food Court                     2\n",
       "Dessert Parlor, Kiosk                2\n",
       "Food Court, Beverage Shop            2\n",
       "Dessert Parlor, Food Court           2\n",
       "Sweet Shop, Dessert Parlor           1\n",
       "Quick Bites, Kiosk                   1\n",
       "Name: count, dtype: int64"
      ]
     },
     "execution_count": 23,
     "metadata": {},
     "output_type": "execute_result"
    }
   ],
   "source": [
    "df.rest_type.value_counts()"
   ]
  },
  {
   "cell_type": "code",
   "execution_count": 24,
   "id": "9c181eaa-d11f-4cb6-b56d-21de7af5cc13",
   "metadata": {},
   "outputs": [
    {
     "data": {
      "text/plain": [
       "227"
      ]
     },
     "execution_count": 24,
     "metadata": {},
     "output_type": "execute_result"
    }
   ],
   "source": [
    "df.rest_type.isnull().sum()"
   ]
  },
  {
   "cell_type": "code",
   "execution_count": 25,
   "id": "b2b0f921-c1a5-4980-8c0c-930fe40e30c0",
   "metadata": {},
   "outputs": [
    {
     "data": {
      "text/html": [
       "<div>\n",
       "<style scoped>\n",
       "    .dataframe tbody tr th:only-of-type {\n",
       "        vertical-align: middle;\n",
       "    }\n",
       "\n",
       "    .dataframe tbody tr th {\n",
       "        vertical-align: top;\n",
       "    }\n",
       "\n",
       "    .dataframe thead th {\n",
       "        text-align: right;\n",
       "    }\n",
       "</style>\n",
       "<table border=\"1\" class=\"dataframe\">\n",
       "  <thead>\n",
       "    <tr style=\"text-align: right;\">\n",
       "      <th></th>\n",
       "      <th>0</th>\n",
       "      <th>1</th>\n",
       "    </tr>\n",
       "  </thead>\n",
       "  <tbody>\n",
       "    <tr>\n",
       "      <th>0</th>\n",
       "      <td>Casual Dining</td>\n",
       "      <td>None</td>\n",
       "    </tr>\n",
       "    <tr>\n",
       "      <th>1</th>\n",
       "      <td>Casual Dining</td>\n",
       "      <td>None</td>\n",
       "    </tr>\n",
       "    <tr>\n",
       "      <th>2</th>\n",
       "      <td>Cafe</td>\n",
       "      <td>Casual Dining</td>\n",
       "    </tr>\n",
       "    <tr>\n",
       "      <th>3</th>\n",
       "      <td>Quick Bites</td>\n",
       "      <td>None</td>\n",
       "    </tr>\n",
       "    <tr>\n",
       "      <th>4</th>\n",
       "      <td>Casual Dining</td>\n",
       "      <td>None</td>\n",
       "    </tr>\n",
       "    <tr>\n",
       "      <th>...</th>\n",
       "      <td>...</td>\n",
       "      <td>...</td>\n",
       "    </tr>\n",
       "    <tr>\n",
       "      <th>51712</th>\n",
       "      <td>Bar</td>\n",
       "      <td>None</td>\n",
       "    </tr>\n",
       "    <tr>\n",
       "      <th>51713</th>\n",
       "      <td>Bar</td>\n",
       "      <td>None</td>\n",
       "    </tr>\n",
       "    <tr>\n",
       "      <th>51714</th>\n",
       "      <td>Bar</td>\n",
       "      <td>None</td>\n",
       "    </tr>\n",
       "    <tr>\n",
       "      <th>51715</th>\n",
       "      <td>Bar</td>\n",
       "      <td>None</td>\n",
       "    </tr>\n",
       "    <tr>\n",
       "      <th>51716</th>\n",
       "      <td>Bar</td>\n",
       "      <td>Casual Dining</td>\n",
       "    </tr>\n",
       "  </tbody>\n",
       "</table>\n",
       "<p>51717 rows × 2 columns</p>\n",
       "</div>"
      ],
      "text/plain": [
       "                   0              1\n",
       "0      Casual Dining           None\n",
       "1      Casual Dining           None\n",
       "2               Cafe  Casual Dining\n",
       "3        Quick Bites           None\n",
       "4      Casual Dining           None\n",
       "...              ...            ...\n",
       "51712            Bar           None\n",
       "51713            Bar           None\n",
       "51714            Bar           None\n",
       "51715            Bar           None\n",
       "51716            Bar  Casual Dining\n",
       "\n",
       "[51717 rows x 2 columns]"
      ]
     },
     "execution_count": 25,
     "metadata": {},
     "output_type": "execute_result"
    }
   ],
   "source": [
    "df.rest_type.str.split(\", \",expand=True)"
   ]
  },
  {
   "cell_type": "code",
   "execution_count": 26,
   "id": "5d85af9b-c091-4648-85eb-dae960f08a18",
   "metadata": {
    "scrolled": true
   },
   "outputs": [
    {
     "data": {
      "text/plain": [
       "rest_type\n",
       "Quick Bites       20639\n",
       "Casual Dining     13057\n",
       "Cafe               5074\n",
       "Delivery           4641\n",
       "Dessert Parlor     3211\n",
       "Bar                2457\n",
       "Takeaway           2157\n",
       "Bakery             1998\n",
       "Beverage Shop      1471\n",
       "Pub                 950\n",
       "Food Court          765\n",
       "Sweet Shop          745\n",
       "Lounge              555\n",
       "Fine Dining         405\n",
       "Microbrewery        390\n",
       "Mess                274\n",
       "NaN                 227\n",
       "Kiosk               192\n",
       "Food Truck           84\n",
       "Confectionery        47\n",
       "Name: count, dtype: int64"
      ]
     },
     "execution_count": 26,
     "metadata": {},
     "output_type": "execute_result"
    }
   ],
   "source": [
    "df['rest_type'].str.split(', ').explode().value_counts(dropna=False).head(20)"
   ]
  },
  {
   "cell_type": "markdown",
   "id": "b1d20b39-2bd3-4966-8fc8-b1d7171e5c1a",
   "metadata": {},
   "source": [
    "**Filling Null values in rest_type corresponding to each listed_in(type)**"
   ]
  },
  {
   "cell_type": "code",
   "execution_count": 27,
   "id": "323b2940-03c4-4353-8ef6-f1e03f4f6a57",
   "metadata": {},
   "outputs": [],
   "source": [
    "from statistics import mode"
   ]
  },
  {
   "cell_type": "code",
   "execution_count": 28,
   "id": "aed25c51-89fa-480a-ba15-681a07de47f7",
   "metadata": {},
   "outputs": [
    {
     "data": {
      "text/html": [
       "<div>\n",
       "<style scoped>\n",
       "    .dataframe tbody tr th:only-of-type {\n",
       "        vertical-align: middle;\n",
       "    }\n",
       "\n",
       "    .dataframe tbody tr th {\n",
       "        vertical-align: top;\n",
       "    }\n",
       "\n",
       "    .dataframe thead th {\n",
       "        text-align: right;\n",
       "    }\n",
       "</style>\n",
       "<table border=\"1\" class=\"dataframe\">\n",
       "  <thead>\n",
       "    <tr style=\"text-align: right;\">\n",
       "      <th></th>\n",
       "      <th>mode_rest_type</th>\n",
       "      <th>mode_count</th>\n",
       "    </tr>\n",
       "    <tr>\n",
       "      <th>listed_in(type)</th>\n",
       "      <th></th>\n",
       "      <th></th>\n",
       "    </tr>\n",
       "  </thead>\n",
       "  <tbody>\n",
       "    <tr>\n",
       "      <th>Buffet</th>\n",
       "      <td>Casual Dining</td>\n",
       "      <td>237</td>\n",
       "    </tr>\n",
       "    <tr>\n",
       "      <th>Cafes</th>\n",
       "      <td>Cafe</td>\n",
       "      <td>503</td>\n",
       "    </tr>\n",
       "    <tr>\n",
       "      <th>Delivery</th>\n",
       "      <td>Quick Bites</td>\n",
       "      <td>3712</td>\n",
       "    </tr>\n",
       "    <tr>\n",
       "      <th>Desserts</th>\n",
       "      <td>Dessert Parlor</td>\n",
       "      <td>517</td>\n",
       "    </tr>\n",
       "    <tr>\n",
       "      <th>Dine-out</th>\n",
       "      <td>Quick Bites</td>\n",
       "      <td>4274</td>\n",
       "    </tr>\n",
       "    <tr>\n",
       "      <th>Drinks &amp; nightlife</th>\n",
       "      <td>Bar</td>\n",
       "      <td>80</td>\n",
       "    </tr>\n",
       "    <tr>\n",
       "      <th>Pubs and bars</th>\n",
       "      <td>Casual Dining, Bar</td>\n",
       "      <td>107</td>\n",
       "    </tr>\n",
       "  </tbody>\n",
       "</table>\n",
       "</div>"
      ],
      "text/plain": [
       "                        mode_rest_type  mode_count\n",
       "listed_in(type)                                   \n",
       "Buffet                   Casual Dining         237\n",
       "Cafes                             Cafe         503\n",
       "Delivery                   Quick Bites        3712\n",
       "Desserts                Dessert Parlor         517\n",
       "Dine-out                   Quick Bites        4274\n",
       "Drinks & nightlife                 Bar          80\n",
       "Pubs and bars       Casual Dining, Bar         107"
      ]
     },
     "execution_count": 28,
     "metadata": {},
     "output_type": "execute_result"
    }
   ],
   "source": [
    "lType_to_restType = df[[\"url\",\"rest_type\",\"listed_in(type)\"]].drop_duplicates().groupby(\"listed_in(type)\").agg(\n",
    "    mode_rest_type=('rest_type', mode),\n",
    "    mode_count=('rest_type', lambda x: x.tolist().count(mode(x)))\n",
    ")\n",
    "lType_to_restType"
   ]
  },
  {
   "cell_type": "code",
   "execution_count": 29,
   "id": "5eb8e023-1ff3-4b1e-9d48-34874aafa7f6",
   "metadata": {},
   "outputs": [
    {
     "data": {
      "text/plain": [
       "listed_in(type)\n",
       "Buffet                 Casual Dining\n",
       "Buffet                 Casual Dining\n",
       "Buffet           Cafe, Casual Dining\n",
       "Buffet                   Quick Bites\n",
       "Buffet                 Casual Dining\n",
       "                        ...         \n",
       "Pubs and bars                    Bar\n",
       "Pubs and bars                    Bar\n",
       "Pubs and bars                    Bar\n",
       "Pubs and bars                    Bar\n",
       "Pubs and bars     Bar, Casual Dining\n",
       "Name: rest_type, Length: 51717, dtype: object"
      ]
     },
     "execution_count": 29,
     "metadata": {},
     "output_type": "execute_result"
    }
   ],
   "source": [
    "new_rest_type = df.set_index(df[\"listed_in(type)\"])[\"rest_type\"].fillna(lType_to_restType[\"mode_rest_type\"])\n",
    "new_rest_type"
   ]
  },
  {
   "cell_type": "code",
   "execution_count": 30,
   "id": "c4b95a4d-67db-4e77-8532-c59bfb2c4f2f",
   "metadata": {},
   "outputs": [],
   "source": [
    "df[\"rest_type\"] = new_rest_type.reset_index(drop=True)"
   ]
  },
  {
   "cell_type": "code",
   "execution_count": 31,
   "id": "c0441247-5eb0-40a5-bc23-97e124a81596",
   "metadata": {},
   "outputs": [
    {
     "data": {
      "text/plain": [
       "0"
      ]
     },
     "execution_count": 31,
     "metadata": {},
     "output_type": "execute_result"
    }
   ],
   "source": [
    "df.rest_type.isnull().sum()"
   ]
  },
  {
   "cell_type": "markdown",
   "id": "20598eb6-93e4-47cc-acca-68d98a8255de",
   "metadata": {
    "jp-MarkdownHeadingCollapsed": true
   },
   "source": [
    "### **cuisines**"
   ]
  },
  {
   "cell_type": "code",
   "execution_count": 32,
   "id": "0e47b65b-5317-4ce1-8755-4c600a0d682b",
   "metadata": {},
   "outputs": [
    {
     "data": {
      "text/plain": [
       "cuisines\n",
       "North Indian                                   2913\n",
       "North Indian, Chinese                          2385\n",
       "South Indian                                   1828\n",
       "Biryani                                         918\n",
       "Bakery, Desserts                                911\n",
       "                                               ... \n",
       "North Indian, Chinese, South Indian, Juices       1\n",
       "North Indian, Chinese, Kebab, Mughlai             1\n",
       "Chinese, Vietnamese, Thai, Malaysian              1\n",
       "Arabian, Lebanese, Chinese, Rolls                 1\n",
       "North Indian, Chinese, Arabian, Momos             1\n",
       "Name: count, Length: 2723, dtype: int64"
      ]
     },
     "execution_count": 32,
     "metadata": {},
     "output_type": "execute_result"
    }
   ],
   "source": [
    "df.cuisines.value_counts()"
   ]
  },
  {
   "cell_type": "code",
   "execution_count": 33,
   "id": "faea0d02-06e1-4287-9ff9-5e09d5deb5af",
   "metadata": {},
   "outputs": [
    {
     "data": {
      "text/plain": [
       "45"
      ]
     },
     "execution_count": 33,
     "metadata": {},
     "output_type": "execute_result"
    }
   ],
   "source": [
    "df.cuisines.isnull().sum()"
   ]
  },
  {
   "cell_type": "code",
   "execution_count": 34,
   "id": "10f465c1-ca6a-4c90-971a-9ee3168d6650",
   "metadata": {},
   "outputs": [],
   "source": [
    "df[\"cuisines\"] = df.cuisines.fillna(\"Unknown\")"
   ]
  },
  {
   "cell_type": "code",
   "execution_count": 35,
   "id": "29751c93",
   "metadata": {},
   "outputs": [
    {
     "data": {
      "text/plain": [
       "0"
      ]
     },
     "execution_count": 35,
     "metadata": {},
     "output_type": "execute_result"
    }
   ],
   "source": [
    "df.cuisines.isnull().sum()"
   ]
  },
  {
   "cell_type": "code",
   "execution_count": 36,
   "id": "728272da-2130-4e62-9f4e-35b8b348cec2",
   "metadata": {
    "scrolled": true
   },
   "outputs": [
    {
     "data": {
      "text/html": [
       "<div>\n",
       "<style scoped>\n",
       "    .dataframe tbody tr th:only-of-type {\n",
       "        vertical-align: middle;\n",
       "    }\n",
       "\n",
       "    .dataframe tbody tr th {\n",
       "        vertical-align: top;\n",
       "    }\n",
       "\n",
       "    .dataframe thead th {\n",
       "        text-align: right;\n",
       "    }\n",
       "</style>\n",
       "<table border=\"1\" class=\"dataframe\">\n",
       "  <thead>\n",
       "    <tr style=\"text-align: right;\">\n",
       "      <th></th>\n",
       "      <th>0</th>\n",
       "      <th>1</th>\n",
       "      <th>2</th>\n",
       "      <th>3</th>\n",
       "      <th>4</th>\n",
       "      <th>5</th>\n",
       "      <th>6</th>\n",
       "      <th>7</th>\n",
       "    </tr>\n",
       "  </thead>\n",
       "  <tbody>\n",
       "    <tr>\n",
       "      <th>55</th>\n",
       "      <td>Healthy Food</td>\n",
       "      <td>Chinese</td>\n",
       "      <td>Biryani</td>\n",
       "      <td>North Indian</td>\n",
       "      <td>Continental</td>\n",
       "      <td>Salad</td>\n",
       "      <td>American</td>\n",
       "      <td>Burger</td>\n",
       "    </tr>\n",
       "    <tr>\n",
       "      <th>195</th>\n",
       "      <td>BBQ</td>\n",
       "      <td>Arabian</td>\n",
       "      <td>Rolls</td>\n",
       "      <td>Chinese</td>\n",
       "      <td>North Indian</td>\n",
       "      <td>Juices</td>\n",
       "      <td>Kebab</td>\n",
       "      <td>Desserts</td>\n",
       "    </tr>\n",
       "    <tr>\n",
       "      <th>864</th>\n",
       "      <td>Arabian</td>\n",
       "      <td>Biryani</td>\n",
       "      <td>Chinese</td>\n",
       "      <td>Middle Eastern</td>\n",
       "      <td>Fast Food</td>\n",
       "      <td>North Indian</td>\n",
       "      <td>Mughlai</td>\n",
       "      <td>Seafood</td>\n",
       "    </tr>\n",
       "    <tr>\n",
       "      <th>900</th>\n",
       "      <td>American</td>\n",
       "      <td>Bakery</td>\n",
       "      <td>Beverages</td>\n",
       "      <td>Cafe</td>\n",
       "      <td>Healthy Food</td>\n",
       "      <td>Juices</td>\n",
       "      <td>North Indian</td>\n",
       "      <td>Sandwich</td>\n",
       "    </tr>\n",
       "    <tr>\n",
       "      <th>944</th>\n",
       "      <td>Biryani</td>\n",
       "      <td>Kerala</td>\n",
       "      <td>Mughlai</td>\n",
       "      <td>Street Food</td>\n",
       "      <td>North Indian</td>\n",
       "      <td>Chinese</td>\n",
       "      <td>South Indian</td>\n",
       "      <td>Andhra</td>\n",
       "    </tr>\n",
       "    <tr>\n",
       "      <th>1112</th>\n",
       "      <td>Seafood</td>\n",
       "      <td>Biryani</td>\n",
       "      <td>South Indian</td>\n",
       "      <td>North Indian</td>\n",
       "      <td>Chinese</td>\n",
       "      <td>Arabian</td>\n",
       "      <td>Kebab</td>\n",
       "      <td>Kerala</td>\n",
       "    </tr>\n",
       "    <tr>\n",
       "      <th>2508</th>\n",
       "      <td>Cafe</td>\n",
       "      <td>Continental</td>\n",
       "      <td>Beverages</td>\n",
       "      <td>Healthy Food</td>\n",
       "      <td>Desserts</td>\n",
       "      <td>Sandwich</td>\n",
       "      <td>Pizza</td>\n",
       "      <td>Salad</td>\n",
       "    </tr>\n",
       "    <tr>\n",
       "      <th>2526</th>\n",
       "      <td>South Indian</td>\n",
       "      <td>Chinese</td>\n",
       "      <td>Beverages</td>\n",
       "      <td>Cafe</td>\n",
       "      <td>Coffee</td>\n",
       "      <td>Fast Food</td>\n",
       "      <td>Momos</td>\n",
       "      <td>North Indian</td>\n",
       "    </tr>\n",
       "    <tr>\n",
       "      <th>3451</th>\n",
       "      <td>Continental</td>\n",
       "      <td>Biryani</td>\n",
       "      <td>Desserts</td>\n",
       "      <td>Italian</td>\n",
       "      <td>North Indian</td>\n",
       "      <td>Chinese</td>\n",
       "      <td>Modern Indian</td>\n",
       "      <td>Asian</td>\n",
       "    </tr>\n",
       "    <tr>\n",
       "      <th>3895</th>\n",
       "      <td>American</td>\n",
       "      <td>Italian</td>\n",
       "      <td>Bakery</td>\n",
       "      <td>Desserts</td>\n",
       "      <td>Sandwich</td>\n",
       "      <td>Beverages</td>\n",
       "      <td>Salad</td>\n",
       "      <td>Rolls</td>\n",
       "    </tr>\n",
       "    <tr>\n",
       "      <th>4248</th>\n",
       "      <td>Andhra</td>\n",
       "      <td>Beverages</td>\n",
       "      <td>Biryani</td>\n",
       "      <td>Chinese</td>\n",
       "      <td>Fast Food</td>\n",
       "      <td>Hyderabadi</td>\n",
       "      <td>North Indian</td>\n",
       "      <td>South Indian</td>\n",
       "    </tr>\n",
       "    <tr>\n",
       "      <th>4819</th>\n",
       "      <td>Continental</td>\n",
       "      <td>Thai</td>\n",
       "      <td>Malaysian</td>\n",
       "      <td>Burmese</td>\n",
       "      <td>Korean</td>\n",
       "      <td>Vietnamese</td>\n",
       "      <td>Chinese</td>\n",
       "      <td>North Indian</td>\n",
       "    </tr>\n",
       "    <tr>\n",
       "      <th>6573</th>\n",
       "      <td>BBQ</td>\n",
       "      <td>Biryani</td>\n",
       "      <td>Charcoal Chicken</td>\n",
       "      <td>Chinese</td>\n",
       "      <td>North Indian</td>\n",
       "      <td>Kerala</td>\n",
       "      <td>Seafood</td>\n",
       "      <td>Street Food</td>\n",
       "    </tr>\n",
       "    <tr>\n",
       "      <th>6785</th>\n",
       "      <td>American</td>\n",
       "      <td>Cafe</td>\n",
       "      <td>Continental</td>\n",
       "      <td>French</td>\n",
       "      <td>Burger</td>\n",
       "      <td>Mexican</td>\n",
       "      <td>Desserts</td>\n",
       "      <td>Pizza</td>\n",
       "    </tr>\n",
       "    <tr>\n",
       "      <th>8267</th>\n",
       "      <td>Continental</td>\n",
       "      <td>Italian</td>\n",
       "      <td>North Indian</td>\n",
       "      <td>Asian</td>\n",
       "      <td>Bakery</td>\n",
       "      <td>Chinese</td>\n",
       "      <td>European</td>\n",
       "      <td>Japanese</td>\n",
       "    </tr>\n",
       "    <tr>\n",
       "      <th>8853</th>\n",
       "      <td>Salad</td>\n",
       "      <td>Biryani</td>\n",
       "      <td>Chinese</td>\n",
       "      <td>North Indian</td>\n",
       "      <td>Kerala</td>\n",
       "      <td>Desserts</td>\n",
       "      <td>Seafood</td>\n",
       "      <td>South Indian</td>\n",
       "    </tr>\n",
       "    <tr>\n",
       "      <th>9697</th>\n",
       "      <td>Seafood</td>\n",
       "      <td>Biryani</td>\n",
       "      <td>South Indian</td>\n",
       "      <td>Chettinad</td>\n",
       "      <td>Chinese</td>\n",
       "      <td>Arabian</td>\n",
       "      <td>Andhra</td>\n",
       "      <td>Kerala</td>\n",
       "    </tr>\n",
       "    <tr>\n",
       "      <th>13368</th>\n",
       "      <td>Continental</td>\n",
       "      <td>Mexican</td>\n",
       "      <td>Burger</td>\n",
       "      <td>Desserts</td>\n",
       "      <td>Italian</td>\n",
       "      <td>Pizza</td>\n",
       "      <td>North Indian</td>\n",
       "      <td>Chinese</td>\n",
       "    </tr>\n",
       "    <tr>\n",
       "      <th>13517</th>\n",
       "      <td>Street Food</td>\n",
       "      <td>American</td>\n",
       "      <td>Sandwich</td>\n",
       "      <td>Fast Food</td>\n",
       "      <td>Beverages</td>\n",
       "      <td>Burger</td>\n",
       "      <td>Desserts</td>\n",
       "      <td>Pizza</td>\n",
       "    </tr>\n",
       "    <tr>\n",
       "      <th>16391</th>\n",
       "      <td>Pizza</td>\n",
       "      <td>Burger</td>\n",
       "      <td>Sandwich</td>\n",
       "      <td>Coffee</td>\n",
       "      <td>Desserts</td>\n",
       "      <td>Continental</td>\n",
       "      <td>Salad</td>\n",
       "      <td>Asian</td>\n",
       "    </tr>\n",
       "    <tr>\n",
       "      <th>17561</th>\n",
       "      <td>Cafe</td>\n",
       "      <td>Continental</td>\n",
       "      <td>Beverages</td>\n",
       "      <td>Burger</td>\n",
       "      <td>Desserts</td>\n",
       "      <td>Pizza</td>\n",
       "      <td>Bakery</td>\n",
       "      <td>European</td>\n",
       "    </tr>\n",
       "    <tr>\n",
       "      <th>17599</th>\n",
       "      <td>Cafe</td>\n",
       "      <td>American</td>\n",
       "      <td>Salad</td>\n",
       "      <td>Continental</td>\n",
       "      <td>Healthy Food</td>\n",
       "      <td>Italian</td>\n",
       "      <td>Coffee</td>\n",
       "      <td>Desserts</td>\n",
       "    </tr>\n",
       "    <tr>\n",
       "      <th>17607</th>\n",
       "      <td>Salad</td>\n",
       "      <td>Cafe</td>\n",
       "      <td>Continental</td>\n",
       "      <td>Steak</td>\n",
       "      <td>Italian</td>\n",
       "      <td>Burger</td>\n",
       "      <td>Desserts</td>\n",
       "      <td>Pizza</td>\n",
       "    </tr>\n",
       "    <tr>\n",
       "      <th>17872</th>\n",
       "      <td>Burger</td>\n",
       "      <td>American</td>\n",
       "      <td>Beverages</td>\n",
       "      <td>Desserts</td>\n",
       "      <td>Italian</td>\n",
       "      <td>Salad</td>\n",
       "      <td>Ice Cream</td>\n",
       "      <td>Finger Food</td>\n",
       "    </tr>\n",
       "    <tr>\n",
       "      <th>17908</th>\n",
       "      <td>Continental</td>\n",
       "      <td>Seafood</td>\n",
       "      <td>Biryani</td>\n",
       "      <td>Desserts</td>\n",
       "      <td>North Indian</td>\n",
       "      <td>Chinese</td>\n",
       "      <td>Bakery</td>\n",
       "      <td>Kebab</td>\n",
       "    </tr>\n",
       "    <tr>\n",
       "      <th>17932</th>\n",
       "      <td>Continental</td>\n",
       "      <td>Burger</td>\n",
       "      <td>Desserts</td>\n",
       "      <td>Sandwich</td>\n",
       "      <td>Italian</td>\n",
       "      <td>Pizza</td>\n",
       "      <td>Bakery</td>\n",
       "      <td>Salad</td>\n",
       "    </tr>\n",
       "    <tr>\n",
       "      <th>18785</th>\n",
       "      <td>Continental</td>\n",
       "      <td>American</td>\n",
       "      <td>Pizza</td>\n",
       "      <td>North Indian</td>\n",
       "      <td>Chinese</td>\n",
       "      <td>Finger Food</td>\n",
       "      <td>Asian</td>\n",
       "      <td>Thai</td>\n",
       "    </tr>\n",
       "    <tr>\n",
       "      <th>24245</th>\n",
       "      <td>Asian</td>\n",
       "      <td>European</td>\n",
       "      <td>Italian</td>\n",
       "      <td>Korean</td>\n",
       "      <td>Malaysian</td>\n",
       "      <td>Thai</td>\n",
       "      <td>Vietnamese</td>\n",
       "      <td>Chinese</td>\n",
       "    </tr>\n",
       "    <tr>\n",
       "      <th>28002</th>\n",
       "      <td>Arabian</td>\n",
       "      <td>BBQ</td>\n",
       "      <td>Biryani</td>\n",
       "      <td>Chinese</td>\n",
       "      <td>Continental</td>\n",
       "      <td>Ice Cream</td>\n",
       "      <td>North Indian</td>\n",
       "      <td>South Indian</td>\n",
       "    </tr>\n",
       "    <tr>\n",
       "      <th>37800</th>\n",
       "      <td>Cafe</td>\n",
       "      <td>Continental</td>\n",
       "      <td>Fast Food</td>\n",
       "      <td>Pizza</td>\n",
       "      <td>Italian</td>\n",
       "      <td>Burger</td>\n",
       "      <td>Chinese</td>\n",
       "      <td>Desserts</td>\n",
       "    </tr>\n",
       "    <tr>\n",
       "      <th>40525</th>\n",
       "      <td>Continental</td>\n",
       "      <td>Burger</td>\n",
       "      <td>South Indian</td>\n",
       "      <td>Sandwich</td>\n",
       "      <td>Italian</td>\n",
       "      <td>Pizza</td>\n",
       "      <td>North Indian</td>\n",
       "      <td>Chinese</td>\n",
       "    </tr>\n",
       "    <tr>\n",
       "      <th>40682</th>\n",
       "      <td>Continental</td>\n",
       "      <td>Biryani</td>\n",
       "      <td>Pizza</td>\n",
       "      <td>North Indian</td>\n",
       "      <td>Chinese</td>\n",
       "      <td>Momos</td>\n",
       "      <td>Andhra</td>\n",
       "      <td>Kebab</td>\n",
       "    </tr>\n",
       "    <tr>\n",
       "      <th>46181</th>\n",
       "      <td>Continental</td>\n",
       "      <td>Asian</td>\n",
       "      <td>Healthy Food</td>\n",
       "      <td>Burger</td>\n",
       "      <td>Biryani</td>\n",
       "      <td>Pizza</td>\n",
       "      <td>Italian</td>\n",
       "      <td>Fast Food</td>\n",
       "    </tr>\n",
       "    <tr>\n",
       "      <th>49355</th>\n",
       "      <td>Bengali</td>\n",
       "      <td>Chinese</td>\n",
       "      <td>Fast Food</td>\n",
       "      <td>Kebab</td>\n",
       "      <td>North Indian</td>\n",
       "      <td>Oriya</td>\n",
       "      <td>Rolls</td>\n",
       "      <td>Tea</td>\n",
       "    </tr>\n",
       "  </tbody>\n",
       "</table>\n",
       "</div>"
      ],
      "text/plain": [
       "                  0            1                 2               3  \\\n",
       "55     Healthy Food      Chinese           Biryani    North Indian   \n",
       "195             BBQ      Arabian             Rolls         Chinese   \n",
       "864         Arabian      Biryani           Chinese  Middle Eastern   \n",
       "900        American       Bakery         Beverages            Cafe   \n",
       "944         Biryani       Kerala           Mughlai     Street Food   \n",
       "1112        Seafood      Biryani      South Indian    North Indian   \n",
       "2508           Cafe  Continental         Beverages    Healthy Food   \n",
       "2526   South Indian      Chinese         Beverages            Cafe   \n",
       "3451    Continental      Biryani          Desserts         Italian   \n",
       "3895       American      Italian            Bakery        Desserts   \n",
       "4248         Andhra    Beverages           Biryani         Chinese   \n",
       "4819    Continental         Thai         Malaysian         Burmese   \n",
       "6573            BBQ      Biryani  Charcoal Chicken         Chinese   \n",
       "6785       American         Cafe       Continental          French   \n",
       "8267    Continental      Italian      North Indian           Asian   \n",
       "8853          Salad      Biryani           Chinese    North Indian   \n",
       "9697        Seafood      Biryani      South Indian       Chettinad   \n",
       "13368   Continental      Mexican            Burger        Desserts   \n",
       "13517   Street Food     American          Sandwich       Fast Food   \n",
       "16391         Pizza       Burger          Sandwich          Coffee   \n",
       "17561          Cafe  Continental         Beverages          Burger   \n",
       "17599          Cafe     American             Salad     Continental   \n",
       "17607         Salad         Cafe       Continental           Steak   \n",
       "17872        Burger     American         Beverages        Desserts   \n",
       "17908   Continental      Seafood           Biryani        Desserts   \n",
       "17932   Continental       Burger          Desserts        Sandwich   \n",
       "18785   Continental     American             Pizza    North Indian   \n",
       "24245         Asian     European           Italian          Korean   \n",
       "28002       Arabian          BBQ           Biryani         Chinese   \n",
       "37800          Cafe  Continental         Fast Food           Pizza   \n",
       "40525   Continental       Burger      South Indian        Sandwich   \n",
       "40682   Continental      Biryani             Pizza    North Indian   \n",
       "46181   Continental        Asian      Healthy Food          Burger   \n",
       "49355       Bengali      Chinese         Fast Food           Kebab   \n",
       "\n",
       "                  4             5              6             7  \n",
       "55      Continental         Salad       American        Burger  \n",
       "195    North Indian        Juices          Kebab      Desserts  \n",
       "864       Fast Food  North Indian        Mughlai       Seafood  \n",
       "900    Healthy Food        Juices   North Indian      Sandwich  \n",
       "944    North Indian       Chinese   South Indian        Andhra  \n",
       "1112        Chinese       Arabian          Kebab        Kerala  \n",
       "2508       Desserts      Sandwich          Pizza         Salad  \n",
       "2526         Coffee     Fast Food          Momos  North Indian  \n",
       "3451   North Indian       Chinese  Modern Indian         Asian  \n",
       "3895       Sandwich     Beverages          Salad         Rolls  \n",
       "4248      Fast Food    Hyderabadi   North Indian  South Indian  \n",
       "4819         Korean    Vietnamese        Chinese  North Indian  \n",
       "6573   North Indian        Kerala        Seafood   Street Food  \n",
       "6785         Burger       Mexican       Desserts         Pizza  \n",
       "8267         Bakery       Chinese       European      Japanese  \n",
       "8853         Kerala      Desserts        Seafood  South Indian  \n",
       "9697        Chinese       Arabian         Andhra        Kerala  \n",
       "13368       Italian         Pizza   North Indian       Chinese  \n",
       "13517     Beverages        Burger       Desserts         Pizza  \n",
       "16391      Desserts   Continental          Salad         Asian  \n",
       "17561      Desserts         Pizza         Bakery      European  \n",
       "17599  Healthy Food       Italian         Coffee      Desserts  \n",
       "17607       Italian        Burger       Desserts         Pizza  \n",
       "17872       Italian         Salad      Ice Cream   Finger Food  \n",
       "17908  North Indian       Chinese         Bakery         Kebab  \n",
       "17932       Italian         Pizza         Bakery         Salad  \n",
       "18785       Chinese   Finger Food          Asian          Thai  \n",
       "24245     Malaysian          Thai     Vietnamese       Chinese  \n",
       "28002   Continental     Ice Cream   North Indian  South Indian  \n",
       "37800       Italian        Burger        Chinese      Desserts  \n",
       "40525       Italian         Pizza   North Indian       Chinese  \n",
       "40682       Chinese         Momos         Andhra         Kebab  \n",
       "46181       Biryani         Pizza        Italian     Fast Food  \n",
       "49355  North Indian         Oriya          Rolls           Tea  "
      ]
     },
     "execution_count": 36,
     "metadata": {},
     "output_type": "execute_result"
    }
   ],
   "source": [
    "df.cuisines.str.split(\", \",expand=True).dropna().drop_duplicates()"
   ]
  },
  {
   "cell_type": "code",
   "execution_count": 37,
   "id": "07973925-7e86-4125-bd85-839fd5917b68",
   "metadata": {
    "scrolled": true
   },
   "outputs": [
    {
     "data": {
      "text/plain": [
       "cuisines\n",
       "North Indian    21085\n",
       "Chinese         15547\n",
       "South Indian     8644\n",
       "Fast Food        8096\n",
       "Biryani          6492\n",
       "Continental      5765\n",
       "Desserts         5633\n",
       "Cafe             5303\n",
       "Beverages        4747\n",
       "Italian          3389\n",
       "Bakery           2840\n",
       "Street Food      2595\n",
       "Pizza            2073\n",
       "Burger           2009\n",
       "Seafood          1810\n",
       "Ice Cream        1774\n",
       "Andhra           1760\n",
       "Mughlai          1570\n",
       "Rolls            1470\n",
       "American         1461\n",
       "Name: count, dtype: int64"
      ]
     },
     "execution_count": 37,
     "metadata": {},
     "output_type": "execute_result"
    }
   ],
   "source": [
    "df['cuisines'].str.split(', ').explode().value_counts().head(20)"
   ]
  },
  {
   "cell_type": "markdown",
   "id": "f68befa7-172d-442e-aad8-d81a9e623bfe",
   "metadata": {},
   "source": [
    "### **reviews_list**"
   ]
  },
  {
   "cell_type": "code",
   "execution_count": 38,
   "id": "e242717d-ca13-4bb4-b359-1d944bf6cee8",
   "metadata": {},
   "outputs": [
    {
     "data": {
      "text/plain": [
       "44122"
      ]
     },
     "execution_count": 38,
     "metadata": {},
     "output_type": "execute_result"
    }
   ],
   "source": [
    "df.reviews_list.count()"
   ]
  },
  {
   "cell_type": "code",
   "execution_count": 39,
   "id": "8d90ff80-57dc-4ce8-84d3-34f42c7377e3",
   "metadata": {},
   "outputs": [
    {
     "data": {
      "text/plain": [
       "7595"
      ]
     },
     "execution_count": 39,
     "metadata": {},
     "output_type": "execute_result"
    }
   ],
   "source": [
    "df.reviews_list.isnull().sum()"
   ]
  },
  {
   "cell_type": "code",
   "execution_count": 41,
   "id": "382cd25b-0241-41e1-8880-563863955624",
   "metadata": {},
   "outputs": [
    {
     "data": {
      "text/plain": [
       "44122"
      ]
     },
     "execution_count": 41,
     "metadata": {},
     "output_type": "execute_result"
    }
   ],
   "source": [
    "df.reviews_list.str.startswith(\"[\").count()"
   ]
  },
  {
   "cell_type": "markdown",
   "id": "5ab2c4a5-69f8-4f22-9b1b-50567d60bbf4",
   "metadata": {},
   "source": [
    "*Every Value in review list is in correct format*"
   ]
  },
  {
   "cell_type": "code",
   "execution_count": 42,
   "id": "9954a3e9-3c0c-4956-86bb-653a90598de3",
   "metadata": {
    "scrolled": true
   },
   "outputs": [
    {
     "data": {
      "text/plain": [
       "'[(\\'Rated 4.0\\', \\'RATED\\\\n  A beautiful place to dine in.The interiors take you back to the Mughal era. The lightings are just perfect.We went there on the occasion of Christmas and so they had only limited items available. But the taste and service was not compromised at all.The only complaint is that the breads could have been better.Would surely like to come here again.\\'), (\\'Rated 4.0\\', \\'RATED\\\\n  I was here for dinner with my family on a weekday. The restaurant was completely empty. Ambience is good with some good old hindi music. Seating arrangement are good too. We ordered masala papad, panner and baby corn starters, lemon and corrionder soup, butter roti, olive and chilli paratha. Food was fresh and good, service is good too. Good for family hangout.\\\\nCheers\\'), (\\'Rated 2.0\\', \\'RATED\\\\n  Its a restaurant near to Banashankari BDA. Me along with few of my office friends visited to have buffet but unfortunately they only provide veg buffet. On inquiring they said this place is mostly visited by vegetarians. Anyways we ordered ala carte items which took ages to come. Food was ok ok. Definitely not visiting anymore.\\'), (\\'Rated 4.0\\', \\'RATED\\\\n  We went here on a weekend and one of us had the buffet while two of us took Ala Carte. Firstly the ambience and service of this place is great! The buffet had a lot of items and the good was good. We had a Pumpkin Halwa intm the dessert which was amazing. Must try! The kulchas are great here. Cheers!\\'), (\\'Rated 5.0\\', \\'RATED\\\\n  The best thing about the place is itÃ\\x83\\\\x83Ã\\x82\\\\x83Ã\\x83\\\\x82Ã\\x82\\\\x82Ã\\x83\\\\x83Ã\\x82\\\\x82Ã\\x83\\\\x82Ã\\x82\\\\x92s ambiance. Second best thing was yummy ? food. We try buffet and buffet food was not disappointed us.\\\\nTest ?. ?? ?? ?? ?? ??\\\\nQuality ?. ??????????.\\\\nService: Staff was very professional and friendly.\\\\n\\\\nOverall experience was excellent.\\\\n\\\\nsubirmajumder85.wixsite.com\\'), (\\'Rated 5.0\\', \\'RATED\\\\n  Great food and pleasant ambience. Expensive but Coll place to chill and relax......\\\\n\\\\nService is really very very good and friendly staff...\\\\n\\\\nFood : 5/5\\\\nService : 5/5\\\\nAmbience :5/5\\\\nOverall :5/5\\'), (\\'Rated 4.0\\', \\'RATED\\\\n  Good ambience with tasty food.\\\\nCheese chilli paratha with Bhutta palak methi curry is a good combo.\\\\nLemon Chicken in the starters is a must try item.\\\\nEgg fried rice was also quite tasty.\\\\nIn the mocktails, recommend \"Alice in Junoon\". Do not miss it.\\'), (\\'Rated 4.0\\', \\'RATED\\\\n  You canÃ\\x83\\\\x83Ã\\x82\\\\x83Ã\\x83\\\\x82Ã\\x82\\\\x82Ã\\x83\\\\x83Ã\\x82\\\\x82Ã\\x83\\\\x82Ã\\x82\\\\x92t go wrong with Jalsa. Never been a fan of their buffet and thus always order alacarteÃ\\x83\\\\x83Ã\\x82\\\\x83Ã\\x83\\\\x82Ã\\x82\\\\x82Ã\\x83\\\\x83Ã\\x82\\\\x82Ã\\x83\\\\x82Ã\\x82\\\\x92. Service at times can be on the slower side but food is worth the wait.\\'), (\\'Rated 5.0\\', \\'RATED\\\\n  Overdelighted by the service and food provided at this place. A royal and ethnic atmosphere builds a strong essence of being in India and also the quality and taste of food is truly authentic. I would totally recommend to visit this place once.\\'), (\\'Rated 4.0\\', \\'RATED\\\\n  The place is nice and comfortable. Food wise all jalea outlets maintain a good standard. The soya chaap was a standout dish. Clearly one of trademark dish as per me and a must try.\\\\n\\\\nThe only concern is the parking. It very congested and limited to just 5cars. The basement parking is very steep and makes it cumbersome\\'), (\\'Rated 4.0\\', \\'RATED\\\\n  The place is nice and comfortable. Food wise all jalea outlets maintain a good standard. The soya chaap was a standout dish. Clearly one of trademark dish as per me and a must try.\\\\n\\\\nThe only concern is the parking. It very congested and limited to just 5cars. The basement parking is very steep and makes it cumbersome\\'), (\\'Rated 4.0\\', \\'RATED\\\\n  The place is nice and comfortable. Food wise all jalea outlets maintain a good standard. The soya chaap was a standout dish. Clearly one of trademark dish as per me and a must try.\\\\n\\\\nThe only concern is the parking. It very congested and limited to just 5cars. The basement parking is very steep and makes it cumbersome\\')]'"
      ]
     },
     "execution_count": 42,
     "metadata": {},
     "output_type": "execute_result"
    }
   ],
   "source": [
    "df.reviews_list[0]"
   ]
  },
  {
   "cell_type": "markdown",
   "id": "2ef9035f-58cd-42a5-8b18-1400f41a7519",
   "metadata": {},
   "source": [
    "*Extracting Rating Values from reviews list and taking their mean to fill null values in rating column*"
   ]
  },
  {
   "cell_type": "code",
   "execution_count": 43,
   "id": "2053a7ed-d037-4eb8-813b-5758885fc19b",
   "metadata": {},
   "outputs": [
    {
     "data": {
      "text/plain": [
       "array([list(['4.0', '4.0', '2.0', '4.0', '5.0', '5.0', '4.0', '4.0', '5.0', '4.0', '4.0', '4.0'])],\n",
       "      dtype=object)"
      ]
     },
     "execution_count": 43,
     "metadata": {},
     "output_type": "execute_result"
    }
   ],
   "source": [
    "df.reviews_list[0:1].str.findall(r'Rated (\\d+.\\d)').values"
   ]
  },
  {
   "cell_type": "code",
   "execution_count": 44,
   "id": "4695a741-0960-4702-8258-fe45db90bef7",
   "metadata": {},
   "outputs": [
    {
     "data": {
      "text/plain": [
       "array([4., 4., 2., 4., 5., 5., 4., 4., 5., 4., 4., 4.])"
      ]
     },
     "execution_count": 44,
     "metadata": {},
     "output_type": "execute_result"
    }
   ],
   "source": [
    "np.array(df.reviews_list[0:1].str.findall(r'Rated (\\d+.\\d)').values[0]).astype('float')"
   ]
  },
  {
   "cell_type": "code",
   "execution_count": 45,
   "id": "42a87e67-706c-481e-96e1-001ae13c6c3b",
   "metadata": {},
   "outputs": [
    {
     "data": {
      "text/plain": [
       "4.083333333333333"
      ]
     },
     "execution_count": 45,
     "metadata": {},
     "output_type": "execute_result"
    }
   ],
   "source": [
    "np.array(df.reviews_list[0:1].str.findall(r'Rated (\\d+.\\d)').values[0]).astype('float').mean()"
   ]
  },
  {
   "cell_type": "code",
   "execution_count": 46,
   "id": "c66bb834-ca0f-4ba0-a341-7f6f78656657",
   "metadata": {},
   "outputs": [
    {
     "data": {
      "text/plain": [
       "4.1"
      ]
     },
     "execution_count": 46,
     "metadata": {},
     "output_type": "execute_result"
    }
   ],
   "source": [
    "df.rating[0]"
   ]
  },
  {
   "cell_type": "markdown",
   "id": "40e8ba9d-813b-4b48-b799-a772d03185cc",
   "metadata": {},
   "source": [
    "*Quite similar to the actual rating value*"
   ]
  },
  {
   "cell_type": "code",
   "execution_count": 47,
   "id": "7540cf6a-90ae-45a7-9da2-bb25a739e921",
   "metadata": {},
   "outputs": [
    {
     "data": {
      "text/plain": [
       "0    [4.0, 4.0, 2.0, 4.0, 5.0, 5.0, 4.0, 4.0, 5.0, ...\n",
       "1    [4.0, 3.0, 3.0, 4.0, 4.0, 5.0, 4.0, 2.0, 4.0, ...\n",
       "2    [3.0, 3.0, 4.0, 3.0, 3.0, 1.0, 3.0, 1.0, 4.0, ...\n",
       "3    [4.0, 2.0, 4.0, 2.0, 4.0, 5.0, 4.0, 5.0, 3.5, ...\n",
       "4                                           [4.0, 4.0]\n",
       "Name: reviews_list, dtype: object"
      ]
     },
     "execution_count": 47,
     "metadata": {},
     "output_type": "execute_result"
    }
   ],
   "source": [
    "df.reviews_list[0:5].str.findall(r'Rated (\\d+.\\d)')"
   ]
  },
  {
   "cell_type": "code",
   "execution_count": 48,
   "id": "54210be7-1219-4172-acb6-22796e08c9a1",
   "metadata": {},
   "outputs": [],
   "source": [
    "avg_rating = df['reviews_list'].str.findall(r'Rated (\\d+\\.\\d)').apply(\n",
    "    lambda ratings: round(np.array(ratings, dtype='float').mean(),1) if ratings else None\n",
    ")"
   ]
  },
  {
   "cell_type": "code",
   "execution_count": 49,
   "id": "35e4f232-8cc7-48f4-8a5c-9111a3cc3025",
   "metadata": {},
   "outputs": [
    {
     "data": {
      "text/plain": [
       "0        4.1\n",
       "1        3.6\n",
       "2        3.2\n",
       "3        3.7\n",
       "4        4.0\n",
       "        ... \n",
       "51712    4.1\n",
       "51713    NaN\n",
       "51714    NaN\n",
       "51715    4.0\n",
       "51716    5.0\n",
       "Name: reviews_list, Length: 51717, dtype: float64"
      ]
     },
     "execution_count": 49,
     "metadata": {},
     "output_type": "execute_result"
    }
   ],
   "source": [
    "avg_rating"
   ]
  },
  {
   "cell_type": "code",
   "execution_count": 50,
   "id": "33d4f2fb-efb7-4f52-bcb3-e8de70df0b91",
   "metadata": {},
   "outputs": [],
   "source": [
    "df['rating'].fillna(avg_rating,inplace=True)"
   ]
  },
  {
   "cell_type": "code",
   "execution_count": 51,
   "id": "7a52fd57-0803-48a7-bea3-2b6de547f6a5",
   "metadata": {},
   "outputs": [
    {
     "data": {
      "text/plain": [
       "5319"
      ]
     },
     "execution_count": 51,
     "metadata": {},
     "output_type": "execute_result"
    }
   ],
   "source": [
    "df.rating.isnull().sum()"
   ]
  },
  {
   "cell_type": "code",
   "execution_count": 52,
   "id": "c42733db-c08a-4e52-bb67-82b23d373446",
   "metadata": {},
   "outputs": [],
   "source": [
    "df.drop(\"reviews_list\",axis=1,inplace=True)"
   ]
  },
  {
   "cell_type": "markdown",
   "id": "6a2ee079-360a-490e-bf2c-8c6a547e6e30",
   "metadata": {
    "jp-MarkdownHeadingCollapsed": true
   },
   "source": [
    "### **votes**"
   ]
  },
  {
   "cell_type": "code",
   "execution_count": 53,
   "id": "7de5ee8a-8ae6-4185-ae0e-9ee930854219",
   "metadata": {
    "scrolled": true
   },
   "outputs": [
    {
     "data": {
      "text/plain": [
       "votes\n",
       "0       10027\n",
       "4        1140\n",
       "6         992\n",
       "7         872\n",
       "9         738\n",
       "        ...  \n",
       "3673        1\n",
       "1862        1\n",
       "3909        1\n",
       "2155        1\n",
       "843         1\n",
       "Name: count, Length: 2328, dtype: int64"
      ]
     },
     "execution_count": 53,
     "metadata": {},
     "output_type": "execute_result"
    }
   ],
   "source": [
    "df.votes.value_counts()"
   ]
  },
  {
   "cell_type": "code",
   "execution_count": 54,
   "id": "a8ef3edf-5e19-4bc5-a9da-4bd107d9f664",
   "metadata": {},
   "outputs": [
    {
     "data": {
      "text/plain": [
       "dtype('int64')"
      ]
     },
     "execution_count": 54,
     "metadata": {},
     "output_type": "execute_result"
    }
   ],
   "source": [
    "df.votes.dtype"
   ]
  },
  {
   "cell_type": "markdown",
   "id": "b9e3ba53-9891-42cb-95d5-e5a9a4b4374e",
   "metadata": {
    "jp-MarkdownHeadingCollapsed": true
   },
   "source": [
    "### **listed_in(type)**"
   ]
  },
  {
   "cell_type": "code",
   "execution_count": 55,
   "id": "f8220991-1365-4367-b454-d7c69d30b4a8",
   "metadata": {
    "scrolled": true
   },
   "outputs": [
    {
     "data": {
      "text/plain": [
       "listed_in(type)\n",
       "Delivery              25942\n",
       "Dine-out              17779\n",
       "Desserts               3593\n",
       "Cafes                  1723\n",
       "Drinks & nightlife     1101\n",
       "Buffet                  882\n",
       "Pubs and bars           697\n",
       "Name: count, dtype: int64"
      ]
     },
     "execution_count": 55,
     "metadata": {},
     "output_type": "execute_result"
    }
   ],
   "source": [
    "df[\"listed_in(type)\"].value_counts()"
   ]
  },
  {
   "cell_type": "markdown",
   "id": "76644928-b331-4c3a-84d0-4fcbd6e32fbd",
   "metadata": {},
   "source": [
    "*Grouping all listed in type values for one url into one row*"
   ]
  },
  {
   "cell_type": "code",
   "execution_count": 56,
   "id": "28968299-22e8-4259-a876-3d009dec9036",
   "metadata": {},
   "outputs": [
    {
     "data": {
      "text/html": [
       "<div>\n",
       "<style scoped>\n",
       "    .dataframe tbody tr th:only-of-type {\n",
       "        vertical-align: middle;\n",
       "    }\n",
       "\n",
       "    .dataframe tbody tr th {\n",
       "        vertical-align: top;\n",
       "    }\n",
       "\n",
       "    .dataframe thead th {\n",
       "        text-align: right;\n",
       "    }\n",
       "</style>\n",
       "<table border=\"1\" class=\"dataframe\">\n",
       "  <thead>\n",
       "    <tr style=\"text-align: right;\">\n",
       "      <th></th>\n",
       "      <th>url</th>\n",
       "      <th>listed_in(type)</th>\n",
       "    </tr>\n",
       "  </thead>\n",
       "  <tbody>\n",
       "    <tr>\n",
       "      <th>0</th>\n",
       "      <td>https://www.zomato.com/24-7RestaurantBangalore</td>\n",
       "      <td>Buffet, Dine-out</td>\n",
       "    </tr>\n",
       "    <tr>\n",
       "      <th>1</th>\n",
       "      <td>https://www.zomato.com/29degreesnorth</td>\n",
       "      <td>Delivery, Dine-out</td>\n",
       "    </tr>\n",
       "    <tr>\n",
       "      <th>2</th>\n",
       "      <td>https://www.zomato.com/ArborBrewIndia</td>\n",
       "      <td>Dine-out, Drinks &amp; nightlife, Pubs and bars</td>\n",
       "    </tr>\n",
       "    <tr>\n",
       "      <th>3</th>\n",
       "      <td>https://www.zomato.com/BaluchiBangalore</td>\n",
       "      <td>Dine-out</td>\n",
       "    </tr>\n",
       "    <tr>\n",
       "      <th>4</th>\n",
       "      <td>https://www.zomato.com/Barebones</td>\n",
       "      <td>Dine-out, Drinks &amp; nightlife, Pubs and bars</td>\n",
       "    </tr>\n",
       "    <tr>\n",
       "      <th>...</th>\n",
       "      <td>...</td>\n",
       "      <td>...</td>\n",
       "    </tr>\n",
       "    <tr>\n",
       "      <th>12448</th>\n",
       "      <td>https://www.zomato.com/thesugarfactory</td>\n",
       "      <td>Dine-out, Drinks &amp; nightlife</td>\n",
       "    </tr>\n",
       "    <tr>\n",
       "      <th>12449</th>\n",
       "      <td>https://www.zomato.com/theunderpassblr</td>\n",
       "      <td>Dine-out, Drinks &amp; nightlife</td>\n",
       "    </tr>\n",
       "    <tr>\n",
       "      <th>12450</th>\n",
       "      <td>https://www.zomato.com/ucfastfood</td>\n",
       "      <td>Delivery, Dine-out</td>\n",
       "    </tr>\n",
       "    <tr>\n",
       "      <th>12451</th>\n",
       "      <td>https://www.zomato.com/umashomefood</td>\n",
       "      <td>Delivery</td>\n",
       "    </tr>\n",
       "    <tr>\n",
       "      <th>12452</th>\n",
       "      <td>https://www.zomato.com/zyksha-food-truck</td>\n",
       "      <td>Delivery, Dine-out</td>\n",
       "    </tr>\n",
       "  </tbody>\n",
       "</table>\n",
       "<p>12453 rows × 2 columns</p>\n",
       "</div>"
      ],
      "text/plain": [
       "                                                  url  \\\n",
       "0      https://www.zomato.com/24-7RestaurantBangalore   \n",
       "1               https://www.zomato.com/29degreesnorth   \n",
       "2               https://www.zomato.com/ArborBrewIndia   \n",
       "3             https://www.zomato.com/BaluchiBangalore   \n",
       "4                    https://www.zomato.com/Barebones   \n",
       "...                                               ...   \n",
       "12448          https://www.zomato.com/thesugarfactory   \n",
       "12449          https://www.zomato.com/theunderpassblr   \n",
       "12450               https://www.zomato.com/ucfastfood   \n",
       "12451             https://www.zomato.com/umashomefood   \n",
       "12452        https://www.zomato.com/zyksha-food-truck   \n",
       "\n",
       "                                   listed_in(type)  \n",
       "0                                 Buffet, Dine-out  \n",
       "1                               Delivery, Dine-out  \n",
       "2      Dine-out, Drinks & nightlife, Pubs and bars  \n",
       "3                                         Dine-out  \n",
       "4      Dine-out, Drinks & nightlife, Pubs and bars  \n",
       "...                                            ...  \n",
       "12448                 Dine-out, Drinks & nightlife  \n",
       "12449                 Dine-out, Drinks & nightlife  \n",
       "12450                           Delivery, Dine-out  \n",
       "12451                                     Delivery  \n",
       "12452                           Delivery, Dine-out  \n",
       "\n",
       "[12453 rows x 2 columns]"
      ]
     },
     "execution_count": 56,
     "metadata": {},
     "output_type": "execute_result"
    }
   ],
   "source": [
    "df.groupby(\"url\",as_index=False)[\"listed_in(type)\"].apply(lambda x :', '.join(x.unique()))"
   ]
  },
  {
   "cell_type": "code",
   "execution_count": 57,
   "id": "f7913691-bf3f-4efc-a2ac-5e41f3a1c33d",
   "metadata": {
    "scrolled": true
   },
   "outputs": [
    {
     "data": {
      "text/html": [
       "<div>\n",
       "<style scoped>\n",
       "    .dataframe tbody tr th:only-of-type {\n",
       "        vertical-align: middle;\n",
       "    }\n",
       "\n",
       "    .dataframe tbody tr th {\n",
       "        vertical-align: top;\n",
       "    }\n",
       "\n",
       "    .dataframe thead th {\n",
       "        text-align: right;\n",
       "    }\n",
       "</style>\n",
       "<table border=\"1\" class=\"dataframe\">\n",
       "  <thead>\n",
       "    <tr style=\"text-align: right;\">\n",
       "      <th></th>\n",
       "      <th>url</th>\n",
       "      <th>address</th>\n",
       "      <th>name</th>\n",
       "      <th>online_order</th>\n",
       "      <th>book_table</th>\n",
       "      <th>rating</th>\n",
       "      <th>votes</th>\n",
       "      <th>location</th>\n",
       "      <th>rest_type</th>\n",
       "      <th>cuisines</th>\n",
       "      <th>cost_for_two</th>\n",
       "      <th>listed_in(type)</th>\n",
       "      <th>listed_in(city)</th>\n",
       "    </tr>\n",
       "  </thead>\n",
       "  <tbody>\n",
       "    <tr>\n",
       "      <th>0</th>\n",
       "      <td>https://www.zomato.com/bangalore/jalsa-banasha...</td>\n",
       "      <td>942, 21st Main Road, 2nd Stage, Banashankari, ...</td>\n",
       "      <td>Jalsa</td>\n",
       "      <td>Yes</td>\n",
       "      <td>Yes</td>\n",
       "      <td>4.1</td>\n",
       "      <td>775</td>\n",
       "      <td>Banashankari</td>\n",
       "      <td>Casual Dining</td>\n",
       "      <td>North Indian, Mughlai, Chinese</td>\n",
       "      <td>800.0</td>\n",
       "      <td>Buffet</td>\n",
       "      <td>Banashankari</td>\n",
       "    </tr>\n",
       "    <tr>\n",
       "      <th>456</th>\n",
       "      <td>https://www.zomato.com/bangalore/jalsa-banasha...</td>\n",
       "      <td>942, 21st Main Road, 2nd Stage, Banashankari, ...</td>\n",
       "      <td>Jalsa</td>\n",
       "      <td>Yes</td>\n",
       "      <td>Yes</td>\n",
       "      <td>4.1</td>\n",
       "      <td>775</td>\n",
       "      <td>Banashankari</td>\n",
       "      <td>Casual Dining</td>\n",
       "      <td>North Indian, Mughlai, Chinese</td>\n",
       "      <td>800.0</td>\n",
       "      <td>Delivery</td>\n",
       "      <td>Banashankari</td>\n",
       "    </tr>\n",
       "    <tr>\n",
       "      <th>559</th>\n",
       "      <td>https://www.zomato.com/bangalore/jalsa-banasha...</td>\n",
       "      <td>942, 21st Main Road, 2nd Stage, Banashankari, ...</td>\n",
       "      <td>Jalsa</td>\n",
       "      <td>Yes</td>\n",
       "      <td>Yes</td>\n",
       "      <td>4.1</td>\n",
       "      <td>775</td>\n",
       "      <td>Banashankari</td>\n",
       "      <td>Casual Dining</td>\n",
       "      <td>North Indian, Mughlai, Chinese</td>\n",
       "      <td>800.0</td>\n",
       "      <td>Dine-out</td>\n",
       "      <td>Banashankari</td>\n",
       "    </tr>\n",
       "    <tr>\n",
       "      <th>2488</th>\n",
       "      <td>https://www.zomato.com/bangalore/jalsa-banasha...</td>\n",
       "      <td>942, 21st Main Road, 2nd Stage, Banashankari, ...</td>\n",
       "      <td>Jalsa</td>\n",
       "      <td>Yes</td>\n",
       "      <td>Yes</td>\n",
       "      <td>4.1</td>\n",
       "      <td>775</td>\n",
       "      <td>Banashankari</td>\n",
       "      <td>Casual Dining</td>\n",
       "      <td>North Indian, Mughlai, Chinese</td>\n",
       "      <td>800.0</td>\n",
       "      <td>Buffet</td>\n",
       "      <td>Basavanagudi</td>\n",
       "    </tr>\n",
       "    <tr>\n",
       "      <th>2966</th>\n",
       "      <td>https://www.zomato.com/bangalore/jalsa-banasha...</td>\n",
       "      <td>942, 21st Main Road, 2nd Stage, Banashankari, ...</td>\n",
       "      <td>Jalsa</td>\n",
       "      <td>Yes</td>\n",
       "      <td>Yes</td>\n",
       "      <td>4.1</td>\n",
       "      <td>775</td>\n",
       "      <td>Banashankari</td>\n",
       "      <td>Casual Dining</td>\n",
       "      <td>North Indian, Mughlai, Chinese</td>\n",
       "      <td>800.0</td>\n",
       "      <td>Delivery</td>\n",
       "      <td>Basavanagudi</td>\n",
       "    </tr>\n",
       "    <tr>\n",
       "      <th>3462</th>\n",
       "      <td>https://www.zomato.com/bangalore/jalsa-banasha...</td>\n",
       "      <td>942, 21st Main Road, 2nd Stage, Banashankari, ...</td>\n",
       "      <td>Jalsa</td>\n",
       "      <td>Yes</td>\n",
       "      <td>Yes</td>\n",
       "      <td>4.1</td>\n",
       "      <td>804</td>\n",
       "      <td>Banashankari</td>\n",
       "      <td>Casual Dining</td>\n",
       "      <td>North Indian, Mughlai, Chinese</td>\n",
       "      <td>800.0</td>\n",
       "      <td>Dine-out</td>\n",
       "      <td>Basavanagudi</td>\n",
       "    </tr>\n",
       "    <tr>\n",
       "      <th>7607</th>\n",
       "      <td>https://www.zomato.com/bangalore/jalsa-maratha...</td>\n",
       "      <td>25/7, Doddannakundi, Outer Ring Road, Mahadeva...</td>\n",
       "      <td>Jalsa</td>\n",
       "      <td>Yes</td>\n",
       "      <td>Yes</td>\n",
       "      <td>4.2</td>\n",
       "      <td>2173</td>\n",
       "      <td>Marathahalli</td>\n",
       "      <td>Casual Dining</td>\n",
       "      <td>North Indian, Mughlai</td>\n",
       "      <td>1500.0</td>\n",
       "      <td>Delivery</td>\n",
       "      <td>Brookefield</td>\n",
       "    </tr>\n",
       "    <tr>\n",
       "      <th>19401</th>\n",
       "      <td>https://www.zomato.com/bangalore/jalsa-banasha...</td>\n",
       "      <td>942, 21st Main Road, 2nd Stage, Banashankari, ...</td>\n",
       "      <td>Jalsa</td>\n",
       "      <td>Yes</td>\n",
       "      <td>Yes</td>\n",
       "      <td>4.1</td>\n",
       "      <td>783</td>\n",
       "      <td>Banashankari</td>\n",
       "      <td>Casual Dining</td>\n",
       "      <td>North Indian, Mughlai, Chinese</td>\n",
       "      <td>800.0</td>\n",
       "      <td>Buffet</td>\n",
       "      <td>Jayanagar</td>\n",
       "    </tr>\n",
       "    <tr>\n",
       "      <th>20399</th>\n",
       "      <td>https://www.zomato.com/bangalore/jalsa-banasha...</td>\n",
       "      <td>942, 21st Main Road, 2nd Stage, Banashankari, ...</td>\n",
       "      <td>Jalsa</td>\n",
       "      <td>Yes</td>\n",
       "      <td>Yes</td>\n",
       "      <td>4.1</td>\n",
       "      <td>783</td>\n",
       "      <td>Banashankari</td>\n",
       "      <td>Casual Dining</td>\n",
       "      <td>North Indian, Mughlai, Chinese</td>\n",
       "      <td>800.0</td>\n",
       "      <td>Delivery</td>\n",
       "      <td>Jayanagar</td>\n",
       "    </tr>\n",
       "    <tr>\n",
       "      <th>21302</th>\n",
       "      <td>https://www.zomato.com/bangalore/jalsa-banasha...</td>\n",
       "      <td>942, 21st Main Road, 2nd Stage, Banashankari, ...</td>\n",
       "      <td>Jalsa</td>\n",
       "      <td>Yes</td>\n",
       "      <td>Yes</td>\n",
       "      <td>4.1</td>\n",
       "      <td>783</td>\n",
       "      <td>Banashankari</td>\n",
       "      <td>Casual Dining</td>\n",
       "      <td>North Indian, Mughlai, Chinese</td>\n",
       "      <td>800.0</td>\n",
       "      <td>Dine-out</td>\n",
       "      <td>Jayanagar</td>\n",
       "    </tr>\n",
       "    <tr>\n",
       "      <th>41364</th>\n",
       "      <td>https://www.zomato.com/bangalore/jalsa-maratha...</td>\n",
       "      <td>25/7, Doddannakundi, Outer Ring Road, Mahadeva...</td>\n",
       "      <td>Jalsa</td>\n",
       "      <td>Yes</td>\n",
       "      <td>Yes</td>\n",
       "      <td>4.2</td>\n",
       "      <td>2189</td>\n",
       "      <td>Marathahalli</td>\n",
       "      <td>Casual Dining</td>\n",
       "      <td>North Indian, Mughlai</td>\n",
       "      <td>1500.0</td>\n",
       "      <td>Delivery</td>\n",
       "      <td>Marathahalli</td>\n",
       "    </tr>\n",
       "  </tbody>\n",
       "</table>\n",
       "</div>"
      ],
      "text/plain": [
       "                                                     url  \\\n",
       "0      https://www.zomato.com/bangalore/jalsa-banasha...   \n",
       "456    https://www.zomato.com/bangalore/jalsa-banasha...   \n",
       "559    https://www.zomato.com/bangalore/jalsa-banasha...   \n",
       "2488   https://www.zomato.com/bangalore/jalsa-banasha...   \n",
       "2966   https://www.zomato.com/bangalore/jalsa-banasha...   \n",
       "3462   https://www.zomato.com/bangalore/jalsa-banasha...   \n",
       "7607   https://www.zomato.com/bangalore/jalsa-maratha...   \n",
       "19401  https://www.zomato.com/bangalore/jalsa-banasha...   \n",
       "20399  https://www.zomato.com/bangalore/jalsa-banasha...   \n",
       "21302  https://www.zomato.com/bangalore/jalsa-banasha...   \n",
       "41364  https://www.zomato.com/bangalore/jalsa-maratha...   \n",
       "\n",
       "                                                 address   name online_order  \\\n",
       "0      942, 21st Main Road, 2nd Stage, Banashankari, ...  Jalsa          Yes   \n",
       "456    942, 21st Main Road, 2nd Stage, Banashankari, ...  Jalsa          Yes   \n",
       "559    942, 21st Main Road, 2nd Stage, Banashankari, ...  Jalsa          Yes   \n",
       "2488   942, 21st Main Road, 2nd Stage, Banashankari, ...  Jalsa          Yes   \n",
       "2966   942, 21st Main Road, 2nd Stage, Banashankari, ...  Jalsa          Yes   \n",
       "3462   942, 21st Main Road, 2nd Stage, Banashankari, ...  Jalsa          Yes   \n",
       "7607   25/7, Doddannakundi, Outer Ring Road, Mahadeva...  Jalsa          Yes   \n",
       "19401  942, 21st Main Road, 2nd Stage, Banashankari, ...  Jalsa          Yes   \n",
       "20399  942, 21st Main Road, 2nd Stage, Banashankari, ...  Jalsa          Yes   \n",
       "21302  942, 21st Main Road, 2nd Stage, Banashankari, ...  Jalsa          Yes   \n",
       "41364  25/7, Doddannakundi, Outer Ring Road, Mahadeva...  Jalsa          Yes   \n",
       "\n",
       "      book_table  rating  votes      location      rest_type  \\\n",
       "0            Yes     4.1    775  Banashankari  Casual Dining   \n",
       "456          Yes     4.1    775  Banashankari  Casual Dining   \n",
       "559          Yes     4.1    775  Banashankari  Casual Dining   \n",
       "2488         Yes     4.1    775  Banashankari  Casual Dining   \n",
       "2966         Yes     4.1    775  Banashankari  Casual Dining   \n",
       "3462         Yes     4.1    804  Banashankari  Casual Dining   \n",
       "7607         Yes     4.2   2173  Marathahalli  Casual Dining   \n",
       "19401        Yes     4.1    783  Banashankari  Casual Dining   \n",
       "20399        Yes     4.1    783  Banashankari  Casual Dining   \n",
       "21302        Yes     4.1    783  Banashankari  Casual Dining   \n",
       "41364        Yes     4.2   2189  Marathahalli  Casual Dining   \n",
       "\n",
       "                             cuisines  cost_for_two listed_in(type)  \\\n",
       "0      North Indian, Mughlai, Chinese         800.0          Buffet   \n",
       "456    North Indian, Mughlai, Chinese         800.0        Delivery   \n",
       "559    North Indian, Mughlai, Chinese         800.0        Dine-out   \n",
       "2488   North Indian, Mughlai, Chinese         800.0          Buffet   \n",
       "2966   North Indian, Mughlai, Chinese         800.0        Delivery   \n",
       "3462   North Indian, Mughlai, Chinese         800.0        Dine-out   \n",
       "7607            North Indian, Mughlai        1500.0        Delivery   \n",
       "19401  North Indian, Mughlai, Chinese         800.0          Buffet   \n",
       "20399  North Indian, Mughlai, Chinese         800.0        Delivery   \n",
       "21302  North Indian, Mughlai, Chinese         800.0        Dine-out   \n",
       "41364           North Indian, Mughlai        1500.0        Delivery   \n",
       "\n",
       "      listed_in(city)  \n",
       "0        Banashankari  \n",
       "456      Banashankari  \n",
       "559      Banashankari  \n",
       "2488     Basavanagudi  \n",
       "2966     Basavanagudi  \n",
       "3462     Basavanagudi  \n",
       "7607      Brookefield  \n",
       "19401       Jayanagar  \n",
       "20399       Jayanagar  \n",
       "21302       Jayanagar  \n",
       "41364    Marathahalli  "
      ]
     },
     "execution_count": 57,
     "metadata": {},
     "output_type": "execute_result"
    }
   ],
   "source": [
    "df[df.name==\"Jalsa\"]"
   ]
  },
  {
   "cell_type": "markdown",
   "id": "8381832b-ea3c-4ddf-97f7-720e6805dd7f",
   "metadata": {
    "jp-MarkdownHeadingCollapsed": true
   },
   "source": [
    "### **location**"
   ]
  },
  {
   "cell_type": "code",
   "execution_count": 58,
   "id": "ba703a7a-3388-4b81-a64f-53196df34a02",
   "metadata": {
    "scrolled": true
   },
   "outputs": [
    {
     "data": {
      "text/plain": [
       "location\n",
       "BTM                              5124\n",
       "HSR                              2523\n",
       "Koramangala 5th Block            2504\n",
       "JP Nagar                         2235\n",
       "Whitefield                       2144\n",
       "Indiranagar                      2083\n",
       "Jayanagar                        1926\n",
       "Marathahalli                     1846\n",
       "Bannerghatta Road                1630\n",
       "Bellandur                        1286\n",
       "Electronic City                  1258\n",
       "Koramangala 1st Block            1238\n",
       "Brigade Road                     1218\n",
       "Koramangala 7th Block            1181\n",
       "Koramangala 6th Block            1156\n",
       "Sarjapur Road                    1065\n",
       "Ulsoor                           1023\n",
       "Koramangala 4th Block            1017\n",
       "MG Road                           918\n",
       "Banashankari                      906\n",
       "Kalyan Nagar                      853\n",
       "Richmond Road                     812\n",
       "Frazer Town                       727\n",
       "Malleshwaram                      725\n",
       "Basavanagudi                      684\n",
       "Residency Road                    675\n",
       "Banaswadi                         664\n",
       "Brookefield                       658\n",
       "New BEL Road                      649\n",
       "Kammanahalli                      648\n",
       "Rajajinagar                       591\n",
       "Church Street                     569\n",
       "Lavelle Road                      529\n",
       "Shanti Nagar                      511\n",
       "Shivajinagar                      499\n",
       "Domlur                            496\n",
       "Cunningham Road                   491\n",
       "Old Airport Road                  446\n",
       "Ejipura                           439\n",
       "Commercial Street                 370\n",
       "St. Marks Road                    352\n",
       "Koramangala 8th Block             320\n",
       "Vasanth Nagar                     295\n",
       "Jeevan Bhima Nagar                272\n",
       "Wilson Garden                     246\n",
       "Bommanahalli                      238\n",
       "Koramangala 3rd Block             216\n",
       "Kumaraswamy Layout                195\n",
       "Thippasandra                      194\n",
       "Basaveshwara Nagar                191\n",
       "Nagawara                          187\n",
       "Seshadripuram                     165\n",
       "Hennur                            161\n",
       "Majestic                          155\n",
       "HBR Layout                        153\n",
       "Infantry Road                     151\n",
       "Race Course Road                  139\n",
       "City Market                       126\n",
       "Yeshwantpur                       119\n",
       "Varthur Main Road, Whitefield     117\n",
       "ITPL Main Road, Whitefield        113\n",
       "South Bangalore                   107\n",
       "Koramangala 2nd Block             102\n",
       "Hosur Road                        102\n",
       "Kaggadasapura                     101\n",
       "CV Raman Nagar                     90\n",
       "Vijay Nagar                        80\n",
       "RT Nagar                           80\n",
       "Sanjay Nagar                       76\n",
       "Sadashiv Nagar                     63\n",
       "Sahakara Nagar                     53\n",
       "Koramangala                        48\n",
       "East Bangalore                     44\n",
       "Jalahalli                          38\n",
       "Magadi Road                        34\n",
       "Rammurthy Nagar                    32\n",
       "Langford Town                      27\n",
       "Sankey Road                        27\n",
       "Old Madras Road                    22\n",
       "Mysore Road                        22\n",
       "Kanakapura Road                    19\n",
       "KR Puram                           18\n",
       "Uttarahalli                        17\n",
       "Hebbal                             14\n",
       "North Bangalore                    14\n",
       "Kengeri                             9\n",
       "Nagarbhavi                          9\n",
       "Central Bangalore                   8\n",
       "West Bangalore                      6\n",
       "Yelahanka                           6\n",
       "Jakkur                              3\n",
       "Rajarajeshwari Nagar                2\n",
       "Peenya                              1\n",
       "Name: count, dtype: int64"
      ]
     },
     "execution_count": 58,
     "metadata": {},
     "output_type": "execute_result"
    }
   ],
   "source": [
    "df[\"location\"].value_counts()"
   ]
  },
  {
   "cell_type": "code",
   "execution_count": 59,
   "id": "b185f301-59a2-4410-8c6a-2341afc4dc63",
   "metadata": {},
   "outputs": [
    {
     "data": {
      "text/plain": [
       "21"
      ]
     },
     "execution_count": 59,
     "metadata": {},
     "output_type": "execute_result"
    }
   ],
   "source": [
    "df.location.isnull().sum()"
   ]
  },
  {
   "cell_type": "code",
   "execution_count": 60,
   "id": "52f52107-0c81-41b5-b742-5b64fd0ff122",
   "metadata": {},
   "outputs": [
    {
     "data": {
      "text/plain": [
       "(21, 13)"
      ]
     },
     "execution_count": 60,
     "metadata": {},
     "output_type": "execute_result"
    }
   ],
   "source": [
    "df[df.address.notnull() & df.location.isnull()].shape"
   ]
  },
  {
   "cell_type": "markdown",
   "id": "e15000f2-0710-4c9d-b5db-03ca5ef5e42f",
   "metadata": {},
   "source": [
    "*So we can fill location values from address*"
   ]
  },
  {
   "cell_type": "code",
   "execution_count": 62,
   "id": "f6cb852b-159c-4965-a551-c266f3e1a79b",
   "metadata": {},
   "outputs": [
    {
     "data": {
      "text/plain": [
       "0          Banashankari\n",
       "1          Banashankari\n",
       "2          Banashankari\n",
       "3          Banashankari\n",
       "4          Basavanagudi\n",
       "              ...      \n",
       "51712        Whitefield\n",
       "51713        Whitefield\n",
       "51714        Whitefield\n",
       "51715    ITPL Main Road\n",
       "51716    ITPL Main Road\n",
       "Name: address, Length: 51717, dtype: object"
      ]
     },
     "execution_count": 62,
     "metadata": {},
     "output_type": "execute_result"
    }
   ],
   "source": [
    "locFromAddr = df.address.str.split(', ').str[-2]\n",
    "locFromAddr"
   ]
  },
  {
   "cell_type": "code",
   "execution_count": 63,
   "id": "ae33150a-4c39-490e-9a48-9c0fecb268cb",
   "metadata": {},
   "outputs": [
    {
     "data": {
      "text/plain": [
       "1662              Bommanahalli\n",
       "9874              Bommanahalli\n",
       "13693          Electronic City\n",
       "16351             Bommanahalli\n",
       "26432             Kalyan Nagar\n",
       "26519    Koramangala 8th Block\n",
       "27672    Koramangala 6th Block\n",
       "28611    Koramangala 6th Block\n",
       "29298    Koramangala 8th Block\n",
       "30604    Koramangala 6th Block\n",
       "31400    Koramangala 6th Block\n",
       "32131    Koramangala 8th Block\n",
       "33457    Koramangala 4th Block\n",
       "34755    Koramangala 8th Block\n",
       "40354              Rajajinagar\n",
       "40556             Marathahalli\n",
       "41980             Marathahalli\n",
       "46586             Cholourpalya\n",
       "46609        Govindaraja Nagar\n",
       "46752              Rajajinagar\n",
       "47134             Cholourpalya\n",
       "Name: address, dtype: object"
      ]
     },
     "execution_count": 63,
     "metadata": {},
     "output_type": "execute_result"
    }
   ],
   "source": [
    "locFromAddr[df.location.isnull()]"
   ]
  },
  {
   "cell_type": "code",
   "execution_count": 64,
   "id": "d74f057b-6449-4c1c-b353-8fd60a12101b",
   "metadata": {},
   "outputs": [
    {
     "data": {
      "text/plain": [
       "0"
      ]
     },
     "execution_count": 64,
     "metadata": {},
     "output_type": "execute_result"
    }
   ],
   "source": [
    "df.location.fillna(locFromAddr).isnull().sum()"
   ]
  },
  {
   "cell_type": "code",
   "execution_count": 65,
   "id": "c326a9bc-99ac-48d5-a36d-98df3b418033",
   "metadata": {},
   "outputs": [],
   "source": [
    "df[\"location\"] = df.location.fillna(locFromAddr)"
   ]
  },
  {
   "cell_type": "code",
   "execution_count": 66,
   "id": "a1ac82ee-522a-4f91-a02c-b1ff7198ed17",
   "metadata": {},
   "outputs": [],
   "source": [
    "df.drop(\"address\",axis=1,inplace=True)"
   ]
  },
  {
   "cell_type": "markdown",
   "id": "20242b6d-aec3-4392-9488-9f3ddc2b1c96",
   "metadata": {
    "jp-MarkdownHeadingCollapsed": true
   },
   "source": [
    "### **listed_in(city)**"
   ]
  },
  {
   "cell_type": "code",
   "execution_count": 67,
   "id": "e834e754-a889-446d-a2a4-1d8cfe68e7fd",
   "metadata": {
    "scrolled": true
   },
   "outputs": [
    {
     "data": {
      "text/plain": [
       "listed_in(city)\n",
       "BTM                      3279\n",
       "Koramangala 7th Block    2938\n",
       "Koramangala 5th Block    2836\n",
       "Koramangala 4th Block    2779\n",
       "Koramangala 6th Block    2623\n",
       "Jayanagar                2371\n",
       "JP Nagar                 2096\n",
       "Indiranagar              1860\n",
       "Church Street            1827\n",
       "MG Road                  1811\n",
       "Brigade Road             1769\n",
       "Lavelle Road             1744\n",
       "HSR                      1741\n",
       "Marathahalli             1659\n",
       "Residency Road           1620\n",
       "Whitefield               1620\n",
       "Bannerghatta Road        1617\n",
       "Brookefield              1518\n",
       "Old Airport Road         1425\n",
       "Kammanahalli             1329\n",
       "Kalyan Nagar             1309\n",
       "Basavanagudi             1266\n",
       "Sarjapur Road            1261\n",
       "Electronic City          1229\n",
       "Bellandur                1227\n",
       "Frazer Town              1185\n",
       "Malleshwaram             1096\n",
       "Rajajinagar              1079\n",
       "Banashankari              863\n",
       "New BEL Road              740\n",
       "Name: count, dtype: int64"
      ]
     },
     "execution_count": 67,
     "metadata": {},
     "output_type": "execute_result"
    }
   ],
   "source": [
    "df[\"listed_in(city)\"].value_counts()"
   ]
  },
  {
   "cell_type": "markdown",
   "id": "1c6a1fde-32fe-499b-9919-ffcd22c1f352",
   "metadata": {},
   "source": [
    "*Not much significance*"
   ]
  },
  {
   "cell_type": "code",
   "execution_count": 68,
   "id": "044b099d-e1e4-4ff6-96de-4ef3c0a00a60",
   "metadata": {},
   "outputs": [],
   "source": [
    "df.drop(\"listed_in(city)\",axis=1,inplace=True)"
   ]
  },
  {
   "cell_type": "markdown",
   "id": "c45e0e97-7a42-4e6d-a90a-8292f6787cf1",
   "metadata": {},
   "source": [
    "### **Grouping multiple rows corresponding to the same restaurant into a single consolidated row**\n",
    "### **by applying different aggregation functions to each column based on the type of data**"
   ]
  },
  {
   "cell_type": "code",
   "execution_count": 69,
   "id": "0a236756-eae3-4d98-ac16-583e9bf52a23",
   "metadata": {
    "scrolled": true
   },
   "outputs": [
    {
     "data": {
      "text/html": [
       "<div>\n",
       "<style scoped>\n",
       "    .dataframe tbody tr th:only-of-type {\n",
       "        vertical-align: middle;\n",
       "    }\n",
       "\n",
       "    .dataframe tbody tr th {\n",
       "        vertical-align: top;\n",
       "    }\n",
       "\n",
       "    .dataframe thead th {\n",
       "        text-align: right;\n",
       "    }\n",
       "</style>\n",
       "<table border=\"1\" class=\"dataframe\">\n",
       "  <thead>\n",
       "    <tr style=\"text-align: right;\">\n",
       "      <th></th>\n",
       "      <th></th>\n",
       "      <th>url</th>\n",
       "      <th>name</th>\n",
       "      <th>online_order</th>\n",
       "      <th>book_table</th>\n",
       "      <th>rating</th>\n",
       "      <th>votes</th>\n",
       "      <th>location</th>\n",
       "      <th>rest_type</th>\n",
       "      <th>cuisines</th>\n",
       "      <th>cost_for_two</th>\n",
       "      <th>listed_in(type)</th>\n",
       "    </tr>\n",
       "  </thead>\n",
       "  <tbody>\n",
       "    <tr>\n",
       "      <th rowspan=\"2\" valign=\"top\">0</th>\n",
       "      <th>39419</th>\n",
       "      <td>https://www.zomato.com/24-7RestaurantBangalore</td>\n",
       "      <td>24/7 - The Lalit Ashok Bangalore</td>\n",
       "      <td>No</td>\n",
       "      <td>Yes</td>\n",
       "      <td>4.0</td>\n",
       "      <td>344</td>\n",
       "      <td>Seshadripuram</td>\n",
       "      <td>Fine Dining</td>\n",
       "      <td>Continental, North Indian, Italian, Chinese</td>\n",
       "      <td>3000.0</td>\n",
       "      <td>Buffet</td>\n",
       "    </tr>\n",
       "    <tr>\n",
       "      <th>40269</th>\n",
       "      <td>https://www.zomato.com/24-7RestaurantBangalore</td>\n",
       "      <td>24/7 - The Lalit Ashok Bangalore</td>\n",
       "      <td>No</td>\n",
       "      <td>Yes</td>\n",
       "      <td>4.0</td>\n",
       "      <td>344</td>\n",
       "      <td>Seshadripuram</td>\n",
       "      <td>Fine Dining</td>\n",
       "      <td>Continental, North Indian, Italian, Chinese</td>\n",
       "      <td>3000.0</td>\n",
       "      <td>Dine-out</td>\n",
       "    </tr>\n",
       "    <tr>\n",
       "      <th rowspan=\"4\" valign=\"top\">1</th>\n",
       "      <th>24190</th>\n",
       "      <td>https://www.zomato.com/29degreesnorth</td>\n",
       "      <td>29 Degrees North</td>\n",
       "      <td>Yes</td>\n",
       "      <td>No</td>\n",
       "      <td>3.9</td>\n",
       "      <td>283</td>\n",
       "      <td>Banaswadi</td>\n",
       "      <td>Quick Bites</td>\n",
       "      <td>North Indian, Fast Food, Street Food</td>\n",
       "      <td>250.0</td>\n",
       "      <td>Delivery</td>\n",
       "    </tr>\n",
       "    <tr>\n",
       "      <th>25039</th>\n",
       "      <td>https://www.zomato.com/29degreesnorth</td>\n",
       "      <td>29 Degrees North</td>\n",
       "      <td>Yes</td>\n",
       "      <td>No</td>\n",
       "      <td>3.9</td>\n",
       "      <td>283</td>\n",
       "      <td>Banaswadi</td>\n",
       "      <td>Quick Bites</td>\n",
       "      <td>North Indian, Fast Food, Street Food</td>\n",
       "      <td>250.0</td>\n",
       "      <td>Dine-out</td>\n",
       "    </tr>\n",
       "    <tr>\n",
       "      <th>25543</th>\n",
       "      <td>https://www.zomato.com/29degreesnorth</td>\n",
       "      <td>29 Degrees North</td>\n",
       "      <td>Yes</td>\n",
       "      <td>No</td>\n",
       "      <td>3.9</td>\n",
       "      <td>283</td>\n",
       "      <td>Banaswadi</td>\n",
       "      <td>Quick Bites</td>\n",
       "      <td>North Indian, Fast Food, Street Food</td>\n",
       "      <td>250.0</td>\n",
       "      <td>Delivery</td>\n",
       "    </tr>\n",
       "    <tr>\n",
       "      <th>26315</th>\n",
       "      <td>https://www.zomato.com/29degreesnorth</td>\n",
       "      <td>29 Degrees North</td>\n",
       "      <td>Yes</td>\n",
       "      <td>No</td>\n",
       "      <td>3.9</td>\n",
       "      <td>287</td>\n",
       "      <td>Banaswadi</td>\n",
       "      <td>Quick Bites</td>\n",
       "      <td>North Indian, Fast Food, Street Food</td>\n",
       "      <td>250.0</td>\n",
       "      <td>Dine-out</td>\n",
       "    </tr>\n",
       "  </tbody>\n",
       "</table>\n",
       "</div>"
      ],
      "text/plain": [
       "                                                    url  \\\n",
       "0 39419  https://www.zomato.com/24-7RestaurantBangalore   \n",
       "  40269  https://www.zomato.com/24-7RestaurantBangalore   \n",
       "1 24190           https://www.zomato.com/29degreesnorth   \n",
       "  25039           https://www.zomato.com/29degreesnorth   \n",
       "  25543           https://www.zomato.com/29degreesnorth   \n",
       "  26315           https://www.zomato.com/29degreesnorth   \n",
       "\n",
       "                                     name online_order book_table  rating  \\\n",
       "0 39419  24/7 - The Lalit Ashok Bangalore           No        Yes     4.0   \n",
       "  40269  24/7 - The Lalit Ashok Bangalore           No        Yes     4.0   \n",
       "1 24190                  29 Degrees North          Yes         No     3.9   \n",
       "  25039                  29 Degrees North          Yes         No     3.9   \n",
       "  25543                  29 Degrees North          Yes         No     3.9   \n",
       "  26315                  29 Degrees North          Yes         No     3.9   \n",
       "\n",
       "         votes       location    rest_type  \\\n",
       "0 39419    344  Seshadripuram  Fine Dining   \n",
       "  40269    344  Seshadripuram  Fine Dining   \n",
       "1 24190    283      Banaswadi  Quick Bites   \n",
       "  25039    283      Banaswadi  Quick Bites   \n",
       "  25543    283      Banaswadi  Quick Bites   \n",
       "  26315    287      Banaswadi  Quick Bites   \n",
       "\n",
       "                                            cuisines  cost_for_two  \\\n",
       "0 39419  Continental, North Indian, Italian, Chinese        3000.0   \n",
       "  40269  Continental, North Indian, Italian, Chinese        3000.0   \n",
       "1 24190         North Indian, Fast Food, Street Food         250.0   \n",
       "  25039         North Indian, Fast Food, Street Food         250.0   \n",
       "  25543         North Indian, Fast Food, Street Food         250.0   \n",
       "  26315         North Indian, Fast Food, Street Food         250.0   \n",
       "\n",
       "        listed_in(type)  \n",
       "0 39419          Buffet  \n",
       "  40269        Dine-out  \n",
       "1 24190        Delivery  \n",
       "  25039        Dine-out  \n",
       "  25543        Delivery  \n",
       "  26315        Dine-out  "
      ]
     },
     "execution_count": 69,
     "metadata": {},
     "output_type": "execute_result"
    }
   ],
   "source": [
    "df.groupby(\"url\",as_index=False).apply(lambda df :df).head(6)"
   ]
  },
  {
   "cell_type": "markdown",
   "id": "3e0b1df2-e78f-4461-a4fd-15f45f7f2520",
   "metadata": {},
   "source": [
    "*The same url has multiple rows because of different listed_in(type) values*"
   ]
  },
  {
   "cell_type": "code",
   "execution_count": 70,
   "id": "1af148e6-6b5c-494c-b588-47adb8d0730c",
   "metadata": {},
   "outputs": [
    {
     "data": {
      "text/html": [
       "<div>\n",
       "<style scoped>\n",
       "    .dataframe tbody tr th:only-of-type {\n",
       "        vertical-align: middle;\n",
       "    }\n",
       "\n",
       "    .dataframe tbody tr th {\n",
       "        vertical-align: top;\n",
       "    }\n",
       "\n",
       "    .dataframe thead th {\n",
       "        text-align: right;\n",
       "    }\n",
       "</style>\n",
       "<table border=\"1\" class=\"dataframe\">\n",
       "  <thead>\n",
       "    <tr style=\"text-align: right;\">\n",
       "      <th></th>\n",
       "      <th>url</th>\n",
       "      <th>name</th>\n",
       "      <th>votes</th>\n",
       "    </tr>\n",
       "  </thead>\n",
       "  <tbody>\n",
       "    <tr>\n",
       "      <th>1</th>\n",
       "      <td>https://www.zomato.com/29degreesnorth</td>\n",
       "      <td>29 Degrees North</td>\n",
       "      <td>2</td>\n",
       "    </tr>\n",
       "    <tr>\n",
       "      <th>2</th>\n",
       "      <td>https://www.zomato.com/ArborBrewIndia</td>\n",
       "      <td>Arbor Brewing Company</td>\n",
       "      <td>7</td>\n",
       "    </tr>\n",
       "    <tr>\n",
       "      <th>6</th>\n",
       "      <td>https://www.zomato.com/ChurchStreetSocial</td>\n",
       "      <td>Church Street Social</td>\n",
       "      <td>7</td>\n",
       "    </tr>\n",
       "    <tr>\n",
       "      <th>7</th>\n",
       "      <td>https://www.zomato.com/Cilantro</td>\n",
       "      <td>Cilantro</td>\n",
       "      <td>3</td>\n",
       "    </tr>\n",
       "    <tr>\n",
       "      <th>8</th>\n",
       "      <td>https://www.zomato.com/FreshMenuIndiranagar</td>\n",
       "      <td>FreshMenu</td>\n",
       "      <td>2</td>\n",
       "    </tr>\n",
       "    <tr>\n",
       "      <th>...</th>\n",
       "      <td>...</td>\n",
       "      <td>...</td>\n",
       "      <td>...</td>\n",
       "    </tr>\n",
       "    <tr>\n",
       "      <th>12478</th>\n",
       "      <td>https://www.zomato.com/taantraa</td>\n",
       "      <td>Taantraa - Organic Handbaking</td>\n",
       "      <td>2</td>\n",
       "    </tr>\n",
       "    <tr>\n",
       "      <th>12479</th>\n",
       "      <td>https://www.zomato.com/techieskitchen</td>\n",
       "      <td>Techies Kitchen</td>\n",
       "      <td>2</td>\n",
       "    </tr>\n",
       "    <tr>\n",
       "      <th>12484</th>\n",
       "      <td>https://www.zomato.com/thepurplepan</td>\n",
       "      <td>The Purple Pan</td>\n",
       "      <td>2</td>\n",
       "    </tr>\n",
       "    <tr>\n",
       "      <th>12485</th>\n",
       "      <td>https://www.zomato.com/thesugarfactory</td>\n",
       "      <td>The Sugar Factory - Le Meridien</td>\n",
       "      <td>3</td>\n",
       "    </tr>\n",
       "    <tr>\n",
       "      <th>12486</th>\n",
       "      <td>https://www.zomato.com/theunderpassblr</td>\n",
       "      <td>The Underpass Pub &amp; Grub</td>\n",
       "      <td>3</td>\n",
       "    </tr>\n",
       "  </tbody>\n",
       "</table>\n",
       "<p>3931 rows × 3 columns</p>\n",
       "</div>"
      ],
      "text/plain": [
       "                                               url  \\\n",
       "1            https://www.zomato.com/29degreesnorth   \n",
       "2            https://www.zomato.com/ArborBrewIndia   \n",
       "6        https://www.zomato.com/ChurchStreetSocial   \n",
       "7                  https://www.zomato.com/Cilantro   \n",
       "8      https://www.zomato.com/FreshMenuIndiranagar   \n",
       "...                                            ...   \n",
       "12478              https://www.zomato.com/taantraa   \n",
       "12479        https://www.zomato.com/techieskitchen   \n",
       "12484          https://www.zomato.com/thepurplepan   \n",
       "12485       https://www.zomato.com/thesugarfactory   \n",
       "12486       https://www.zomato.com/theunderpassblr   \n",
       "\n",
       "                                  name  votes  \n",
       "1                     29 Degrees North      2  \n",
       "2                Arbor Brewing Company      7  \n",
       "6                 Church Street Social      7  \n",
       "7                             Cilantro      3  \n",
       "8                            FreshMenu      2  \n",
       "...                                ...    ...  \n",
       "12478    Taantraa - Organic Handbaking      2  \n",
       "12479                  Techies Kitchen      2  \n",
       "12484                   The Purple Pan      2  \n",
       "12485  The Sugar Factory - Le Meridien      3  \n",
       "12486         The Underpass Pub & Grub      3  \n",
       "\n",
       "[3931 rows x 3 columns]"
      ]
     },
     "execution_count": 70,
     "metadata": {},
     "output_type": "execute_result"
    }
   ],
   "source": [
    "df.groupby(['url', 'name'])['votes'].nunique().reset_index().query('votes > 1')"
   ]
  },
  {
   "cell_type": "markdown",
   "id": "fef2e5a1-c81a-4a54-bef8-1cfe8e713597",
   "metadata": {},
   "source": [
    "*Many restaurants has different votes values for different listed_type*\\\n",
    "*We will take only maximum of vote values for each restaurant*"
   ]
  },
  {
   "cell_type": "code",
   "execution_count": 71,
   "id": "030fc64b-6d79-4950-bfb5-90c3b796fe8f",
   "metadata": {},
   "outputs": [
    {
     "name": "stdout",
     "output_type": "stream",
     "text": [
      "<class 'pandas.core.frame.DataFrame'>\n",
      "RangeIndex: 51717 entries, 0 to 51716\n",
      "Data columns (total 11 columns):\n",
      " #   Column           Non-Null Count  Dtype  \n",
      "---  ------           --------------  -----  \n",
      " 0   url              51717 non-null  object \n",
      " 1   name             51717 non-null  object \n",
      " 2   online_order     51717 non-null  object \n",
      " 3   book_table       51717 non-null  object \n",
      " 4   rating           46398 non-null  float64\n",
      " 5   votes            51717 non-null  int64  \n",
      " 6   location         51717 non-null  object \n",
      " 7   rest_type        51717 non-null  object \n",
      " 8   cuisines         51717 non-null  object \n",
      " 9   cost_for_two     51371 non-null  float64\n",
      " 10  listed_in(type)  51717 non-null  object \n",
      "dtypes: float64(2), int64(1), object(8)\n",
      "memory usage: 4.3+ MB\n"
     ]
    }
   ],
   "source": [
    "df.info()"
   ]
  },
  {
   "cell_type": "code",
   "execution_count": 72,
   "id": "b4e230bb-ed65-40d1-81fb-e9cbe05229dd",
   "metadata": {},
   "outputs": [
    {
     "data": {
      "text/plain": [
       "12453"
      ]
     },
     "execution_count": 72,
     "metadata": {},
     "output_type": "execute_result"
    }
   ],
   "source": [
    "df.url.nunique()"
   ]
  },
  {
   "cell_type": "markdown",
   "id": "bf8460cd-9983-4684-b77d-0976568b1ecb",
   "metadata": {},
   "source": [
    "*We want to have only 12453 rows representing each unique restaurant*"
   ]
  },
  {
   "cell_type": "code",
   "execution_count": 73,
   "id": "0092f876-40a0-4008-a531-c5e15504467a",
   "metadata": {},
   "outputs": [
    {
     "data": {
      "text/plain": [
       "url                   0\n",
       "name                  0\n",
       "online_order          0\n",
       "book_table            0\n",
       "rating             5319\n",
       "votes                 0\n",
       "location              0\n",
       "rest_type             0\n",
       "cuisines              0\n",
       "cost_for_two        346\n",
       "listed_in(type)       0\n",
       "dtype: int64"
      ]
     },
     "execution_count": 73,
     "metadata": {},
     "output_type": "execute_result"
    }
   ],
   "source": [
    "df.isnull().sum()"
   ]
  },
  {
   "cell_type": "markdown",
   "id": "07686785-8fd6-49b6-914a-6f9a1850b40c",
   "metadata": {},
   "source": [
    "*We will fill these null values after grouping*"
   ]
  },
  {
   "cell_type": "code",
   "execution_count": 74,
   "id": "ec69c509-e1c2-461f-a88c-b2c633bd3e39",
   "metadata": {},
   "outputs": [],
   "source": [
    "newDf = df.groupby(\"url\",as_index=False).agg({\n",
    "    \"name\" : \"first\",\n",
    "    \"online_order\" : mode,\n",
    "    \"book_table\" : mode,\n",
    "    \"rating\" : \"mean\",\n",
    "    \"votes\" : \"max\",\n",
    "    \"location\" : mode,\n",
    "    \"rest_type\" : mode,\n",
    "    \"cuisines\" : mode,\n",
    "    \"cost_for_two\" : \"mean\",\n",
    "    \"listed_in(type)\" : lambda x : \", \".join(sorted(set(x))) \n",
    "})"
   ]
  },
  {
   "cell_type": "code",
   "execution_count": 75,
   "id": "74a9786c-bd60-4c84-975c-044f9f786e58",
   "metadata": {
    "scrolled": true
   },
   "outputs": [
    {
     "data": {
      "text/html": [
       "<div>\n",
       "<style scoped>\n",
       "    .dataframe tbody tr th:only-of-type {\n",
       "        vertical-align: middle;\n",
       "    }\n",
       "\n",
       "    .dataframe tbody tr th {\n",
       "        vertical-align: top;\n",
       "    }\n",
       "\n",
       "    .dataframe thead th {\n",
       "        text-align: right;\n",
       "    }\n",
       "</style>\n",
       "<table border=\"1\" class=\"dataframe\">\n",
       "  <thead>\n",
       "    <tr style=\"text-align: right;\">\n",
       "      <th></th>\n",
       "      <th>url</th>\n",
       "      <th>name</th>\n",
       "      <th>online_order</th>\n",
       "      <th>book_table</th>\n",
       "      <th>rating</th>\n",
       "      <th>votes</th>\n",
       "      <th>location</th>\n",
       "      <th>rest_type</th>\n",
       "      <th>cuisines</th>\n",
       "      <th>cost_for_two</th>\n",
       "      <th>listed_in(type)</th>\n",
       "    </tr>\n",
       "  </thead>\n",
       "  <tbody>\n",
       "    <tr>\n",
       "      <th>0</th>\n",
       "      <td>https://www.zomato.com/24-7RestaurantBangalore</td>\n",
       "      <td>24/7 - The Lalit Ashok Bangalore</td>\n",
       "      <td>No</td>\n",
       "      <td>Yes</td>\n",
       "      <td>4.0</td>\n",
       "      <td>344</td>\n",
       "      <td>Seshadripuram</td>\n",
       "      <td>Fine Dining</td>\n",
       "      <td>Continental, North Indian, Italian, Chinese</td>\n",
       "      <td>3000.0</td>\n",
       "      <td>Buffet, Dine-out</td>\n",
       "    </tr>\n",
       "    <tr>\n",
       "      <th>1</th>\n",
       "      <td>https://www.zomato.com/29degreesnorth</td>\n",
       "      <td>29 Degrees North</td>\n",
       "      <td>Yes</td>\n",
       "      <td>No</td>\n",
       "      <td>3.9</td>\n",
       "      <td>287</td>\n",
       "      <td>Banaswadi</td>\n",
       "      <td>Quick Bites</td>\n",
       "      <td>North Indian, Fast Food, Street Food</td>\n",
       "      <td>250.0</td>\n",
       "      <td>Delivery, Dine-out</td>\n",
       "    </tr>\n",
       "    <tr>\n",
       "      <th>2</th>\n",
       "      <td>https://www.zomato.com/ArborBrewIndia</td>\n",
       "      <td>Arbor Brewing Company</td>\n",
       "      <td>No</td>\n",
       "      <td>Yes</td>\n",
       "      <td>4.5</td>\n",
       "      <td>8419</td>\n",
       "      <td>Brigade Road</td>\n",
       "      <td>Pub, Microbrewery</td>\n",
       "      <td>American, Continental</td>\n",
       "      <td>2000.0</td>\n",
       "      <td>Dine-out, Drinks &amp; nightlife, Pubs and bars</td>\n",
       "    </tr>\n",
       "    <tr>\n",
       "      <th>3</th>\n",
       "      <td>https://www.zomato.com/BaluchiBangalore</td>\n",
       "      <td>Baluchi - The Lalit Ashok Bangalore</td>\n",
       "      <td>No</td>\n",
       "      <td>Yes</td>\n",
       "      <td>4.0</td>\n",
       "      <td>134</td>\n",
       "      <td>Seshadripuram</td>\n",
       "      <td>Fine Dining</td>\n",
       "      <td>North Indian, Kashmiri, Mughlai</td>\n",
       "      <td>3700.0</td>\n",
       "      <td>Dine-out</td>\n",
       "    </tr>\n",
       "    <tr>\n",
       "      <th>4</th>\n",
       "      <td>https://www.zomato.com/Barebones</td>\n",
       "      <td>Barebones - The Balcony Bar</td>\n",
       "      <td>No</td>\n",
       "      <td>Yes</td>\n",
       "      <td>4.2</td>\n",
       "      <td>2445</td>\n",
       "      <td>Indiranagar</td>\n",
       "      <td>Bar, Casual Dining</td>\n",
       "      <td>Chinese, Continental, Finger Food, Italian</td>\n",
       "      <td>1500.0</td>\n",
       "      <td>Dine-out, Drinks &amp; nightlife, Pubs and bars</td>\n",
       "    </tr>\n",
       "  </tbody>\n",
       "</table>\n",
       "</div>"
      ],
      "text/plain": [
       "                                              url  \\\n",
       "0  https://www.zomato.com/24-7RestaurantBangalore   \n",
       "1           https://www.zomato.com/29degreesnorth   \n",
       "2           https://www.zomato.com/ArborBrewIndia   \n",
       "3         https://www.zomato.com/BaluchiBangalore   \n",
       "4                https://www.zomato.com/Barebones   \n",
       "\n",
       "                                  name online_order book_table  rating  votes  \\\n",
       "0     24/7 - The Lalit Ashok Bangalore           No        Yes     4.0    344   \n",
       "1                     29 Degrees North          Yes         No     3.9    287   \n",
       "2                Arbor Brewing Company           No        Yes     4.5   8419   \n",
       "3  Baluchi - The Lalit Ashok Bangalore           No        Yes     4.0    134   \n",
       "4          Barebones - The Balcony Bar           No        Yes     4.2   2445   \n",
       "\n",
       "        location           rest_type  \\\n",
       "0  Seshadripuram         Fine Dining   \n",
       "1      Banaswadi         Quick Bites   \n",
       "2   Brigade Road   Pub, Microbrewery   \n",
       "3  Seshadripuram         Fine Dining   \n",
       "4    Indiranagar  Bar, Casual Dining   \n",
       "\n",
       "                                      cuisines  cost_for_two  \\\n",
       "0  Continental, North Indian, Italian, Chinese        3000.0   \n",
       "1         North Indian, Fast Food, Street Food         250.0   \n",
       "2                        American, Continental        2000.0   \n",
       "3              North Indian, Kashmiri, Mughlai        3700.0   \n",
       "4   Chinese, Continental, Finger Food, Italian        1500.0   \n",
       "\n",
       "                               listed_in(type)  \n",
       "0                             Buffet, Dine-out  \n",
       "1                           Delivery, Dine-out  \n",
       "2  Dine-out, Drinks & nightlife, Pubs and bars  \n",
       "3                                     Dine-out  \n",
       "4  Dine-out, Drinks & nightlife, Pubs and bars  "
      ]
     },
     "execution_count": 75,
     "metadata": {},
     "output_type": "execute_result"
    }
   ],
   "source": [
    "newDf.head()"
   ]
  },
  {
   "cell_type": "code",
   "execution_count": 76,
   "id": "a637dc5b-94dc-4dd5-8c36-b0b62faa2e20",
   "metadata": {},
   "outputs": [
    {
     "data": {
      "text/plain": [
       "url                   0\n",
       "name                  0\n",
       "online_order          0\n",
       "book_table            0\n",
       "rating             1658\n",
       "votes                 0\n",
       "location              0\n",
       "rest_type             0\n",
       "cuisines              0\n",
       "cost_for_two         55\n",
       "listed_in(type)       0\n",
       "dtype: int64"
      ]
     },
     "execution_count": 76,
     "metadata": {},
     "output_type": "execute_result"
    }
   ],
   "source": [
    "newDf.isnull().sum()"
   ]
  },
  {
   "cell_type": "markdown",
   "id": "30e55342-f970-44d7-9800-b6d8240ccc8a",
   "metadata": {},
   "source": [
    "#### **Filling rating null values after grouping**"
   ]
  },
  {
   "cell_type": "code",
   "execution_count": 79,
   "id": "77b1285d-61ec-4b2a-b099-27ac931d66e4",
   "metadata": {
    "scrolled": true
   },
   "outputs": [
    {
     "data": {
      "text/html": [
       "<div>\n",
       "<style scoped>\n",
       "    .dataframe tbody tr th:only-of-type {\n",
       "        vertical-align: middle;\n",
       "    }\n",
       "\n",
       "    .dataframe tbody tr th {\n",
       "        vertical-align: top;\n",
       "    }\n",
       "\n",
       "    .dataframe thead th {\n",
       "        text-align: right;\n",
       "    }\n",
       "</style>\n",
       "<table border=\"1\" class=\"dataframe\">\n",
       "  <thead>\n",
       "    <tr style=\"text-align: right;\">\n",
       "      <th></th>\n",
       "      <th>rating</th>\n",
       "      <th>total_count</th>\n",
       "      <th>null_count</th>\n",
       "      <th>non_null_count</th>\n",
       "    </tr>\n",
       "    <tr>\n",
       "      <th>name</th>\n",
       "      <th></th>\n",
       "      <th></th>\n",
       "      <th></th>\n",
       "      <th></th>\n",
       "    </tr>\n",
       "  </thead>\n",
       "  <tbody>\n",
       "    <tr>\n",
       "      <th>7th Heaven</th>\n",
       "      <td>3.6</td>\n",
       "      <td>2</td>\n",
       "      <td>1</td>\n",
       "      <td>1</td>\n",
       "    </tr>\n",
       "    <tr>\n",
       "      <th>9 Bowls</th>\n",
       "      <td>0.0</td>\n",
       "      <td>4</td>\n",
       "      <td>3</td>\n",
       "      <td>1</td>\n",
       "    </tr>\n",
       "    <tr>\n",
       "      <th>AB's - Absolute Barbecues</th>\n",
       "      <td>4.8</td>\n",
       "      <td>6</td>\n",
       "      <td>1</td>\n",
       "      <td>5</td>\n",
       "    </tr>\n",
       "    <tr>\n",
       "      <th>Aahar Cafe</th>\n",
       "      <td>3.0</td>\n",
       "      <td>4</td>\n",
       "      <td>2</td>\n",
       "      <td>2</td>\n",
       "    </tr>\n",
       "    <tr>\n",
       "      <th>Ambur Biriyani</th>\n",
       "      <td>3.4</td>\n",
       "      <td>3</td>\n",
       "      <td>1</td>\n",
       "      <td>2</td>\n",
       "    </tr>\n",
       "    <tr>\n",
       "      <th>...</th>\n",
       "      <td>...</td>\n",
       "      <td>...</td>\n",
       "      <td>...</td>\n",
       "      <td>...</td>\n",
       "    </tr>\n",
       "    <tr>\n",
       "      <th>YumYumSouth</th>\n",
       "      <td>3.4</td>\n",
       "      <td>6</td>\n",
       "      <td>1</td>\n",
       "      <td>5</td>\n",
       "    </tr>\n",
       "    <tr>\n",
       "      <th>Yumjar</th>\n",
       "      <td>3.4</td>\n",
       "      <td>2</td>\n",
       "      <td>1</td>\n",
       "      <td>1</td>\n",
       "    </tr>\n",
       "    <tr>\n",
       "      <th>Z-Bar</th>\n",
       "      <td>4.1</td>\n",
       "      <td>2</td>\n",
       "      <td>1</td>\n",
       "      <td>1</td>\n",
       "    </tr>\n",
       "    <tr>\n",
       "      <th>Zayakedar</th>\n",
       "      <td>4.0</td>\n",
       "      <td>2</td>\n",
       "      <td>1</td>\n",
       "      <td>1</td>\n",
       "    </tr>\n",
       "    <tr>\n",
       "      <th>nu.tree</th>\n",
       "      <td>4.3</td>\n",
       "      <td>4</td>\n",
       "      <td>1</td>\n",
       "      <td>3</td>\n",
       "    </tr>\n",
       "  </tbody>\n",
       "</table>\n",
       "<p>245 rows × 4 columns</p>\n",
       "</div>"
      ],
      "text/plain": [
       "                           rating  total_count  null_count  non_null_count\n",
       "name                                                                      \n",
       "7th Heaven                    3.6            2           1               1\n",
       "9 Bowls                       0.0            4           3               1\n",
       "AB's - Absolute Barbecues     4.8            6           1               5\n",
       "Aahar Cafe                    3.0            4           2               2\n",
       "Ambur Biriyani                3.4            3           1               2\n",
       "...                           ...          ...         ...             ...\n",
       "YumYumSouth                   3.4            6           1               5\n",
       "Yumjar                        3.4            2           1               1\n",
       "Z-Bar                         4.1            2           1               1\n",
       "Zayakedar                     4.0            2           1               1\n",
       "nu.tree                       4.3            4           1               3\n",
       "\n",
       "[245 rows x 4 columns]"
      ]
     },
     "execution_count": 79,
     "metadata": {},
     "output_type": "execute_result"
    }
   ],
   "source": [
    "# Group by restaurant name and check if any and not all ratings are null\n",
    "rating_nulls = newDf.groupby('name')[\"rating\"].agg(\n",
    "    rating = lambda x : round(x.mean(),1),\n",
    "    total_count=len,\n",
    "    null_count=lambda x: x.isna().sum(),\n",
    "    non_null_count=lambda x: x.notna().sum()\n",
    ")\n",
    "\n",
    "# Filter where there's a mix of null and non-null ratings\n",
    "partial_nulls = rating_nulls.query(\"null_count > 0 and non_null_count > 0\")\n",
    "\n",
    "partial_nulls"
   ]
  },
  {
   "cell_type": "code",
   "execution_count": 80,
   "id": "b724812b-a6c8-44f3-b814-86a90af870bc",
   "metadata": {},
   "outputs": [
    {
     "data": {
      "text/plain": [
       "399"
      ]
     },
     "execution_count": 80,
     "metadata": {},
     "output_type": "execute_result"
    }
   ],
   "source": [
    "partial_nulls.null_count.sum()"
   ]
  },
  {
   "cell_type": "markdown",
   "id": "07d41714-3319-4b43-89f4-38385844c7ad",
   "metadata": {},
   "source": [
    "*There are 399 null rate values of the same name of restaurant in some locations but not null values in other locations*\\\n",
    "*So we will fill these null values*"
   ]
  },
  {
   "cell_type": "code",
   "execution_count": 81,
   "id": "12f7e894-df2e-41d1-8048-b873b9560b92",
   "metadata": {},
   "outputs": [],
   "source": [
    "newDf[\"ratings\"] = newDf.apply(lambda row : rating_nulls.loc[row[\"name\"]].rating if pd.isna(row[\"rating\"]) else row[\"rating\"],axis=1)"
   ]
  },
  {
   "cell_type": "code",
   "execution_count": 82,
   "id": "c88635ae-0ab4-43ca-8d95-2923a5eeebe5",
   "metadata": {},
   "outputs": [
    {
     "data": {
      "text/plain": [
       "1259"
      ]
     },
     "execution_count": 82,
     "metadata": {},
     "output_type": "execute_result"
    }
   ],
   "source": [
    "newDf[\"ratings\"].isnull().sum()"
   ]
  },
  {
   "cell_type": "markdown",
   "id": "84f0edcc-e0bc-49c0-96c1-f291f064592c",
   "metadata": {},
   "source": [
    "*Now we have only 1259 null values left in ratings*"
   ]
  },
  {
   "cell_type": "code",
   "execution_count": 83,
   "id": "57ac901c-ee2f-46e9-9bef-13af6514d0d6",
   "metadata": {
    "scrolled": true
   },
   "outputs": [
    {
     "data": {
      "text/html": [
       "<div>\n",
       "<style scoped>\n",
       "    .dataframe tbody tr th:only-of-type {\n",
       "        vertical-align: middle;\n",
       "    }\n",
       "\n",
       "    .dataframe tbody tr th {\n",
       "        vertical-align: top;\n",
       "    }\n",
       "\n",
       "    .dataframe thead th {\n",
       "        text-align: right;\n",
       "    }\n",
       "</style>\n",
       "<table border=\"1\" class=\"dataframe\">\n",
       "  <thead>\n",
       "    <tr style=\"text-align: right;\">\n",
       "      <th></th>\n",
       "      <th>ratings</th>\n",
       "      <th>total_count</th>\n",
       "      <th>null_count</th>\n",
       "      <th>non_null_count</th>\n",
       "    </tr>\n",
       "    <tr>\n",
       "      <th>rest_type</th>\n",
       "      <th></th>\n",
       "      <th></th>\n",
       "      <th></th>\n",
       "      <th></th>\n",
       "    </tr>\n",
       "  </thead>\n",
       "  <tbody>\n",
       "    <tr>\n",
       "      <th>Bakery</th>\n",
       "      <td>3.3</td>\n",
       "      <td>324</td>\n",
       "      <td>44</td>\n",
       "      <td>280</td>\n",
       "    </tr>\n",
       "    <tr>\n",
       "      <th>Bakery, Cafe</th>\n",
       "      <td>3.8</td>\n",
       "      <td>14</td>\n",
       "      <td>1</td>\n",
       "      <td>13</td>\n",
       "    </tr>\n",
       "    <tr>\n",
       "      <th>Bakery, Dessert Parlor</th>\n",
       "      <td>3.5</td>\n",
       "      <td>35</td>\n",
       "      <td>3</td>\n",
       "      <td>32</td>\n",
       "    </tr>\n",
       "    <tr>\n",
       "      <th>Bakery, Quick Bites</th>\n",
       "      <td>3.2</td>\n",
       "      <td>68</td>\n",
       "      <td>7</td>\n",
       "      <td>61</td>\n",
       "    </tr>\n",
       "    <tr>\n",
       "      <th>Bar</th>\n",
       "      <td>3.7</td>\n",
       "      <td>97</td>\n",
       "      <td>6</td>\n",
       "      <td>91</td>\n",
       "    </tr>\n",
       "    <tr>\n",
       "      <th>Bar, Casual Dining</th>\n",
       "      <td>3.7</td>\n",
       "      <td>58</td>\n",
       "      <td>1</td>\n",
       "      <td>57</td>\n",
       "    </tr>\n",
       "    <tr>\n",
       "      <th>Beverage Shop</th>\n",
       "      <td>3.1</td>\n",
       "      <td>254</td>\n",
       "      <td>18</td>\n",
       "      <td>236</td>\n",
       "    </tr>\n",
       "    <tr>\n",
       "      <th>Beverage Shop, Dessert Parlor</th>\n",
       "      <td>3.8</td>\n",
       "      <td>30</td>\n",
       "      <td>1</td>\n",
       "      <td>29</td>\n",
       "    </tr>\n",
       "    <tr>\n",
       "      <th>Beverage Shop, Quick Bites</th>\n",
       "      <td>3.6</td>\n",
       "      <td>91</td>\n",
       "      <td>4</td>\n",
       "      <td>87</td>\n",
       "    </tr>\n",
       "    <tr>\n",
       "      <th>Cafe</th>\n",
       "      <td>3.5</td>\n",
       "      <td>544</td>\n",
       "      <td>19</td>\n",
       "      <td>525</td>\n",
       "    </tr>\n",
       "    <tr>\n",
       "      <th>Cafe, Bakery</th>\n",
       "      <td>3.9</td>\n",
       "      <td>18</td>\n",
       "      <td>1</td>\n",
       "      <td>17</td>\n",
       "    </tr>\n",
       "    <tr>\n",
       "      <th>Cafe, Quick Bites</th>\n",
       "      <td>3.7</td>\n",
       "      <td>15</td>\n",
       "      <td>1</td>\n",
       "      <td>14</td>\n",
       "    </tr>\n",
       "    <tr>\n",
       "      <th>Casual Dining</th>\n",
       "      <td>3.6</td>\n",
       "      <td>2211</td>\n",
       "      <td>54</td>\n",
       "      <td>2157</td>\n",
       "    </tr>\n",
       "    <tr>\n",
       "      <th>Casual Dining, Bar</th>\n",
       "      <td>3.8</td>\n",
       "      <td>152</td>\n",
       "      <td>1</td>\n",
       "      <td>151</td>\n",
       "    </tr>\n",
       "    <tr>\n",
       "      <th>Confectionery</th>\n",
       "      <td>3.9</td>\n",
       "      <td>14</td>\n",
       "      <td>3</td>\n",
       "      <td>11</td>\n",
       "    </tr>\n",
       "    <tr>\n",
       "      <th>Delivery</th>\n",
       "      <td>3.1</td>\n",
       "      <td>927</td>\n",
       "      <td>156</td>\n",
       "      <td>771</td>\n",
       "    </tr>\n",
       "    <tr>\n",
       "      <th>Dessert Parlor</th>\n",
       "      <td>3.6</td>\n",
       "      <td>559</td>\n",
       "      <td>29</td>\n",
       "      <td>530</td>\n",
       "    </tr>\n",
       "    <tr>\n",
       "      <th>Dessert Parlor, Bakery</th>\n",
       "      <td>3.7</td>\n",
       "      <td>16</td>\n",
       "      <td>1</td>\n",
       "      <td>15</td>\n",
       "    </tr>\n",
       "    <tr>\n",
       "      <th>Dessert Parlor, Beverage Shop</th>\n",
       "      <td>3.8</td>\n",
       "      <td>21</td>\n",
       "      <td>1</td>\n",
       "      <td>20</td>\n",
       "    </tr>\n",
       "    <tr>\n",
       "      <th>Dessert Parlor, Quick Bites</th>\n",
       "      <td>3.8</td>\n",
       "      <td>25</td>\n",
       "      <td>2</td>\n",
       "      <td>23</td>\n",
       "    </tr>\n",
       "    <tr>\n",
       "      <th>Dhaba</th>\n",
       "      <td>2.4</td>\n",
       "      <td>8</td>\n",
       "      <td>1</td>\n",
       "      <td>7</td>\n",
       "    </tr>\n",
       "    <tr>\n",
       "      <th>Fine Dining</th>\n",
       "      <td>4.1</td>\n",
       "      <td>80</td>\n",
       "      <td>1</td>\n",
       "      <td>79</td>\n",
       "    </tr>\n",
       "    <tr>\n",
       "      <th>Food Court</th>\n",
       "      <td>3.2</td>\n",
       "      <td>186</td>\n",
       "      <td>14</td>\n",
       "      <td>172</td>\n",
       "    </tr>\n",
       "    <tr>\n",
       "      <th>Food Truck</th>\n",
       "      <td>3.6</td>\n",
       "      <td>28</td>\n",
       "      <td>3</td>\n",
       "      <td>25</td>\n",
       "    </tr>\n",
       "    <tr>\n",
       "      <th>Kiosk</th>\n",
       "      <td>3.4</td>\n",
       "      <td>62</td>\n",
       "      <td>2</td>\n",
       "      <td>60</td>\n",
       "    </tr>\n",
       "    <tr>\n",
       "      <th>Mess</th>\n",
       "      <td>3.4</td>\n",
       "      <td>76</td>\n",
       "      <td>14</td>\n",
       "      <td>62</td>\n",
       "    </tr>\n",
       "    <tr>\n",
       "      <th>Pub, Microbrewery</th>\n",
       "      <td>4.3</td>\n",
       "      <td>9</td>\n",
       "      <td>1</td>\n",
       "      <td>8</td>\n",
       "    </tr>\n",
       "    <tr>\n",
       "      <th>Quick Bites</th>\n",
       "      <td>3.2</td>\n",
       "      <td>5090</td>\n",
       "      <td>714</td>\n",
       "      <td>4376</td>\n",
       "    </tr>\n",
       "    <tr>\n",
       "      <th>Quick Bites, Bakery</th>\n",
       "      <td>3.7</td>\n",
       "      <td>8</td>\n",
       "      <td>1</td>\n",
       "      <td>7</td>\n",
       "    </tr>\n",
       "    <tr>\n",
       "      <th>Quick Bites, Beverage Shop</th>\n",
       "      <td>3.7</td>\n",
       "      <td>28</td>\n",
       "      <td>7</td>\n",
       "      <td>21</td>\n",
       "    </tr>\n",
       "    <tr>\n",
       "      <th>Quick Bites, Cafe</th>\n",
       "      <td>3.2</td>\n",
       "      <td>9</td>\n",
       "      <td>1</td>\n",
       "      <td>8</td>\n",
       "    </tr>\n",
       "    <tr>\n",
       "      <th>Quick Bites, Dessert Parlor</th>\n",
       "      <td>3.3</td>\n",
       "      <td>15</td>\n",
       "      <td>2</td>\n",
       "      <td>13</td>\n",
       "    </tr>\n",
       "    <tr>\n",
       "      <th>Sweet Shop</th>\n",
       "      <td>3.5</td>\n",
       "      <td>120</td>\n",
       "      <td>19</td>\n",
       "      <td>101</td>\n",
       "    </tr>\n",
       "    <tr>\n",
       "      <th>Takeaway</th>\n",
       "      <td>2.9</td>\n",
       "      <td>38</td>\n",
       "      <td>4</td>\n",
       "      <td>34</td>\n",
       "    </tr>\n",
       "    <tr>\n",
       "      <th>Takeaway, Delivery</th>\n",
       "      <td>2.9</td>\n",
       "      <td>750</td>\n",
       "      <td>117</td>\n",
       "      <td>633</td>\n",
       "    </tr>\n",
       "  </tbody>\n",
       "</table>\n",
       "</div>"
      ],
      "text/plain": [
       "                               ratings  total_count  null_count  \\\n",
       "rest_type                                                         \n",
       "Bakery                             3.3          324          44   \n",
       "Bakery, Cafe                       3.8           14           1   \n",
       "Bakery, Dessert Parlor             3.5           35           3   \n",
       "Bakery, Quick Bites                3.2           68           7   \n",
       "Bar                                3.7           97           6   \n",
       "Bar, Casual Dining                 3.7           58           1   \n",
       "Beverage Shop                      3.1          254          18   \n",
       "Beverage Shop, Dessert Parlor      3.8           30           1   \n",
       "Beverage Shop, Quick Bites         3.6           91           4   \n",
       "Cafe                               3.5          544          19   \n",
       "Cafe, Bakery                       3.9           18           1   \n",
       "Cafe, Quick Bites                  3.7           15           1   \n",
       "Casual Dining                      3.6         2211          54   \n",
       "Casual Dining, Bar                 3.8          152           1   \n",
       "Confectionery                      3.9           14           3   \n",
       "Delivery                           3.1          927         156   \n",
       "Dessert Parlor                     3.6          559          29   \n",
       "Dessert Parlor, Bakery             3.7           16           1   \n",
       "Dessert Parlor, Beverage Shop      3.8           21           1   \n",
       "Dessert Parlor, Quick Bites        3.8           25           2   \n",
       "Dhaba                              2.4            8           1   \n",
       "Fine Dining                        4.1           80           1   \n",
       "Food Court                         3.2          186          14   \n",
       "Food Truck                         3.6           28           3   \n",
       "Kiosk                              3.4           62           2   \n",
       "Mess                               3.4           76          14   \n",
       "Pub, Microbrewery                  4.3            9           1   \n",
       "Quick Bites                        3.2         5090         714   \n",
       "Quick Bites, Bakery                3.7            8           1   \n",
       "Quick Bites, Beverage Shop         3.7           28           7   \n",
       "Quick Bites, Cafe                  3.2            9           1   \n",
       "Quick Bites, Dessert Parlor        3.3           15           2   \n",
       "Sweet Shop                         3.5          120          19   \n",
       "Takeaway                           2.9           38           4   \n",
       "Takeaway, Delivery                 2.9          750         117   \n",
       "\n",
       "                               non_null_count  \n",
       "rest_type                                      \n",
       "Bakery                                    280  \n",
       "Bakery, Cafe                               13  \n",
       "Bakery, Dessert Parlor                     32  \n",
       "Bakery, Quick Bites                        61  \n",
       "Bar                                        91  \n",
       "Bar, Casual Dining                         57  \n",
       "Beverage Shop                             236  \n",
       "Beverage Shop, Dessert Parlor              29  \n",
       "Beverage Shop, Quick Bites                 87  \n",
       "Cafe                                      525  \n",
       "Cafe, Bakery                               17  \n",
       "Cafe, Quick Bites                          14  \n",
       "Casual Dining                            2157  \n",
       "Casual Dining, Bar                        151  \n",
       "Confectionery                              11  \n",
       "Delivery                                  771  \n",
       "Dessert Parlor                            530  \n",
       "Dessert Parlor, Bakery                     15  \n",
       "Dessert Parlor, Beverage Shop              20  \n",
       "Dessert Parlor, Quick Bites                23  \n",
       "Dhaba                                       7  \n",
       "Fine Dining                                79  \n",
       "Food Court                                172  \n",
       "Food Truck                                 25  \n",
       "Kiosk                                      60  \n",
       "Mess                                       62  \n",
       "Pub, Microbrewery                           8  \n",
       "Quick Bites                              4376  \n",
       "Quick Bites, Bakery                         7  \n",
       "Quick Bites, Beverage Shop                 21  \n",
       "Quick Bites, Cafe                           8  \n",
       "Quick Bites, Dessert Parlor                13  \n",
       "Sweet Shop                                101  \n",
       "Takeaway                                   34  \n",
       "Takeaway, Delivery                        633  "
      ]
     },
     "execution_count": 83,
     "metadata": {},
     "output_type": "execute_result"
    }
   ],
   "source": [
    "# Group by restaurant type and check if any and not all ratings are null\n",
    "rating_nulls2 = newDf.groupby('rest_type')[\"ratings\"].agg(\n",
    "    ratings = lambda x : round(x.mean(),1),\n",
    "    total_count=len,\n",
    "    null_count=lambda x: x.isna().sum(),\n",
    "    non_null_count=lambda x: x.notna().sum()\n",
    ")\n",
    "\n",
    "# Filter where there's a mix of null and non-null ratings\n",
    "partial_nulls2 = rating_nulls2.query(\"null_count > 0 and non_null_count > 0\")\n",
    "\n",
    "partial_nulls2"
   ]
  },
  {
   "cell_type": "code",
   "execution_count": 84,
   "id": "0124b6ef-272a-4975-81e7-6d4c583d7261",
   "metadata": {},
   "outputs": [
    {
     "data": {
      "text/plain": [
       "1254"
      ]
     },
     "execution_count": 84,
     "metadata": {},
     "output_type": "execute_result"
    }
   ],
   "source": [
    "partial_nulls2.null_count.sum()"
   ]
  },
  {
   "cell_type": "markdown",
   "id": "5e65e52c-280e-461b-a847-56904af0fdad",
   "metadata": {},
   "source": [
    "*There are 1254 null rate values of the same restaurant type in some rows but not null values in others*\\\n",
    "*So we will fill these null values*"
   ]
  },
  {
   "cell_type": "code",
   "execution_count": 85,
   "id": "c6468a92-1e2c-444b-85f1-399748f318f4",
   "metadata": {},
   "outputs": [],
   "source": [
    "newDf[\"ratings\"] = newDf.apply(lambda row : rating_nulls2.loc[row[\"rest_type\"]].ratings if pd.isna(row[\"ratings\"]) else row[\"ratings\"],axis=1)"
   ]
  },
  {
   "cell_type": "code",
   "execution_count": 86,
   "id": "4e7d66bc-d39b-4fb3-8631-306da071cb2b",
   "metadata": {},
   "outputs": [
    {
     "data": {
      "text/plain": [
       "5"
      ]
     },
     "execution_count": 86,
     "metadata": {},
     "output_type": "execute_result"
    }
   ],
   "source": [
    "newDf[\"ratings\"].isnull().sum()"
   ]
  },
  {
   "cell_type": "markdown",
   "id": "162cef1a-57d3-4669-b675-80a7a8d2257b",
   "metadata": {},
   "source": [
    "*Still 5 null values left*\\\n",
    "*We will fill these with the overall means of ratings values*"
   ]
  },
  {
   "cell_type": "code",
   "execution_count": 87,
   "id": "43e7ac42-5e03-44e4-a083-b1705fcf322f",
   "metadata": {},
   "outputs": [],
   "source": [
    "newDf[\"ratings\"] = newDf.ratings.fillna(newDf.ratings.mean())"
   ]
  },
  {
   "cell_type": "code",
   "execution_count": 88,
   "id": "4718ac71-12f8-460c-ace4-034bbee36e86",
   "metadata": {},
   "outputs": [],
   "source": [
    "newDf[\"ratings\"] = newDf.ratings.map(lambda x : round(x,1))"
   ]
  },
  {
   "cell_type": "code",
   "execution_count": 89,
   "id": "cb915157-2b39-41fd-9d67-d60d223fcbf1",
   "metadata": {},
   "outputs": [
    {
     "data": {
      "text/plain": [
       "0"
      ]
     },
     "execution_count": 89,
     "metadata": {},
     "output_type": "execute_result"
    }
   ],
   "source": [
    "newDf[\"ratings\"].isnull().sum()"
   ]
  },
  {
   "cell_type": "code",
   "execution_count": 90,
   "id": "43318cc0-76c9-49c7-88ec-9c1a5d05d746",
   "metadata": {},
   "outputs": [],
   "source": [
    "newDf.drop(\"rating\",axis=1,inplace=True)"
   ]
  },
  {
   "cell_type": "code",
   "execution_count": 91,
   "id": "e3dfadb3-df4e-4daa-85c2-5d0b0aa6a0ab",
   "metadata": {},
   "outputs": [],
   "source": [
    "newDf = newDf.loc[:,newDf.columns[[0,1,2,3,10,4,5,6,7,8,9]]]"
   ]
  },
  {
   "cell_type": "code",
   "execution_count": 92,
   "id": "d4d6d95e-5d7e-4268-850a-4f580b94804a",
   "metadata": {},
   "outputs": [
    {
     "data": {
      "text/html": [
       "<div>\n",
       "<style scoped>\n",
       "    .dataframe tbody tr th:only-of-type {\n",
       "        vertical-align: middle;\n",
       "    }\n",
       "\n",
       "    .dataframe tbody tr th {\n",
       "        vertical-align: top;\n",
       "    }\n",
       "\n",
       "    .dataframe thead th {\n",
       "        text-align: right;\n",
       "    }\n",
       "</style>\n",
       "<table border=\"1\" class=\"dataframe\">\n",
       "  <thead>\n",
       "    <tr style=\"text-align: right;\">\n",
       "      <th></th>\n",
       "      <th>url</th>\n",
       "      <th>name</th>\n",
       "      <th>online_order</th>\n",
       "      <th>book_table</th>\n",
       "      <th>ratings</th>\n",
       "      <th>votes</th>\n",
       "      <th>location</th>\n",
       "      <th>rest_type</th>\n",
       "      <th>cuisines</th>\n",
       "      <th>cost_for_two</th>\n",
       "      <th>listed_in(type)</th>\n",
       "    </tr>\n",
       "  </thead>\n",
       "  <tbody>\n",
       "    <tr>\n",
       "      <th>0</th>\n",
       "      <td>https://www.zomato.com/24-7RestaurantBangalore</td>\n",
       "      <td>24/7 - The Lalit Ashok Bangalore</td>\n",
       "      <td>No</td>\n",
       "      <td>Yes</td>\n",
       "      <td>4.0</td>\n",
       "      <td>344</td>\n",
       "      <td>Seshadripuram</td>\n",
       "      <td>Fine Dining</td>\n",
       "      <td>Continental, North Indian, Italian, Chinese</td>\n",
       "      <td>3000.0</td>\n",
       "      <td>Buffet, Dine-out</td>\n",
       "    </tr>\n",
       "    <tr>\n",
       "      <th>1</th>\n",
       "      <td>https://www.zomato.com/29degreesnorth</td>\n",
       "      <td>29 Degrees North</td>\n",
       "      <td>Yes</td>\n",
       "      <td>No</td>\n",
       "      <td>3.9</td>\n",
       "      <td>287</td>\n",
       "      <td>Banaswadi</td>\n",
       "      <td>Quick Bites</td>\n",
       "      <td>North Indian, Fast Food, Street Food</td>\n",
       "      <td>250.0</td>\n",
       "      <td>Delivery, Dine-out</td>\n",
       "    </tr>\n",
       "    <tr>\n",
       "      <th>2</th>\n",
       "      <td>https://www.zomato.com/ArborBrewIndia</td>\n",
       "      <td>Arbor Brewing Company</td>\n",
       "      <td>No</td>\n",
       "      <td>Yes</td>\n",
       "      <td>4.5</td>\n",
       "      <td>8419</td>\n",
       "      <td>Brigade Road</td>\n",
       "      <td>Pub, Microbrewery</td>\n",
       "      <td>American, Continental</td>\n",
       "      <td>2000.0</td>\n",
       "      <td>Dine-out, Drinks &amp; nightlife, Pubs and bars</td>\n",
       "    </tr>\n",
       "    <tr>\n",
       "      <th>3</th>\n",
       "      <td>https://www.zomato.com/BaluchiBangalore</td>\n",
       "      <td>Baluchi - The Lalit Ashok Bangalore</td>\n",
       "      <td>No</td>\n",
       "      <td>Yes</td>\n",
       "      <td>4.0</td>\n",
       "      <td>134</td>\n",
       "      <td>Seshadripuram</td>\n",
       "      <td>Fine Dining</td>\n",
       "      <td>North Indian, Kashmiri, Mughlai</td>\n",
       "      <td>3700.0</td>\n",
       "      <td>Dine-out</td>\n",
       "    </tr>\n",
       "    <tr>\n",
       "      <th>4</th>\n",
       "      <td>https://www.zomato.com/Barebones</td>\n",
       "      <td>Barebones - The Balcony Bar</td>\n",
       "      <td>No</td>\n",
       "      <td>Yes</td>\n",
       "      <td>4.2</td>\n",
       "      <td>2445</td>\n",
       "      <td>Indiranagar</td>\n",
       "      <td>Bar, Casual Dining</td>\n",
       "      <td>Chinese, Continental, Finger Food, Italian</td>\n",
       "      <td>1500.0</td>\n",
       "      <td>Dine-out, Drinks &amp; nightlife, Pubs and bars</td>\n",
       "    </tr>\n",
       "  </tbody>\n",
       "</table>\n",
       "</div>"
      ],
      "text/plain": [
       "                                              url  \\\n",
       "0  https://www.zomato.com/24-7RestaurantBangalore   \n",
       "1           https://www.zomato.com/29degreesnorth   \n",
       "2           https://www.zomato.com/ArborBrewIndia   \n",
       "3         https://www.zomato.com/BaluchiBangalore   \n",
       "4                https://www.zomato.com/Barebones   \n",
       "\n",
       "                                  name online_order book_table  ratings  \\\n",
       "0     24/7 - The Lalit Ashok Bangalore           No        Yes      4.0   \n",
       "1                     29 Degrees North          Yes         No      3.9   \n",
       "2                Arbor Brewing Company           No        Yes      4.5   \n",
       "3  Baluchi - The Lalit Ashok Bangalore           No        Yes      4.0   \n",
       "4          Barebones - The Balcony Bar           No        Yes      4.2   \n",
       "\n",
       "   votes       location           rest_type  \\\n",
       "0    344  Seshadripuram         Fine Dining   \n",
       "1    287      Banaswadi         Quick Bites   \n",
       "2   8419   Brigade Road   Pub, Microbrewery   \n",
       "3    134  Seshadripuram         Fine Dining   \n",
       "4   2445    Indiranagar  Bar, Casual Dining   \n",
       "\n",
       "                                      cuisines  cost_for_two  \\\n",
       "0  Continental, North Indian, Italian, Chinese        3000.0   \n",
       "1         North Indian, Fast Food, Street Food         250.0   \n",
       "2                        American, Continental        2000.0   \n",
       "3              North Indian, Kashmiri, Mughlai        3700.0   \n",
       "4   Chinese, Continental, Finger Food, Italian        1500.0   \n",
       "\n",
       "                               listed_in(type)  \n",
       "0                             Buffet, Dine-out  \n",
       "1                           Delivery, Dine-out  \n",
       "2  Dine-out, Drinks & nightlife, Pubs and bars  \n",
       "3                                     Dine-out  \n",
       "4  Dine-out, Drinks & nightlife, Pubs and bars  "
      ]
     },
     "execution_count": 92,
     "metadata": {},
     "output_type": "execute_result"
    }
   ],
   "source": [
    "newDf.head()"
   ]
  },
  {
   "cell_type": "markdown",
   "id": "c9a4a4a7-37f9-4c0c-99f7-63b16c9948bb",
   "metadata": {
    "jp-MarkdownHeadingCollapsed": true
   },
   "source": [
    "#### **Filling cost_for_two null values after grouping**"
   ]
  },
  {
   "cell_type": "code",
   "execution_count": 93,
   "id": "ff865174-7fe0-43ed-9401-3b1968b16a61",
   "metadata": {},
   "outputs": [
    {
     "data": {
      "text/plain": [
       "55"
      ]
     },
     "execution_count": 93,
     "metadata": {},
     "output_type": "execute_result"
    }
   ],
   "source": [
    "newDf.cost_for_two.isnull().sum()"
   ]
  },
  {
   "cell_type": "code",
   "execution_count": 94,
   "id": "ea539cf1-36d0-49e9-b930-ddafb3761a49",
   "metadata": {},
   "outputs": [
    {
     "data": {
      "text/html": [
       "<div>\n",
       "<style scoped>\n",
       "    .dataframe tbody tr th:only-of-type {\n",
       "        vertical-align: middle;\n",
       "    }\n",
       "\n",
       "    .dataframe tbody tr th {\n",
       "        vertical-align: top;\n",
       "    }\n",
       "\n",
       "    .dataframe thead th {\n",
       "        text-align: right;\n",
       "    }\n",
       "</style>\n",
       "<table border=\"1\" class=\"dataframe\">\n",
       "  <thead>\n",
       "    <tr style=\"text-align: right;\">\n",
       "      <th></th>\n",
       "      <th>cost_for_two</th>\n",
       "      <th>total_count</th>\n",
       "      <th>null_count</th>\n",
       "      <th>non_null_count</th>\n",
       "    </tr>\n",
       "    <tr>\n",
       "      <th>rest_type</th>\n",
       "      <th></th>\n",
       "      <th></th>\n",
       "      <th></th>\n",
       "      <th></th>\n",
       "    </tr>\n",
       "  </thead>\n",
       "  <tbody>\n",
       "    <tr>\n",
       "      <th>Bakery, Quick Bites</th>\n",
       "      <td>380.0</td>\n",
       "      <td>68</td>\n",
       "      <td>1</td>\n",
       "      <td>67</td>\n",
       "    </tr>\n",
       "    <tr>\n",
       "      <th>Bar</th>\n",
       "      <td>1270.0</td>\n",
       "      <td>97</td>\n",
       "      <td>1</td>\n",
       "      <td>96</td>\n",
       "    </tr>\n",
       "    <tr>\n",
       "      <th>Bar, Casual Dining</th>\n",
       "      <td>1320.0</td>\n",
       "      <td>58</td>\n",
       "      <td>1</td>\n",
       "      <td>57</td>\n",
       "    </tr>\n",
       "    <tr>\n",
       "      <th>Beverage Shop, Quick Bites</th>\n",
       "      <td>260.0</td>\n",
       "      <td>91</td>\n",
       "      <td>1</td>\n",
       "      <td>90</td>\n",
       "    </tr>\n",
       "    <tr>\n",
       "      <th>Cafe</th>\n",
       "      <td>610.0</td>\n",
       "      <td>544</td>\n",
       "      <td>5</td>\n",
       "      <td>539</td>\n",
       "    </tr>\n",
       "    <tr>\n",
       "      <th>Casual Dining</th>\n",
       "      <td>760.0</td>\n",
       "      <td>2211</td>\n",
       "      <td>12</td>\n",
       "      <td>2199</td>\n",
       "    </tr>\n",
       "    <tr>\n",
       "      <th>Delivery</th>\n",
       "      <td>440.0</td>\n",
       "      <td>927</td>\n",
       "      <td>7</td>\n",
       "      <td>920</td>\n",
       "    </tr>\n",
       "    <tr>\n",
       "      <th>Dessert Parlor</th>\n",
       "      <td>320.0</td>\n",
       "      <td>559</td>\n",
       "      <td>2</td>\n",
       "      <td>557</td>\n",
       "    </tr>\n",
       "    <tr>\n",
       "      <th>Food Court</th>\n",
       "      <td>440.0</td>\n",
       "      <td>186</td>\n",
       "      <td>2</td>\n",
       "      <td>184</td>\n",
       "    </tr>\n",
       "    <tr>\n",
       "      <th>Quick Bites</th>\n",
       "      <td>310.0</td>\n",
       "      <td>5090</td>\n",
       "      <td>19</td>\n",
       "      <td>5071</td>\n",
       "    </tr>\n",
       "    <tr>\n",
       "      <th>Takeaway</th>\n",
       "      <td>310.0</td>\n",
       "      <td>38</td>\n",
       "      <td>1</td>\n",
       "      <td>37</td>\n",
       "    </tr>\n",
       "    <tr>\n",
       "      <th>Takeaway, Delivery</th>\n",
       "      <td>380.0</td>\n",
       "      <td>750</td>\n",
       "      <td>3</td>\n",
       "      <td>747</td>\n",
       "    </tr>\n",
       "  </tbody>\n",
       "</table>\n",
       "</div>"
      ],
      "text/plain": [
       "                            cost_for_two  total_count  null_count  \\\n",
       "rest_type                                                           \n",
       "Bakery, Quick Bites                380.0           68           1   \n",
       "Bar                               1270.0           97           1   \n",
       "Bar, Casual Dining                1320.0           58           1   \n",
       "Beverage Shop, Quick Bites         260.0           91           1   \n",
       "Cafe                               610.0          544           5   \n",
       "Casual Dining                      760.0         2211          12   \n",
       "Delivery                           440.0          927           7   \n",
       "Dessert Parlor                     320.0          559           2   \n",
       "Food Court                         440.0          186           2   \n",
       "Quick Bites                        310.0         5090          19   \n",
       "Takeaway                           310.0           38           1   \n",
       "Takeaway, Delivery                 380.0          750           3   \n",
       "\n",
       "                            non_null_count  \n",
       "rest_type                                   \n",
       "Bakery, Quick Bites                     67  \n",
       "Bar                                     96  \n",
       "Bar, Casual Dining                      57  \n",
       "Beverage Shop, Quick Bites              90  \n",
       "Cafe                                   539  \n",
       "Casual Dining                         2199  \n",
       "Delivery                               920  \n",
       "Dessert Parlor                         557  \n",
       "Food Court                             184  \n",
       "Quick Bites                           5071  \n",
       "Takeaway                                37  \n",
       "Takeaway, Delivery                     747  "
      ]
     },
     "execution_count": 94,
     "metadata": {},
     "output_type": "execute_result"
    }
   ],
   "source": [
    "# Group by restaurant type and check if any and not all ratings are null\n",
    "rating_nulls3 = newDf.groupby('rest_type')[\"cost_for_two\"].agg(\n",
    "    cost_for_two = lambda x : round(x.mean(),-1),\n",
    "    total_count=len,\n",
    "    null_count=lambda x: x.isna().sum(),\n",
    "    non_null_count=lambda x: x.notna().sum()\n",
    ")\n",
    "\n",
    "# Filter where there's a mix of null and non-null ratings\n",
    "partial_nulls3 = rating_nulls3.query(\"null_count > 0 and non_null_count > 0\")\n",
    "\n",
    "partial_nulls3"
   ]
  },
  {
   "cell_type": "code",
   "execution_count": 95,
   "id": "b8044151-ee2d-4573-b658-19ac454c5fb7",
   "metadata": {},
   "outputs": [
    {
     "data": {
      "text/plain": [
       "55"
      ]
     },
     "execution_count": 95,
     "metadata": {},
     "output_type": "execute_result"
    }
   ],
   "source": [
    "partial_nulls3.null_count.sum()"
   ]
  },
  {
   "cell_type": "markdown",
   "id": "5692c9c1-a95c-4c2c-a2ee-7d8fde6fd3ca",
   "metadata": {},
   "source": [
    "*There are 55 null rate values of the same restaurant type in some rows but not null values in others*\\\n",
    "*So we will fill these null values*"
   ]
  },
  {
   "cell_type": "code",
   "execution_count": 96,
   "id": "4e11c3e8-2426-41bd-b309-52f0ab891ae1",
   "metadata": {},
   "outputs": [],
   "source": [
    "newDf[\"cost_for_two\"] = newDf.apply(lambda row : rating_nulls3.loc[row[\"rest_type\"]].cost_for_two \\\n",
    "                                     if pd.isna(row[\"cost_for_two\"]) else row[\"cost_for_two\"],axis=1)"
   ]
  },
  {
   "cell_type": "markdown",
   "id": "128896f5-3866-4c7f-92a3-a19dabf7ed21",
   "metadata": {},
   "source": [
    "### **Final Cleaned Data**"
   ]
  },
  {
   "cell_type": "code",
   "execution_count": 97,
   "id": "a9a04529-b731-4c30-8aa0-f9f3069b0441",
   "metadata": {
    "scrolled": true
   },
   "outputs": [
    {
     "data": {
      "text/html": [
       "<div>\n",
       "<style scoped>\n",
       "    .dataframe tbody tr th:only-of-type {\n",
       "        vertical-align: middle;\n",
       "    }\n",
       "\n",
       "    .dataframe tbody tr th {\n",
       "        vertical-align: top;\n",
       "    }\n",
       "\n",
       "    .dataframe thead th {\n",
       "        text-align: right;\n",
       "    }\n",
       "</style>\n",
       "<table border=\"1\" class=\"dataframe\">\n",
       "  <thead>\n",
       "    <tr style=\"text-align: right;\">\n",
       "      <th></th>\n",
       "      <th>url</th>\n",
       "      <th>name</th>\n",
       "      <th>online_order</th>\n",
       "      <th>book_table</th>\n",
       "      <th>ratings</th>\n",
       "      <th>votes</th>\n",
       "      <th>location</th>\n",
       "      <th>rest_type</th>\n",
       "      <th>cuisines</th>\n",
       "      <th>cost_for_two</th>\n",
       "      <th>listed_in(type)</th>\n",
       "    </tr>\n",
       "  </thead>\n",
       "  <tbody>\n",
       "    <tr>\n",
       "      <th>0</th>\n",
       "      <td>https://www.zomato.com/24-7RestaurantBangalore</td>\n",
       "      <td>24/7 - The Lalit Ashok Bangalore</td>\n",
       "      <td>No</td>\n",
       "      <td>Yes</td>\n",
       "      <td>4.0</td>\n",
       "      <td>344</td>\n",
       "      <td>Seshadripuram</td>\n",
       "      <td>Fine Dining</td>\n",
       "      <td>Continental, North Indian, Italian, Chinese</td>\n",
       "      <td>3000.0</td>\n",
       "      <td>Buffet, Dine-out</td>\n",
       "    </tr>\n",
       "    <tr>\n",
       "      <th>1</th>\n",
       "      <td>https://www.zomato.com/29degreesnorth</td>\n",
       "      <td>29 Degrees North</td>\n",
       "      <td>Yes</td>\n",
       "      <td>No</td>\n",
       "      <td>3.9</td>\n",
       "      <td>287</td>\n",
       "      <td>Banaswadi</td>\n",
       "      <td>Quick Bites</td>\n",
       "      <td>North Indian, Fast Food, Street Food</td>\n",
       "      <td>250.0</td>\n",
       "      <td>Delivery, Dine-out</td>\n",
       "    </tr>\n",
       "    <tr>\n",
       "      <th>2</th>\n",
       "      <td>https://www.zomato.com/ArborBrewIndia</td>\n",
       "      <td>Arbor Brewing Company</td>\n",
       "      <td>No</td>\n",
       "      <td>Yes</td>\n",
       "      <td>4.5</td>\n",
       "      <td>8419</td>\n",
       "      <td>Brigade Road</td>\n",
       "      <td>Pub, Microbrewery</td>\n",
       "      <td>American, Continental</td>\n",
       "      <td>2000.0</td>\n",
       "      <td>Dine-out, Drinks &amp; nightlife, Pubs and bars</td>\n",
       "    </tr>\n",
       "    <tr>\n",
       "      <th>3</th>\n",
       "      <td>https://www.zomato.com/BaluchiBangalore</td>\n",
       "      <td>Baluchi - The Lalit Ashok Bangalore</td>\n",
       "      <td>No</td>\n",
       "      <td>Yes</td>\n",
       "      <td>4.0</td>\n",
       "      <td>134</td>\n",
       "      <td>Seshadripuram</td>\n",
       "      <td>Fine Dining</td>\n",
       "      <td>North Indian, Kashmiri, Mughlai</td>\n",
       "      <td>3700.0</td>\n",
       "      <td>Dine-out</td>\n",
       "    </tr>\n",
       "    <tr>\n",
       "      <th>4</th>\n",
       "      <td>https://www.zomato.com/Barebones</td>\n",
       "      <td>Barebones - The Balcony Bar</td>\n",
       "      <td>No</td>\n",
       "      <td>Yes</td>\n",
       "      <td>4.2</td>\n",
       "      <td>2445</td>\n",
       "      <td>Indiranagar</td>\n",
       "      <td>Bar, Casual Dining</td>\n",
       "      <td>Chinese, Continental, Finger Food, Italian</td>\n",
       "      <td>1500.0</td>\n",
       "      <td>Dine-out, Drinks &amp; nightlife, Pubs and bars</td>\n",
       "    </tr>\n",
       "    <tr>\n",
       "      <th>...</th>\n",
       "      <td>...</td>\n",
       "      <td>...</td>\n",
       "      <td>...</td>\n",
       "      <td>...</td>\n",
       "      <td>...</td>\n",
       "      <td>...</td>\n",
       "      <td>...</td>\n",
       "      <td>...</td>\n",
       "      <td>...</td>\n",
       "      <td>...</td>\n",
       "      <td>...</td>\n",
       "    </tr>\n",
       "    <tr>\n",
       "      <th>12448</th>\n",
       "      <td>https://www.zomato.com/thesugarfactory</td>\n",
       "      <td>The Sugar Factory - Le Meridien</td>\n",
       "      <td>No</td>\n",
       "      <td>No</td>\n",
       "      <td>3.9</td>\n",
       "      <td>630</td>\n",
       "      <td>Sankey Road</td>\n",
       "      <td>Club</td>\n",
       "      <td>Finger Food</td>\n",
       "      <td>2000.0</td>\n",
       "      <td>Dine-out, Drinks &amp; nightlife</td>\n",
       "    </tr>\n",
       "    <tr>\n",
       "      <th>12449</th>\n",
       "      <td>https://www.zomato.com/theunderpassblr</td>\n",
       "      <td>The Underpass Pub &amp; Grub</td>\n",
       "      <td>No</td>\n",
       "      <td>Yes</td>\n",
       "      <td>4.0</td>\n",
       "      <td>726</td>\n",
       "      <td>JP Nagar</td>\n",
       "      <td>Pub, Casual Dining</td>\n",
       "      <td>Finger Food, Continental, North Indian, Chinese</td>\n",
       "      <td>1500.0</td>\n",
       "      <td>Dine-out, Drinks &amp; nightlife</td>\n",
       "    </tr>\n",
       "    <tr>\n",
       "      <th>12450</th>\n",
       "      <td>https://www.zomato.com/ucfastfood</td>\n",
       "      <td>United Cafe &amp; Fastfood</td>\n",
       "      <td>No</td>\n",
       "      <td>No</td>\n",
       "      <td>3.2</td>\n",
       "      <td>0</td>\n",
       "      <td>New BEL Road</td>\n",
       "      <td>Quick Bites</td>\n",
       "      <td>Fast Food, North Indian</td>\n",
       "      <td>400.0</td>\n",
       "      <td>Delivery, Dine-out</td>\n",
       "    </tr>\n",
       "    <tr>\n",
       "      <th>12451</th>\n",
       "      <td>https://www.zomato.com/umashomefood</td>\n",
       "      <td>Uma's Home Food</td>\n",
       "      <td>No</td>\n",
       "      <td>No</td>\n",
       "      <td>3.6</td>\n",
       "      <td>15</td>\n",
       "      <td>Marathahalli</td>\n",
       "      <td>Delivery</td>\n",
       "      <td>Healthy Food</td>\n",
       "      <td>300.0</td>\n",
       "      <td>Delivery</td>\n",
       "    </tr>\n",
       "    <tr>\n",
       "      <th>12452</th>\n",
       "      <td>https://www.zomato.com/zyksha-food-truck</td>\n",
       "      <td>Zyksha</td>\n",
       "      <td>No</td>\n",
       "      <td>No</td>\n",
       "      <td>3.4</td>\n",
       "      <td>9</td>\n",
       "      <td>South Bangalore</td>\n",
       "      <td>Food Truck</td>\n",
       "      <td>Fast Food</td>\n",
       "      <td>200.0</td>\n",
       "      <td>Delivery, Dine-out</td>\n",
       "    </tr>\n",
       "  </tbody>\n",
       "</table>\n",
       "<p>12453 rows × 11 columns</p>\n",
       "</div>"
      ],
      "text/plain": [
       "                                                  url  \\\n",
       "0      https://www.zomato.com/24-7RestaurantBangalore   \n",
       "1               https://www.zomato.com/29degreesnorth   \n",
       "2               https://www.zomato.com/ArborBrewIndia   \n",
       "3             https://www.zomato.com/BaluchiBangalore   \n",
       "4                    https://www.zomato.com/Barebones   \n",
       "...                                               ...   \n",
       "12448          https://www.zomato.com/thesugarfactory   \n",
       "12449          https://www.zomato.com/theunderpassblr   \n",
       "12450               https://www.zomato.com/ucfastfood   \n",
       "12451             https://www.zomato.com/umashomefood   \n",
       "12452        https://www.zomato.com/zyksha-food-truck   \n",
       "\n",
       "                                      name online_order book_table  ratings  \\\n",
       "0         24/7 - The Lalit Ashok Bangalore           No        Yes      4.0   \n",
       "1                         29 Degrees North          Yes         No      3.9   \n",
       "2                    Arbor Brewing Company           No        Yes      4.5   \n",
       "3      Baluchi - The Lalit Ashok Bangalore           No        Yes      4.0   \n",
       "4              Barebones - The Balcony Bar           No        Yes      4.2   \n",
       "...                                    ...          ...        ...      ...   \n",
       "12448      The Sugar Factory - Le Meridien           No         No      3.9   \n",
       "12449             The Underpass Pub & Grub           No        Yes      4.0   \n",
       "12450               United Cafe & Fastfood           No         No      3.2   \n",
       "12451                      Uma's Home Food           No         No      3.6   \n",
       "12452                               Zyksha           No         No      3.4   \n",
       "\n",
       "       votes         location           rest_type  \\\n",
       "0        344    Seshadripuram         Fine Dining   \n",
       "1        287        Banaswadi         Quick Bites   \n",
       "2       8419     Brigade Road   Pub, Microbrewery   \n",
       "3        134    Seshadripuram         Fine Dining   \n",
       "4       2445      Indiranagar  Bar, Casual Dining   \n",
       "...      ...              ...                 ...   \n",
       "12448    630      Sankey Road                Club   \n",
       "12449    726         JP Nagar  Pub, Casual Dining   \n",
       "12450      0     New BEL Road         Quick Bites   \n",
       "12451     15     Marathahalli            Delivery   \n",
       "12452      9  South Bangalore          Food Truck   \n",
       "\n",
       "                                              cuisines  cost_for_two  \\\n",
       "0          Continental, North Indian, Italian, Chinese        3000.0   \n",
       "1                 North Indian, Fast Food, Street Food         250.0   \n",
       "2                                American, Continental        2000.0   \n",
       "3                      North Indian, Kashmiri, Mughlai        3700.0   \n",
       "4           Chinese, Continental, Finger Food, Italian        1500.0   \n",
       "...                                                ...           ...   \n",
       "12448                                      Finger Food        2000.0   \n",
       "12449  Finger Food, Continental, North Indian, Chinese        1500.0   \n",
       "12450                          Fast Food, North Indian         400.0   \n",
       "12451                                     Healthy Food         300.0   \n",
       "12452                                        Fast Food         200.0   \n",
       "\n",
       "                                   listed_in(type)  \n",
       "0                                 Buffet, Dine-out  \n",
       "1                               Delivery, Dine-out  \n",
       "2      Dine-out, Drinks & nightlife, Pubs and bars  \n",
       "3                                         Dine-out  \n",
       "4      Dine-out, Drinks & nightlife, Pubs and bars  \n",
       "...                                            ...  \n",
       "12448                 Dine-out, Drinks & nightlife  \n",
       "12449                 Dine-out, Drinks & nightlife  \n",
       "12450                           Delivery, Dine-out  \n",
       "12451                                     Delivery  \n",
       "12452                           Delivery, Dine-out  \n",
       "\n",
       "[12453 rows x 11 columns]"
      ]
     },
     "execution_count": 97,
     "metadata": {},
     "output_type": "execute_result"
    }
   ],
   "source": [
    "newDf"
   ]
  },
  {
   "cell_type": "code",
   "execution_count": 98,
   "id": "612580b9-dcd1-4d2e-98e1-c71413cbe291",
   "metadata": {},
   "outputs": [
    {
     "data": {
      "text/plain": [
       "url                0\n",
       "name               0\n",
       "online_order       0\n",
       "book_table         0\n",
       "ratings            0\n",
       "votes              0\n",
       "location           0\n",
       "rest_type          0\n",
       "cuisines           0\n",
       "cost_for_two       0\n",
       "listed_in(type)    0\n",
       "dtype: int64"
      ]
     },
     "execution_count": 98,
     "metadata": {},
     "output_type": "execute_result"
    }
   ],
   "source": [
    "newDf.isnull().sum()"
   ]
  },
  {
   "cell_type": "code",
   "execution_count": 99,
   "id": "6d958485-1c83-42b8-aefd-6852c4a8a5fb",
   "metadata": {
    "collapsed": true,
    "jupyter": {
     "outputs_hidden": true
    }
   },
   "outputs": [
    {
     "name": "stdout",
     "output_type": "stream",
     "text": [
      "<class 'pandas.core.frame.DataFrame'>\n",
      "RangeIndex: 12453 entries, 0 to 12452\n",
      "Data columns (total 11 columns):\n",
      " #   Column           Non-Null Count  Dtype  \n",
      "---  ------           --------------  -----  \n",
      " 0   url              12453 non-null  object \n",
      " 1   name             12453 non-null  object \n",
      " 2   online_order     12453 non-null  object \n",
      " 3   book_table       12453 non-null  object \n",
      " 4   ratings          12453 non-null  float64\n",
      " 5   votes            12453 non-null  int64  \n",
      " 6   location         12453 non-null  object \n",
      " 7   rest_type        12453 non-null  object \n",
      " 8   cuisines         12453 non-null  object \n",
      " 9   cost_for_two     12453 non-null  float64\n",
      " 10  listed_in(type)  12453 non-null  object \n",
      "dtypes: float64(2), int64(1), object(8)\n",
      "memory usage: 1.0+ MB\n"
     ]
    }
   ],
   "source": [
    "newDf.info()"
   ]
  },
  {
   "cell_type": "markdown",
   "id": "149029b4-5dd8-4dae-8b37-b53b59892c1c",
   "metadata": {},
   "source": [
    "**There are no null values and all columns have their appropriate data types**\\\n",
    "**So we can consider our data has been cleaned successfully**"
   ]
  },
  {
   "cell_type": "code",
   "execution_count": 100,
   "id": "74db1b31-cc80-4cce-a393-df53de5bdeec",
   "metadata": {},
   "outputs": [],
   "source": [
    "del df"
   ]
  },
  {
   "cell_type": "code",
   "execution_count": 101,
   "id": "d010d7fd-fdb7-4e93-b57c-75bb42225e1f",
   "metadata": {},
   "outputs": [],
   "source": [
    "df=newDf"
   ]
  },
  {
   "cell_type": "code",
   "execution_count": 102,
   "id": "d175c1ab-446f-4062-a884-fb78f7c92d40",
   "metadata": {},
   "outputs": [],
   "source": [
    "df.to_csv(\"Fully Cleaned Zomato Data.csv\",index=False)"
   ]
  },
  {
   "cell_type": "code",
   "execution_count": null,
   "id": "d7ef0170-7d7b-4b14-8f3f-9a1c05ae2ecb",
   "metadata": {},
   "outputs": [],
   "source": []
  },
  {
   "cell_type": "code",
   "execution_count": null,
   "id": "8d500b96-b646-4c95-869f-7a5eaea751d8",
   "metadata": {},
   "outputs": [],
   "source": []
  },
  {
   "cell_type": "code",
   "execution_count": null,
   "id": "47743429-1bcd-47b3-aa40-4c1b87d386c5",
   "metadata": {},
   "outputs": [],
   "source": []
  },
  {
   "cell_type": "code",
   "execution_count": null,
   "id": "e4ab1969-6baa-4b82-b925-a8610d63bde0",
   "metadata": {},
   "outputs": [],
   "source": []
  }
 ],
 "metadata": {
  "kernelspec": {
   "display_name": "Python 3 (ipykernel)",
   "language": "python",
   "name": "python3"
  },
  "language_info": {
   "codemirror_mode": {
    "name": "ipython",
    "version": 3
   },
   "file_extension": ".py",
   "mimetype": "text/x-python",
   "name": "python",
   "nbconvert_exporter": "python",
   "pygments_lexer": "ipython3",
   "version": "3.10.9"
  }
 },
 "nbformat": 4,
 "nbformat_minor": 5
}
